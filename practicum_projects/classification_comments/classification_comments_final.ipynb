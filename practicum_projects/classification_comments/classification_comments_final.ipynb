{
 "cells": [
  {
   "cell_type": "markdown",
   "id": "433ec539",
   "metadata": {},
   "source": [
    "## Подготовка"
   ]
  },
  {
   "cell_type": "code",
   "execution_count": 1,
   "id": "95883171",
   "metadata": {
    "scrolled": true
   },
   "outputs": [
    {
     "name": "stdout",
     "output_type": "stream",
     "text": [
      "Requirement already satisfied: spaCy in c:\\users\\danii\\anaconda3\\lib\\site-packages (3.5.3)Note: you may need to restart the kernel to use updated packages.\n",
      "\n",
      "Requirement already satisfied: catalogue<2.1.0,>=2.0.6 in c:\\users\\danii\\anaconda3\\lib\\site-packages (from spaCy) (2.0.8)\n",
      "Requirement already satisfied: spacy-loggers<2.0.0,>=1.0.0 in c:\\users\\danii\\anaconda3\\lib\\site-packages (from spaCy) (1.0.4)\n",
      "Requirement already satisfied: preshed<3.1.0,>=3.0.2 in c:\\users\\danii\\anaconda3\\lib\\site-packages (from spaCy) (3.0.8)\n",
      "Requirement already satisfied: cymem<2.1.0,>=2.0.2 in c:\\users\\danii\\anaconda3\\lib\\site-packages (from spaCy) (2.0.7)\n",
      "Requirement already satisfied: wasabi<1.2.0,>=0.9.1 in c:\\users\\danii\\anaconda3\\lib\\site-packages (from spaCy) (1.1.1)\n",
      "Requirement already satisfied: jinja2 in c:\\users\\danii\\anaconda3\\lib\\site-packages (from spaCy) (3.1.2)\n",
      "Requirement already satisfied: srsly<3.0.0,>=2.4.3 in c:\\users\\danii\\anaconda3\\lib\\site-packages (from spaCy) (2.4.6)\n",
      "Requirement already satisfied: tqdm<5.0.0,>=4.38.0 in c:\\users\\danii\\anaconda3\\lib\\site-packages (from spaCy) (4.64.1)\n",
      "Requirement already satisfied: pathy>=0.10.0 in c:\\users\\danii\\anaconda3\\lib\\site-packages (from spaCy) (0.10.1)\n",
      "Requirement already satisfied: typer<0.8.0,>=0.3.0 in c:\\users\\danii\\anaconda3\\lib\\site-packages (from spaCy) (0.7.0)\n",
      "Requirement already satisfied: murmurhash<1.1.0,>=0.28.0 in c:\\users\\danii\\anaconda3\\lib\\site-packages (from spaCy) (1.0.9)\n",
      "Requirement already satisfied: spacy-legacy<3.1.0,>=3.0.11 in c:\\users\\danii\\anaconda3\\lib\\site-packages (from spaCy) (3.0.12)\n",
      "Requirement already satisfied: thinc<8.2.0,>=8.1.8 in c:\\users\\danii\\anaconda3\\lib\\site-packages (from spaCy) (8.1.10)\n",
      "Requirement already satisfied: pydantic!=1.8,!=1.8.1,<1.11.0,>=1.7.4 in c:\\users\\danii\\anaconda3\\lib\\site-packages (from spaCy) (1.10.8)\n",
      "Requirement already satisfied: requests<3.0.0,>=2.13.0 in c:\\users\\danii\\anaconda3\\lib\\site-packages (from spaCy) (2.28.1)\n",
      "Requirement already satisfied: langcodes<4.0.0,>=3.2.0 in c:\\users\\danii\\anaconda3\\lib\\site-packages (from spaCy) (3.3.0)\n",
      "Requirement already satisfied: numpy>=1.15.0 in c:\\users\\danii\\anaconda3\\lib\\site-packages (from spaCy) (1.23.5)\n",
      "Requirement already satisfied: packaging>=20.0 in c:\\users\\danii\\anaconda3\\lib\\site-packages (from spaCy) (22.0)\n",
      "Requirement already satisfied: setuptools in c:\\users\\danii\\anaconda3\\lib\\site-packages (from spaCy) (65.6.3)\n",
      "Requirement already satisfied: smart-open<7.0.0,>=5.2.1 in c:\\users\\danii\\anaconda3\\lib\\site-packages (from spaCy) (5.2.1)\n",
      "Requirement already satisfied: typing-extensions>=4.2.0 in c:\\users\\danii\\anaconda3\\lib\\site-packages (from pydantic!=1.8,!=1.8.1,<1.11.0,>=1.7.4->spaCy) (4.4.0)\n",
      "Requirement already satisfied: charset-normalizer<3,>=2 in c:\\users\\danii\\anaconda3\\lib\\site-packages (from requests<3.0.0,>=2.13.0->spaCy) (2.0.4)\n",
      "Requirement already satisfied: urllib3<1.27,>=1.21.1 in c:\\users\\danii\\anaconda3\\lib\\site-packages (from requests<3.0.0,>=2.13.0->spaCy) (1.26.14)\n",
      "Requirement already satisfied: certifi>=2017.4.17 in c:\\users\\danii\\anaconda3\\lib\\site-packages (from requests<3.0.0,>=2.13.0->spaCy) (2022.12.7)\n",
      "Requirement already satisfied: idna<4,>=2.5 in c:\\users\\danii\\anaconda3\\lib\\site-packages (from requests<3.0.0,>=2.13.0->spaCy) (3.4)\n",
      "Requirement already satisfied: confection<1.0.0,>=0.0.1 in c:\\users\\danii\\anaconda3\\lib\\site-packages (from thinc<8.2.0,>=8.1.8->spaCy) (0.0.4)\n",
      "Requirement already satisfied: blis<0.8.0,>=0.7.8 in c:\\users\\danii\\anaconda3\\lib\\site-packages (from thinc<8.2.0,>=8.1.8->spaCy) (0.7.9)\n",
      "Requirement already satisfied: colorama in c:\\users\\danii\\anaconda3\\lib\\site-packages (from tqdm<5.0.0,>=4.38.0->spaCy) (0.4.6)\n",
      "Requirement already satisfied: click<9.0.0,>=7.1.1 in c:\\users\\danii\\anaconda3\\lib\\site-packages (from typer<0.8.0,>=0.3.0->spaCy) (8.0.4)\n",
      "Requirement already satisfied: MarkupSafe>=2.0 in c:\\users\\danii\\anaconda3\\lib\\site-packages (from jinja2->spaCy) (2.1.1)\n"
     ]
    }
   ],
   "source": [
    "pip install spaCy"
   ]
  },
  {
   "cell_type": "code",
   "execution_count": 2,
   "id": "009208ea",
   "metadata": {},
   "outputs": [
    {
     "name": "stdout",
     "output_type": "stream",
     "text": [
      "Requirement already satisfied: nltk in c:\\users\\danii\\anaconda3\\lib\\site-packages (3.7)\n",
      "Requirement already satisfied: tqdm in c:\\users\\danii\\anaconda3\\lib\\site-packages (from nltk) (4.64.1)\n",
      "Requirement already satisfied: regex>=2021.8.3 in c:\\users\\danii\\anaconda3\\lib\\site-packages (from nltk) (2022.7.9)\n",
      "Requirement already satisfied: click in c:\\users\\danii\\anaconda3\\lib\\site-packages (from nltk) (8.0.4)\n",
      "Requirement already satisfied: joblib in c:\\users\\danii\\anaconda3\\lib\\site-packages (from nltk) (1.1.1)\n",
      "Requirement already satisfied: colorama in c:\\users\\danii\\anaconda3\\lib\\site-packages (from click->nltk) (0.4.6)\n",
      "Note: you may need to restart the kernel to use updated packages.\n"
     ]
    }
   ],
   "source": [
    "pip install nltk"
   ]
  },
  {
   "cell_type": "code",
   "execution_count": 3,
   "id": "ec334011",
   "metadata": {},
   "outputs": [
    {
     "name": "stdout",
     "output_type": "stream",
     "text": [
      "Requirement already satisfied: pandas in c:\\users\\danii\\anaconda3\\lib\\site-packages (1.5.3)\n",
      "Requirement already satisfied: jupyter in c:\\users\\danii\\anaconda3\\lib\\site-packages (1.0.0)\n",
      "Requirement already satisfied: pandarallel in c:\\users\\danii\\anaconda3\\lib\\site-packages (1.6.5)\n",
      "Requirement already satisfied: python-dateutil>=2.8.1 in c:\\users\\danii\\anaconda3\\lib\\site-packages (from pandas) (2.8.2)\n",
      "Requirement already satisfied: pytz>=2020.1 in c:\\users\\danii\\anaconda3\\lib\\site-packages (from pandas) (2022.7)\n",
      "Requirement already satisfied: numpy>=1.21.0 in c:\\users\\danii\\anaconda3\\lib\\site-packages (from pandas) (1.23.5)\n",
      "Requirement already satisfied: nbconvert in c:\\users\\danii\\anaconda3\\lib\\site-packages (from jupyter) (6.5.4)\n",
      "Requirement already satisfied: jupyter-console in c:\\users\\danii\\anaconda3\\lib\\site-packages (from jupyter) (6.6.2)\n",
      "Requirement already satisfied: notebook in c:\\users\\danii\\anaconda3\\lib\\site-packages (from jupyter) (6.4.0)\n",
      "Requirement already satisfied: qtconsole in c:\\users\\danii\\anaconda3\\lib\\site-packages (from jupyter) (5.4.0)\n",
      "Requirement already satisfied: ipywidgets in c:\\users\\danii\\anaconda3\\lib\\site-packages (from jupyter) (7.6.5)\n",
      "Requirement already satisfied: ipykernel in c:\\users\\danii\\anaconda3\\lib\\site-packages (from jupyter) (6.19.2)\n",
      "Requirement already satisfied: psutil in c:\\users\\danii\\anaconda3\\lib\\site-packages (from pandarallel) (5.9.0)\n",
      "Requirement already satisfied: dill>=0.3.1 in c:\\users\\danii\\anaconda3\\lib\\site-packages (from pandarallel) (0.3.6)\n",
      "Requirement already satisfied: six>=1.5 in c:\\users\\danii\\anaconda3\\lib\\site-packages (from python-dateutil>=2.8.1->pandas) (1.16.0)\n",
      "Requirement already satisfied: pyzmq>=17 in c:\\users\\danii\\anaconda3\\lib\\site-packages (from ipykernel->jupyter) (23.2.0)\n",
      "Requirement already satisfied: nest-asyncio in c:\\users\\danii\\anaconda3\\lib\\site-packages (from ipykernel->jupyter) (1.5.6)\n",
      "Requirement already satisfied: matplotlib-inline>=0.1 in c:\\users\\danii\\anaconda3\\lib\\site-packages (from ipykernel->jupyter) (0.1.6)\n",
      "Requirement already satisfied: comm>=0.1.1 in c:\\users\\danii\\anaconda3\\lib\\site-packages (from ipykernel->jupyter) (0.1.2)\n",
      "Requirement already satisfied: tornado>=6.1 in c:\\users\\danii\\anaconda3\\lib\\site-packages (from ipykernel->jupyter) (6.1)\n",
      "Requirement already satisfied: traitlets>=5.4.0 in c:\\users\\danii\\anaconda3\\lib\\site-packages (from ipykernel->jupyter) (5.7.1)\n",
      "Requirement already satisfied: ipython>=7.23.1 in c:\\users\\danii\\anaconda3\\lib\\site-packages (from ipykernel->jupyter) (8.10.0)\n",
      "Requirement already satisfied: jupyter-client>=6.1.12 in c:\\users\\danii\\anaconda3\\lib\\site-packages (from ipykernel->jupyter) (7.3.4)\n",
      "Requirement already satisfied: debugpy>=1.0 in c:\\users\\danii\\anaconda3\\lib\\site-packages (from ipykernel->jupyter) (1.5.1)\n",
      "Requirement already satisfied: packaging in c:\\users\\danii\\anaconda3\\lib\\site-packages (from ipykernel->jupyter) (22.0)\n",
      "Requirement already satisfied: ipython-genutils~=0.2.0 in c:\\users\\danii\\anaconda3\\lib\\site-packages (from ipywidgets->jupyter) (0.2.0)\n",
      "Requirement already satisfied: jupyterlab-widgets>=1.0.0 in c:\\users\\danii\\anaconda3\\lib\\site-packages (from ipywidgets->jupyter) (1.0.0)\n",
      "Requirement already satisfied: nbformat>=4.2.0 in c:\\users\\danii\\anaconda3\\lib\\site-packages (from ipywidgets->jupyter) (5.7.0)\n",
      "Requirement already satisfied: widgetsnbextension~=3.5.0 in c:\\users\\danii\\anaconda3\\lib\\site-packages (from ipywidgets->jupyter) (3.5.2)\n",
      "Requirement already satisfied: prompt-toolkit>=3.0.30 in c:\\users\\danii\\anaconda3\\lib\\site-packages (from jupyter-console->jupyter) (3.0.36)\n",
      "Requirement already satisfied: pygments in c:\\users\\danii\\anaconda3\\lib\\site-packages (from jupyter-console->jupyter) (2.11.2)\n",
      "Requirement already satisfied: jupyter-core!=5.0.*,>=4.12 in c:\\users\\danii\\anaconda3\\lib\\site-packages (from jupyter-console->jupyter) (5.2.0)\n",
      "Requirement already satisfied: pandocfilters>=1.4.1 in c:\\users\\danii\\anaconda3\\lib\\site-packages (from nbconvert->jupyter) (1.5.0)\n",
      "Requirement already satisfied: nbclient>=0.5.0 in c:\\users\\danii\\anaconda3\\lib\\site-packages (from nbconvert->jupyter) (0.5.13)\n",
      "Requirement already satisfied: MarkupSafe>=2.0 in c:\\users\\danii\\anaconda3\\lib\\site-packages (from nbconvert->jupyter) (2.1.1)\n",
      "Requirement already satisfied: defusedxml in c:\\users\\danii\\anaconda3\\lib\\site-packages (from nbconvert->jupyter) (0.7.1)\n",
      "Requirement already satisfied: lxml in c:\\users\\danii\\anaconda3\\lib\\site-packages (from nbconvert->jupyter) (4.9.1)\n",
      "Requirement already satisfied: mistune<2,>=0.8.1 in c:\\users\\danii\\anaconda3\\lib\\site-packages (from nbconvert->jupyter) (0.8.4)\n",
      "Requirement already satisfied: entrypoints>=0.2.2 in c:\\users\\danii\\anaconda3\\lib\\site-packages (from nbconvert->jupyter) (0.4)\n",
      "Requirement already satisfied: tinycss2 in c:\\users\\danii\\anaconda3\\lib\\site-packages (from nbconvert->jupyter) (1.2.1)\n",
      "Requirement already satisfied: jinja2>=3.0 in c:\\users\\danii\\anaconda3\\lib\\site-packages (from nbconvert->jupyter) (3.1.2)\n",
      "Requirement already satisfied: bleach in c:\\users\\danii\\anaconda3\\lib\\site-packages (from nbconvert->jupyter) (4.1.0)\n",
      "Requirement already satisfied: beautifulsoup4 in c:\\users\\danii\\anaconda3\\lib\\site-packages (from nbconvert->jupyter) (4.11.1)\n",
      "Requirement already satisfied: jupyterlab-pygments in c:\\users\\danii\\anaconda3\\lib\\site-packages (from nbconvert->jupyter) (0.1.2)\n",
      "Requirement already satisfied: argon2-cffi in c:\\users\\danii\\anaconda3\\lib\\site-packages (from notebook->jupyter) (21.3.0)\n",
      "Requirement already satisfied: Send2Trash>=1.5.0 in c:\\users\\danii\\anaconda3\\lib\\site-packages (from notebook->jupyter) (1.8.0)\n",
      "Requirement already satisfied: terminado>=0.8.3 in c:\\users\\danii\\anaconda3\\lib\\site-packages (from notebook->jupyter) (0.17.1)\n",
      "Requirement already satisfied: prometheus-client in c:\\users\\danii\\anaconda3\\lib\\site-packages (from notebook->jupyter) (0.14.1)\n",
      "Requirement already satisfied: qtpy>=2.0.1 in c:\\users\\danii\\anaconda3\\lib\\site-packages (from qtconsole->jupyter) (2.2.0)\n",
      "Requirement already satisfied: decorator in c:\\users\\danii\\anaconda3\\lib\\site-packages (from ipython>=7.23.1->ipykernel->jupyter) (5.1.1)\n",
      "Requirement already satisfied: stack-data in c:\\users\\danii\\anaconda3\\lib\\site-packages (from ipython>=7.23.1->ipykernel->jupyter) (0.2.0)\n",
      "Requirement already satisfied: pickleshare in c:\\users\\danii\\anaconda3\\lib\\site-packages (from ipython>=7.23.1->ipykernel->jupyter) (0.7.5)\n",
      "Requirement already satisfied: backcall in c:\\users\\danii\\anaconda3\\lib\\site-packages (from ipython>=7.23.1->ipykernel->jupyter) (0.2.0)\n",
      "Requirement already satisfied: jedi>=0.16 in c:\\users\\danii\\anaconda3\\lib\\site-packages (from ipython>=7.23.1->ipykernel->jupyter) (0.18.1)\n",
      "Requirement already satisfied: colorama in c:\\users\\danii\\anaconda3\\lib\\site-packages (from ipython>=7.23.1->ipykernel->jupyter) (0.4.6)\n",
      "Requirement already satisfied: pywin32>=1.0 in c:\\users\\danii\\anaconda3\\lib\\site-packages (from jupyter-core!=5.0.*,>=4.12->jupyter-console->jupyter) (305.1)\n",
      "Requirement already satisfied: platformdirs>=2.5 in c:\\users\\danii\\anaconda3\\lib\\site-packages (from jupyter-core!=5.0.*,>=4.12->jupyter-console->jupyter) (2.5.2)\n",
      "Requirement already satisfied: jsonschema>=2.6 in c:\\users\\danii\\anaconda3\\lib\\site-packages (from nbformat>=4.2.0->ipywidgets->jupyter) (4.17.3)\n",
      "Requirement already satisfied: fastjsonschema in c:\\users\\danii\\anaconda3\\lib\\site-packages (from nbformat>=4.2.0->ipywidgets->jupyter) (2.16.2)\n",
      "Requirement already satisfied: wcwidth in c:\\users\\danii\\anaconda3\\lib\\site-packages (from prompt-toolkit>=3.0.30->jupyter-console->jupyter) (0.2.5)\n",
      "Requirement already satisfied: pywinpty>=1.1.0 in c:\\users\\danii\\anaconda3\\lib\\site-packages (from terminado>=0.8.3->notebook->jupyter) (2.0.10)\n",
      "Requirement already satisfied: argon2-cffi-bindings in c:\\users\\danii\\anaconda3\\lib\\site-packages (from argon2-cffi->notebook->jupyter) (21.2.0)\n",
      "Requirement already satisfied: soupsieve>1.2 in c:\\users\\danii\\anaconda3\\lib\\site-packages (from beautifulsoup4->nbconvert->jupyter) (2.3.2.post1)\n",
      "Requirement already satisfied: webencodings in c:\\users\\danii\\anaconda3\\lib\\site-packages (from bleach->nbconvert->jupyter) (0.5.1)\n",
      "Requirement already satisfied: parso<0.9.0,>=0.8.0 in c:\\users\\danii\\anaconda3\\lib\\site-packages (from jedi>=0.16->ipython>=7.23.1->ipykernel->jupyter) (0.8.3)\n",
      "Requirement already satisfied: pyrsistent!=0.17.0,!=0.17.1,!=0.17.2,>=0.14.0 in c:\\users\\danii\\anaconda3\\lib\\site-packages (from jsonschema>=2.6->nbformat>=4.2.0->ipywidgets->jupyter) (0.18.0)\n",
      "Requirement already satisfied: attrs>=17.4.0 in c:\\users\\danii\\anaconda3\\lib\\site-packages (from jsonschema>=2.6->nbformat>=4.2.0->ipywidgets->jupyter) (22.1.0)\n",
      "Requirement already satisfied: cffi>=1.0.1 in c:\\users\\danii\\anaconda3\\lib\\site-packages (from argon2-cffi-bindings->argon2-cffi->notebook->jupyter) (1.15.1)\n",
      "Requirement already satisfied: executing in c:\\users\\danii\\anaconda3\\lib\\site-packages (from stack-data->ipython>=7.23.1->ipykernel->jupyter) (0.8.3)\n",
      "Requirement already satisfied: pure-eval in c:\\users\\danii\\anaconda3\\lib\\site-packages (from stack-data->ipython>=7.23.1->ipykernel->jupyter) (0.2.2)\n",
      "Requirement already satisfied: asttokens in c:\\users\\danii\\anaconda3\\lib\\site-packages (from stack-data->ipython>=7.23.1->ipykernel->jupyter) (2.0.5)\n",
      "Requirement already satisfied: pycparser in c:\\users\\danii\\anaconda3\\lib\\site-packages (from cffi>=1.0.1->argon2-cffi-bindings->argon2-cffi->notebook->jupyter) (2.21)\n",
      "Note: you may need to restart the kernel to use updated packages.\n"
     ]
    }
   ],
   "source": [
    "pip install pandas jupyter pandarallel "
   ]
  },
  {
   "cell_type": "code",
   "execution_count": 4,
   "id": "164847bf",
   "metadata": {},
   "outputs": [
    {
     "name": "stdout",
     "output_type": "stream",
     "text": [
      "Requirement already satisfied: wordcloud in c:\\users\\danii\\anaconda3\\lib\\site-packages (1.9.2)\n",
      "Requirement already satisfied: numpy>=1.6.1 in c:\\users\\danii\\anaconda3\\lib\\site-packages (from wordcloud) (1.23.5)\n",
      "Requirement already satisfied: pillow in c:\\users\\danii\\anaconda3\\lib\\site-packages (from wordcloud) (9.4.0)\n",
      "Requirement already satisfied: matplotlib in c:\\users\\danii\\anaconda3\\lib\\site-packages (from wordcloud) (3.7.0)\n",
      "Requirement already satisfied: pyparsing>=2.3.1 in c:\\users\\danii\\anaconda3\\lib\\site-packages (from matplotlib->wordcloud) (3.0.9)\n",
      "Requirement already satisfied: python-dateutil>=2.7 in c:\\users\\danii\\anaconda3\\lib\\site-packages (from matplotlib->wordcloud) (2.8.2)\n",
      "Requirement already satisfied: cycler>=0.10 in c:\\users\\danii\\anaconda3\\lib\\site-packages (from matplotlib->wordcloud) (0.11.0)\n",
      "Requirement already satisfied: kiwisolver>=1.0.1 in c:\\users\\danii\\anaconda3\\lib\\site-packages (from matplotlib->wordcloud) (1.4.4)\n",
      "Requirement already satisfied: fonttools>=4.22.0 in c:\\users\\danii\\anaconda3\\lib\\site-packages (from matplotlib->wordcloud) (4.25.0)\n",
      "Requirement already satisfied: contourpy>=1.0.1 in c:\\users\\danii\\anaconda3\\lib\\site-packages (from matplotlib->wordcloud) (1.0.5)\n",
      "Requirement already satisfied: packaging>=20.0 in c:\\users\\danii\\anaconda3\\lib\\site-packages (from matplotlib->wordcloud) (22.0)\n",
      "Requirement already satisfied: six>=1.5 in c:\\users\\danii\\anaconda3\\lib\\site-packages (from python-dateutil>=2.7->matplotlib->wordcloud) (1.16.0)\n",
      "Note: you may need to restart the kernel to use updated packages.\n"
     ]
    }
   ],
   "source": [
    "pip install wordcloud"
   ]
  },
  {
   "cell_type": "code",
   "execution_count": 5,
   "id": "838d1736",
   "metadata": {},
   "outputs": [
    {
     "name": "stdout",
     "output_type": "stream",
     "text": [
      "Requirement already satisfied: lightgbm in c:\\users\\danii\\anaconda3\\lib\\site-packages (3.3.5)\n",
      "Requirement already satisfied: scipy in c:\\users\\danii\\anaconda3\\lib\\site-packages (from lightgbm) (1.10.0)\n",
      "Requirement already satisfied: scikit-learn!=0.22.0 in c:\\users\\danii\\anaconda3\\lib\\site-packages (from lightgbm) (1.2.1)\n",
      "Requirement already satisfied: numpy in c:\\users\\danii\\anaconda3\\lib\\site-packages (from lightgbm) (1.23.5)\n",
      "Requirement already satisfied: wheel in c:\\users\\danii\\anaconda3\\lib\\site-packages (from lightgbm) (0.38.4)\n",
      "Requirement already satisfied: joblib>=1.1.1 in c:\\users\\danii\\anaconda3\\lib\\site-packages (from scikit-learn!=0.22.0->lightgbm) (1.1.1)\n",
      "Requirement already satisfied: threadpoolctl>=2.0.0 in c:\\users\\danii\\anaconda3\\lib\\site-packages (from scikit-learn!=0.22.0->lightgbm) (2.2.0)\n",
      "Note: you may need to restart the kernel to use updated packages.\n"
     ]
    }
   ],
   "source": [
    "pip install lightgbm"
   ]
  },
  {
   "cell_type": "code",
   "execution_count": 6,
   "id": "daa3859c",
   "metadata": {},
   "outputs": [
    {
     "name": "stdout",
     "output_type": "stream",
     "text": [
      "INFO: Pandarallel will run on 2 workers.\n",
      "INFO: Pandarallel will use standard multiprocessing data transfer (pipe) to transfer data between the main process and workers.\n",
      "\n",
      "WARNING: You are on Windows. If you detect any issue with pandarallel, be sure you checked out the Troubleshooting page:\n",
      "https://nalepae.github.io/pandarallel/troubleshooting/\n"
     ]
    },
    {
     "name": "stderr",
     "output_type": "stream",
     "text": [
      "[nltk_data] Downloading package stopwords to\n",
      "[nltk_data]     C:\\Users\\danii\\AppData\\Roaming\\nltk_data...\n",
      "[nltk_data]   Package stopwords is already up-to-date!\n"
     ]
    },
    {
     "data": {
      "text/plain": [
       "True"
      ]
     },
     "execution_count": 6,
     "metadata": {},
     "output_type": "execute_result"
    }
   ],
   "source": [
    "import re\n",
    "import nltk\n",
    "import numpy as np\n",
    "import pandas as pd\n",
    "import spacy\n",
    "import matplotlib.pyplot as plt\n",
    "\n",
    "from datetime import datetime\n",
    "from nltk.corpus import stopwords\n",
    "from sklearn.feature_extraction.text import CountVectorizer, TfidfVectorizer\n",
    "from sklearn.linear_model import LogisticRegression, PassiveAggressiveClassifier\n",
    "from sklearn.metrics import f1_score\n",
    "from sklearn.model_selection import train_test_split, GridSearchCV\n",
    "from sklearn.pipeline import Pipeline\n",
    "from lightgbm import LGBMClassifier\n",
    "from tqdm import tqdm\n",
    "tqdm.pandas()\n",
    "from pandarallel import pandarallel   \n",
    "tqdm.pandas(desc=\"progress\")\n",
    "pandarallel.initialize(progress_bar = True)\n",
    "from wordcloud import WordCloud\n",
    "\n",
    "nltk.download('stopwords')"
   ]
  },
  {
   "cell_type": "markdown",
   "id": "b20d89f8",
   "metadata": {},
   "source": [
    "### Загрузка данных"
   ]
  },
  {
   "cell_type": "code",
   "execution_count": 9,
   "id": "db2675bf",
   "metadata": {},
   "outputs": [
    {
     "name": "stdout",
     "output_type": "stream",
     "text": [
      "<class 'pandas.core.frame.DataFrame'>\n",
      "RangeIndex: 159292 entries, 0 to 159291\n",
      "Data columns (total 3 columns):\n",
      " #   Column      Non-Null Count   Dtype \n",
      "---  ------      --------------   ----- \n",
      " 0   Unnamed: 0  159292 non-null  int64 \n",
      " 1   text        159292 non-null  object\n",
      " 2   toxic       159292 non-null  int64 \n",
      "dtypes: int64(2), object(1)\n",
      "memory usage: 3.6+ MB\n"
     ]
    },
    {
     "data": {
      "text/html": [
       "<div>\n",
       "<style scoped>\n",
       "    .dataframe tbody tr th:only-of-type {\n",
       "        vertical-align: middle;\n",
       "    }\n",
       "\n",
       "    .dataframe tbody tr th {\n",
       "        vertical-align: top;\n",
       "    }\n",
       "\n",
       "    .dataframe thead th {\n",
       "        text-align: right;\n",
       "    }\n",
       "</style>\n",
       "<table border=\"1\" class=\"dataframe\">\n",
       "  <thead>\n",
       "    <tr style=\"text-align: right;\">\n",
       "      <th></th>\n",
       "      <th>Unnamed: 0</th>\n",
       "      <th>text</th>\n",
       "      <th>toxic</th>\n",
       "    </tr>\n",
       "  </thead>\n",
       "  <tbody>\n",
       "    <tr>\n",
       "      <th>0</th>\n",
       "      <td>0</td>\n",
       "      <td>Explanation\\nWhy the edits made under my usern...</td>\n",
       "      <td>0</td>\n",
       "    </tr>\n",
       "    <tr>\n",
       "      <th>1</th>\n",
       "      <td>1</td>\n",
       "      <td>D'aww! He matches this background colour I'm s...</td>\n",
       "      <td>0</td>\n",
       "    </tr>\n",
       "    <tr>\n",
       "      <th>2</th>\n",
       "      <td>2</td>\n",
       "      <td>Hey man, I'm really not trying to edit war. It...</td>\n",
       "      <td>0</td>\n",
       "    </tr>\n",
       "    <tr>\n",
       "      <th>3</th>\n",
       "      <td>3</td>\n",
       "      <td>\"\\nMore\\nI can't make any real suggestions on ...</td>\n",
       "      <td>0</td>\n",
       "    </tr>\n",
       "    <tr>\n",
       "      <th>4</th>\n",
       "      <td>4</td>\n",
       "      <td>You, sir, are my hero. Any chance you remember...</td>\n",
       "      <td>0</td>\n",
       "    </tr>\n",
       "  </tbody>\n",
       "</table>\n",
       "</div>"
      ],
      "text/plain": [
       "   Unnamed: 0                                               text  toxic\n",
       "0           0  Explanation\\nWhy the edits made under my usern...      0\n",
       "1           1  D'aww! He matches this background colour I'm s...      0\n",
       "2           2  Hey man, I'm really not trying to edit war. It...      0\n",
       "3           3  \"\\nMore\\nI can't make any real suggestions on ...      0\n",
       "4           4  You, sir, are my hero. Any chance you remember...      0"
      ]
     },
     "execution_count": 9,
     "metadata": {},
     "output_type": "execute_result"
    }
   ],
   "source": [
    "df_orig = pd.read_csv(r\"C:\\Users\\danii\\projects\\project_vikishop\\toxic_comments.csv\")\n",
    "df = df_orig.copy()\n",
    "df.info()\n",
    "df.head()"
   ]
  },
  {
   "cell_type": "code",
   "execution_count": 10,
   "id": "c839f5e4",
   "metadata": {},
   "outputs": [],
   "source": [
    "df = df.drop('Unnamed: 0', axis = 1)"
   ]
  },
  {
   "cell_type": "markdown",
   "id": "44d8d93a",
   "metadata": {},
   "source": [
    "### Поиск пропусков и дубликатов"
   ]
  },
  {
   "cell_type": "code",
   "execution_count": 11,
   "id": "70e68082",
   "metadata": {},
   "outputs": [
    {
     "name": "stdout",
     "output_type": "stream",
     "text": [
      "Количество пропусков: \n",
      "text     0\n",
      "toxic    0\n",
      "dtype: int64\n",
      "\n",
      "Количество дубликатов: 0\n"
     ]
    }
   ],
   "source": [
    "print(f'Количество пропусков: \\n{df.isna().sum()}\\n\\n'+\n",
    "     f'Количество дубликатов: {df.duplicated().sum()}')"
   ]
  },
  {
   "cell_type": "markdown",
   "id": "44c7c6a2",
   "metadata": {},
   "source": [
    "Пропуски и дубликаты не обнаружены."
   ]
  },
  {
   "cell_type": "markdown",
   "id": "0b528c27",
   "metadata": {},
   "source": [
    "### Лемматизация исходных данных"
   ]
  },
  {
   "cell_type": "code",
   "execution_count": 12,
   "id": "4c87ee7b",
   "metadata": {},
   "outputs": [],
   "source": [
    "def lemm(text): \n",
    "    nlp = spacy.load('en_core_web_sm')\n",
    "    lemm_list = []\n",
    "    \n",
    "    for i in range(len(text)):\n",
    "        doc = nlp(text[i])\n",
    "        lemm_text = ' '.join([token.lemma_ for token in doc])\n",
    "        lemm_list.append(lemm_text.lower())\n",
    "        \n",
    "    return lemm_list\n",
    "    "
   ]
  },
  {
   "cell_type": "code",
   "execution_count": 13,
   "id": "fd98ca54",
   "metadata": {},
   "outputs": [
    {
     "name": "stdout",
     "output_type": "stream",
     "text": [
      "2023-09-08 21:29:04.212170\n",
      "--- 1:53:20.232670 ---\n"
     ]
    }
   ],
   "source": [
    "print(datetime.now())\n",
    "start = datetime.now()\n",
    "df['lemm_text'] = lemm(df['text'])\n",
    "print(f'--- {datetime.now() - start} ---')"
   ]
  },
  {
   "cell_type": "markdown",
   "id": "af65b6ac",
   "metadata": {},
   "source": [
    "### Очистка лемматизированных текстов от лишних символов"
   ]
  },
  {
   "cell_type": "code",
   "execution_count": 14,
   "id": "afe6180e",
   "metadata": {},
   "outputs": [],
   "source": [
    "def clear_text(text):\n",
    "    clear_list = ' '.join(re.sub(r'[^A-Za-z]', ' ', text).split())\n",
    "    return clear_list"
   ]
  },
  {
   "cell_type": "code",
   "execution_count": 15,
   "id": "5a619ddc",
   "metadata": {},
   "outputs": [
    {
     "name": "stderr",
     "output_type": "stream",
     "text": [
      "progress: 100%|█████████████████████████████████████████████████████████████| 159292/159292 [00:14<00:00, 11004.85it/s]\n"
     ]
    }
   ],
   "source": [
    "df['cl_l_text'] = df['lemm_text'].progress_apply(clear_text)"
   ]
  },
  {
   "cell_type": "markdown",
   "id": "aaa2fb0e",
   "metadata": {},
   "source": [
    "## Обучение"
   ]
  },
  {
   "cell_type": "markdown",
   "id": "b09de9ca",
   "metadata": {},
   "source": [
    "### Разделение данных на обучающую и тестовую выборки"
   ]
  },
  {
   "cell_type": "code",
   "execution_count": 16,
   "id": "a9eecf27",
   "metadata": {},
   "outputs": [],
   "source": [
    "corpus = df['cl_l_text']\n",
    "target = df['toxic']\n",
    "train, test, target_train, target_test = train_test_split(corpus, target, test_size = 0.25,\n",
    "                                                          random_state = 123, stratify = target) \n",
    "corpus_train = train.values\n",
    "corpus_test = test.values"
   ]
  },
  {
   "cell_type": "markdown",
   "id": "fea433fc",
   "metadata": {},
   "source": [
    "### Определение величины TF-IDF"
   ]
  },
  {
   "cell_type": "code",
   "execution_count": 17,
   "id": "1ebebc14",
   "metadata": {},
   "outputs": [],
   "source": [
    "stop_words = nltk.corpus.stopwords.words('english')\n",
    "\n",
    "Tfid = TfidfVectorizer(stop_words = stop_words)\n",
    "Tfid.fit(corpus_train)\n",
    "tf_idf_train = Tfid.transform(corpus_train)\n",
    "tf_idf_test = Tfid.transform(corpus_test)\n",
    "names = Tfid.vocabulary_.keys()"
   ]
  },
  {
   "cell_type": "markdown",
   "id": "2613091d",
   "metadata": {},
   "source": [
    "### Обучение модели логистической регрессии"
   ]
  },
  {
   "cell_type": "code",
   "execution_count": 18,
   "id": "30b88999",
   "metadata": {},
   "outputs": [
    {
     "name": "stdout",
     "output_type": "stream",
     "text": [
      "{'C': 17}\n",
      "Значение метрики F1: 0.76073225457165\n"
     ]
    },
    {
     "name": "stderr",
     "output_type": "stream",
     "text": [
      "C:\\Users\\danii\\anaconda3\\lib\\site-packages\\sklearn\\linear_model\\_logistic.py:458: ConvergenceWarning: lbfgs failed to converge (status=1):\n",
      "STOP: TOTAL NO. of ITERATIONS REACHED LIMIT.\n",
      "\n",
      "Increase the number of iterations (max_iter) or scale the data as shown in:\n",
      "    https://scikit-learn.org/stable/modules/preprocessing.html\n",
      "Please also refer to the documentation for alternative solver options:\n",
      "    https://scikit-learn.org/stable/modules/linear_model.html#logistic-regression\n",
      "  n_iter_i = _check_optimize_result(\n"
     ]
    }
   ],
   "source": [
    "params = {'C': np.arange(1, 20, 2)}\n",
    "model = LogisticRegression(random_state = 123)\n",
    "grid = GridSearchCV(model, cv = 5, n_jobs = -1, param_grid = params, scoring = 'f1')\n",
    "grid.fit(tf_idf_train, target_train)\n",
    "print(grid.best_params_)\n",
    "print('Значение метрики F1:', grid.cv_results_['mean_test_score'].mean())"
   ]
  },
  {
   "cell_type": "markdown",
   "id": "a2a468d6",
   "metadata": {},
   "source": [
    "### Обучение модели LightGBM"
   ]
  },
  {
   "cell_type": "code",
   "execution_count": 19,
   "id": "1afb35e4",
   "metadata": {},
   "outputs": [
    {
     "name": "stdout",
     "output_type": "stream",
     "text": [
      "2023-09-08 23:28:43.666268\n",
      "Лучшие гиперпараметры: {'learning_rate': 0.4, 'n_estimators': 300}\n",
      "Метрика F1: 0.7546645685205333\n",
      "--- 0:38:21.454207 ---\n"
     ]
    }
   ],
   "source": [
    "print(datetime.now())\n",
    "start = datetime.now()\n",
    "model = LGBMClassifier(boosting_type = 'gbdt', random_state = 123)\n",
    "param = {\n",
    "    'n_estimators': range(100, 310, 100),   \n",
    "    'learning_rate' : np.arange(0.1, 1, 0.3)\n",
    "}\n",
    "\n",
    "grid = GridSearchCV(model, param, cv = 5, scoring = 'f1', n_jobs = -1)\n",
    "grid.fit(tf_idf_train, target_train)\n",
    "\n",
    "print('Лучшие гиперпараметры:', grid.best_params_)\n",
    "print('Метрика F1:', grid.cv_results_['mean_test_score'].mean())\n",
    "print(f'--- {datetime.now() - start} ---')"
   ]
  },
  {
   "cell_type": "markdown",
   "id": "8b5c4322",
   "metadata": {},
   "source": [
    "### Обучение модели PassiveAggressiveClassifier"
   ]
  },
  {
   "cell_type": "code",
   "execution_count": 20,
   "id": "fd376a19",
   "metadata": {},
   "outputs": [
    {
     "name": "stdout",
     "output_type": "stream",
     "text": [
      "{'C': 0.05}\n",
      "Значение метрики F1: 0.7750515427892781\n"
     ]
    }
   ],
   "source": [
    "params = {'C': np.arange(0.01, 0.11, 0.01)}\n",
    "model = PassiveAggressiveClassifier(random_state = 123)\n",
    "grid = GridSearchCV(model, cv = 5, n_jobs = -1, param_grid = params, scoring = 'f1')\n",
    "grid.fit(tf_idf_train, target_train)\n",
    "print(grid.best_params_)\n",
    "print('Значение метрики F1:', grid.cv_results_['mean_test_score'].mean())"
   ]
  },
  {
   "cell_type": "markdown",
   "id": "814ea235",
   "metadata": {},
   "source": [
    "### Выбор лучшей модели и обучение на тестовой выборке "
   ]
  },
  {
   "cell_type": "markdown",
   "id": "09845dc4",
   "metadata": {},
   "source": [
    "Лучший результат метрики F1 на обучающей выборке был у модели PassiveAggressiveClassifier"
   ]
  },
  {
   "cell_type": "code",
   "execution_count": 21,
   "id": "cfd1312b",
   "metadata": {},
   "outputs": [
    {
     "name": "stdout",
     "output_type": "stream",
     "text": [
      "Метрика F1 для обучающей выборки:  0.8820182596039342\n",
      "Метрика F1 для тестовой выборки:  0.7897742725047593\n"
     ]
    }
   ],
   "source": [
    "model = PassiveAggressiveClassifier(random_state = 123, C = 0.05, n_jobs = -1)\n",
    "model.fit(tf_idf_train, target_train)\n",
    "predicted_train = model.predict(tf_idf_train)\n",
    "predicted_test = model.predict(tf_idf_test)\n",
    "print('Метрика F1 для обучающей выборки: ', f1_score(predicted_train, target_train))\n",
    "print('Метрика F1 для тестовой выборки: ', f1_score(predicted_test, target_test))"
   ]
  },
  {
   "cell_type": "markdown",
   "id": "3df8937f",
   "metadata": {},
   "source": [
    "## Выводы"
   ]
  },
  {
   "cell_type": "markdown",
   "id": "9c5675f8",
   "metadata": {},
   "source": [
    "В результате подготовки данных была выполнена загрузка исходных данных в датафрейм, была выполнена предобработка данных (поиск пропусков и дубликатов); была выполнена лемматизация текстовых данных; текста были очищены от лишних символов.\n",
    "\n",
    "В ходе обучения данные были разделены на обучающую и тестовую выборки; было выполнено преобразование выборок в матрицы значений TF-IDF; эти матрицы выступли в роли признаков, по которым были обучены модели логистической регрессии, LightGBM, PassiveAggressiveClassifier. \n",
    "\n",
    "Для данных моделей было определено усредненное значение метрики F1 для обучающей выборки с применением кросс-валидации, таким образом была определена лучшая модель с оптимальными гиперпараметрами - PassiveAggressiveClassifier. Для данной модели было выполнено обучение и предсказание на тестовых данных и был определен финальный результат метрики F1 - 0.79."
   ]
  }
 ],
 "metadata": {
  "kernelspec": {
   "display_name": "Python 3 (ipykernel)",
   "language": "python",
   "name": "python3"
  },
  "language_info": {
   "codemirror_mode": {
    "name": "ipython",
    "version": 3
   },
   "file_extension": ".py",
   "mimetype": "text/x-python",
   "name": "python",
   "nbconvert_exporter": "python",
   "pygments_lexer": "ipython3",
   "version": "3.10.9"
  },
  "toc": {
   "base_numbering": 1,
   "nav_menu": {},
   "number_sections": true,
   "sideBar": true,
   "skip_h1_title": true,
   "title_cell": "Содержание",
   "title_sidebar": "Contents",
   "toc_cell": true,
   "toc_position": {
    "height": "calc(100% - 180px)",
    "left": "10px",
    "top": "150px",
    "width": "228.323px"
   },
   "toc_section_display": true,
   "toc_window_display": true
  }
 },
 "nbformat": 4,
 "nbformat_minor": 5
}
