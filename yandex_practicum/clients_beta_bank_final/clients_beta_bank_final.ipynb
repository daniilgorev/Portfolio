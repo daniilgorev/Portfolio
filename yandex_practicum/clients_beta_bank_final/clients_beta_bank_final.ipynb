{
 "cells": [
  {
   "cell_type": "markdown",
   "metadata": {
    "toc": true
   },
   "source": [
    "<h1>Содержание<span class=\"tocSkip\"></span></h1>\n",
    "<div class=\"toc\"><ul class=\"toc-item\"><li><span><a href=\"#Подготовка-данных\" data-toc-modified-id=\"Подготовка-данных-1\"><span class=\"toc-item-num\">1&nbsp;&nbsp;</span>Подготовка данных</a></span><ul class=\"toc-item\"><li><span><a href=\"#Загрузка-данных\" data-toc-modified-id=\"Загрузка-данных-1.1\"><span class=\"toc-item-num\">1.1&nbsp;&nbsp;</span>Загрузка данных</a></span></li><li><span><a href=\"#Приведене-заголовков-столбцов-к-необходимому-формату\" data-toc-modified-id=\"Приведене-заголовков-столбцов-к-необходимому-формату-1.2\"><span class=\"toc-item-num\">1.2&nbsp;&nbsp;</span>Приведене заголовков столбцов к необходимому формату</a></span></li><li><span><a href=\"#Обработка-дубликатов\" data-toc-modified-id=\"Обработка-дубликатов-1.3\"><span class=\"toc-item-num\">1.3&nbsp;&nbsp;</span>Обработка дубликатов</a></span></li><li><span><a href=\"#Обработка-пропусков\" data-toc-modified-id=\"Обработка-пропусков-1.4\"><span class=\"toc-item-num\">1.4&nbsp;&nbsp;</span>Обработка пропусков</a></span></li><li><span><a href=\"#Удаление-столбцов-с-ненужными-данными\" data-toc-modified-id=\"Удаление-столбцов-с-ненужными-данными-1.5\"><span class=\"toc-item-num\">1.5&nbsp;&nbsp;</span>Удаление столбцов с ненужными данными</a></span></li><li><span><a href=\"#Разделение-на-выборки\" data-toc-modified-id=\"Разделение-на-выборки-1.6\"><span class=\"toc-item-num\">1.6&nbsp;&nbsp;</span>Разделение на выборки</a></span></li><li><span><a href=\"#Применение--техники-&quot;прямое-кодирование&quot;-для-категориальных-данных\" data-toc-modified-id=\"Применение--техники-&quot;прямое-кодирование&quot;-для-категориальных-данных-1.7\"><span class=\"toc-item-num\">1.7&nbsp;&nbsp;</span>Применение  техники \"прямое кодирование\" для категориальных данных</a></span></li><li><span><a href=\"#Масштабирование-количественных-признаков\" data-toc-modified-id=\"Масштабирование-количественных-признаков-1.8\"><span class=\"toc-item-num\">1.8&nbsp;&nbsp;</span>Масштабирование количественных признаков</a></span></li></ul></li><li><span><a href=\"#Исследование-задачи\" data-toc-modified-id=\"Исследование-задачи-2\"><span class=\"toc-item-num\">2&nbsp;&nbsp;</span>Исследование задачи</a></span><ul class=\"toc-item\"><li><span><a href=\"#Исследование-баланса-класса\" data-toc-modified-id=\"Исследование-баланса-класса-2.1\"><span class=\"toc-item-num\">2.1&nbsp;&nbsp;</span>Исследование баланса класса</a></span></li><li><span><a href=\"#Построение-модели-дерева\" data-toc-modified-id=\"Построение-модели-дерева-2.2\"><span class=\"toc-item-num\">2.2&nbsp;&nbsp;</span>Построение модели дерева</a></span></li><li><span><a href=\"#Построение-модели-случайного-леса\" data-toc-modified-id=\"Построение-модели-случайного-леса-2.3\"><span class=\"toc-item-num\">2.3&nbsp;&nbsp;</span>Построение модели случайного леса</a></span></li><li><span><a href=\"#Построение-модели-логистической-регрессии\" data-toc-modified-id=\"Построение-модели-логистической-регрессии-2.4\"><span class=\"toc-item-num\">2.4&nbsp;&nbsp;</span>Построение модели логистической регрессии</a></span></li><li><span><a href=\"#Построение-константной-модели\" data-toc-modified-id=\"Построение-константной-модели-2.5\"><span class=\"toc-item-num\">2.5&nbsp;&nbsp;</span>Построение константной модели</a></span></li></ul></li><li><span><a href=\"#Борьба-с-дисбалансом\" data-toc-modified-id=\"Борьба-с-дисбалансом-3\"><span class=\"toc-item-num\">3&nbsp;&nbsp;</span>Борьба с дисбалансом</a></span><ul class=\"toc-item\"><li><span><a href=\"#Изменение-гиперпараметра-&quot;взвешивание-классов&quot;\" data-toc-modified-id=\"Изменение-гиперпараметра-&quot;взвешивание-классов&quot;-3.1\"><span class=\"toc-item-num\">3.1&nbsp;&nbsp;</span>Изменение гиперпараметра \"взвешивание классов\"</a></span><ul class=\"toc-item\"><li><span><a href=\"#Построение-модели-дерева\" data-toc-modified-id=\"Построение-модели-дерева-3.1.1\"><span class=\"toc-item-num\">3.1.1&nbsp;&nbsp;</span>Построение модели дерева</a></span></li><li><span><a href=\"#Построение-модели-случайного-леса:\" data-toc-modified-id=\"Построение-модели-случайного-леса:-3.1.2\"><span class=\"toc-item-num\">3.1.2&nbsp;&nbsp;</span>Построение модели случайного леса:</a></span></li><li><span><a href=\"#Построение-модели-логистической-регрессии\" data-toc-modified-id=\"Построение-модели-логистической-регрессии-3.1.3\"><span class=\"toc-item-num\">3.1.3&nbsp;&nbsp;</span>Построение модели логистической регрессии</a></span></li></ul></li><li><span><a href=\"#Применение-техники-&quot;увеличение-выборки-(upsampling)&quot;\" data-toc-modified-id=\"Применение-техники-&quot;увеличение-выборки-(upsampling)&quot;-3.2\"><span class=\"toc-item-num\">3.2&nbsp;&nbsp;</span>Применение техники \"увеличение выборки (upsampling)\"</a></span><ul class=\"toc-item\"><li><span><a href=\"#Построение-модели-дерева\" data-toc-modified-id=\"Построение-модели-дерева-3.2.1\"><span class=\"toc-item-num\">3.2.1&nbsp;&nbsp;</span>Построение модели дерева</a></span></li><li><span><a href=\"#Построение-модели-случайного-леса\" data-toc-modified-id=\"Построение-модели-случайного-леса-3.2.2\"><span class=\"toc-item-num\">3.2.2&nbsp;&nbsp;</span>Построение модели случайного леса</a></span></li><li><span><a href=\"#Построение-модели-логистической-регрессии\" data-toc-modified-id=\"Построение-модели-логистической-регрессии-3.2.3\"><span class=\"toc-item-num\">3.2.3&nbsp;&nbsp;</span>Построение модели логистической регрессии</a></span></li></ul></li><li><span><a href=\"#Применение-техники-&quot;уменьшение-выборки-(downsampling)&quot;\" data-toc-modified-id=\"Применение-техники-&quot;уменьшение-выборки-(downsampling)&quot;-3.3\"><span class=\"toc-item-num\">3.3&nbsp;&nbsp;</span>Применение техники \"уменьшение выборки (downsampling)\"</a></span><ul class=\"toc-item\"><li><span><a href=\"#Построение-модели-дерева\" data-toc-modified-id=\"Построение-модели-дерева-3.3.1\"><span class=\"toc-item-num\">3.3.1&nbsp;&nbsp;</span>Построение модели дерева</a></span></li><li><span><a href=\"#Построение-модели-случайного-леса\" data-toc-modified-id=\"Построение-модели-случайного-леса-3.3.2\"><span class=\"toc-item-num\">3.3.2&nbsp;&nbsp;</span>Построение модели случайного леса</a></span></li><li><span><a href=\"#Построение-модели-логистической-регрессии\" data-toc-modified-id=\"Построение-модели-логистической-регрессии-3.3.3\"><span class=\"toc-item-num\">3.3.3&nbsp;&nbsp;</span>Построение модели логистической регрессии</a></span></li></ul></li><li><span><a href=\"#Изменения-порога-для-модели-логистической-регрессии\" data-toc-modified-id=\"Изменения-порога-для-модели-логистической-регрессии-3.4\"><span class=\"toc-item-num\">3.4&nbsp;&nbsp;</span>Изменения порога для модели логистической регрессии</a></span></li><li><span><a href=\"#Применение-всех-методов-для-модели-логистической-регресии\" data-toc-modified-id=\"Применение-всех-методов-для-модели-логистической-регресии-3.5\"><span class=\"toc-item-num\">3.5&nbsp;&nbsp;</span>Применение всех методов для модели логистической регресии</a></span></li></ul></li><li><span><a href=\"#Тестирование-модели\" data-toc-modified-id=\"Тестирование-модели-4\"><span class=\"toc-item-num\">4&nbsp;&nbsp;</span>Тестирование модели</a></span><ul class=\"toc-item\"><li><span><a href=\"#Тестирование-моделей-на-тестовых-данных\" data-toc-modified-id=\"Тестирование-моделей-на-тестовых-данных-4.1\"><span class=\"toc-item-num\">4.1&nbsp;&nbsp;</span>Тестирование моделей на тестовых данных</a></span></li><li><span><a href=\"#Построение-ROC-кривой-и-вычисление-метрики-AUC-ROC\" data-toc-modified-id=\"Построение-ROC-кривой-и-вычисление-метрики-AUC-ROC-4.2\"><span class=\"toc-item-num\">4.2&nbsp;&nbsp;</span>Построение ROC-кривой и вычисление метрики AUC-ROC</a></span></li></ul></li><li><span><a href=\"#Вывод\" data-toc-modified-id=\"Вывод-5\"><span class=\"toc-item-num\">5&nbsp;&nbsp;</span>Вывод</a></span></li><li><span><a href=\"#Чек-лист-готовности-проекта\" data-toc-modified-id=\"Чек-лист-готовности-проекта-6\"><span class=\"toc-item-num\">6&nbsp;&nbsp;</span>Чек-лист готовности проекта</a></span></li></ul></div>"
   ]
  },
  {
   "cell_type": "markdown",
   "metadata": {},
   "source": [
    "## Подготовка данных"
   ]
  },
  {
   "cell_type": "code",
   "execution_count": 1,
   "metadata": {},
   "outputs": [
    {
     "name": "stdout",
     "output_type": "stream",
     "text": [
      "Collecting scikit-learn==1.1.3\n",
      "  Downloading scikit_learn-1.1.3-cp310-cp310-win_amd64.whl (7.5 MB)\n",
      "     ---------------------------------------- 7.5/7.5 MB 4.6 MB/s eta 0:00:00\n",
      "Requirement already satisfied: numpy>=1.17.3 in c:\\users\\danii\\anaconda3\\lib\\site-packages (from scikit-learn==1.1.3) (1.23.5)\n",
      "Requirement already satisfied: scipy>=1.3.2 in c:\\users\\danii\\anaconda3\\lib\\site-packages (from scikit-learn==1.1.3) (1.10.0)\n",
      "Requirement already satisfied: joblib>=1.0.0 in c:\\users\\danii\\anaconda3\\lib\\site-packages (from scikit-learn==1.1.3) (1.1.1)\n",
      "Requirement already satisfied: threadpoolctl>=2.0.0 in c:\\users\\danii\\anaconda3\\lib\\site-packages (from scikit-learn==1.1.3) (2.2.0)\n",
      "Installing collected packages: scikit-learn\n",
      "  Attempting uninstall: scikit-learn\n",
      "    Found existing installation: scikit-learn 1.2.1\n",
      "    Uninstalling scikit-learn-1.2.1:\n",
      "      Successfully uninstalled scikit-learn-1.2.1\n",
      "Successfully installed scikit-learn-1.1.3\n",
      "Collecting imblearn\n",
      "  Downloading imblearn-0.0-py2.py3-none-any.whl (1.9 kB)\n",
      "Requirement already satisfied: imbalanced-learn in c:\\users\\danii\\anaconda3\\lib\\site-packages (from imblearn) (0.10.1)\n",
      "Requirement already satisfied: joblib>=1.1.1 in c:\\users\\danii\\anaconda3\\lib\\site-packages (from imbalanced-learn->imblearn) (1.1.1)\n",
      "Requirement already satisfied: scipy>=1.3.2 in c:\\users\\danii\\anaconda3\\lib\\site-packages (from imbalanced-learn->imblearn) (1.10.0)\n",
      "Requirement already satisfied: threadpoolctl>=2.0.0 in c:\\users\\danii\\anaconda3\\lib\\site-packages (from imbalanced-learn->imblearn) (2.2.0)\n",
      "Requirement already satisfied: numpy>=1.17.3 in c:\\users\\danii\\anaconda3\\lib\\site-packages (from imbalanced-learn->imblearn) (1.23.5)\n",
      "Requirement already satisfied: scikit-learn>=1.0.2 in c:\\users\\danii\\anaconda3\\lib\\site-packages (from imbalanced-learn->imblearn) (1.1.3)\n",
      "Installing collected packages: imblearn\n",
      "Successfully installed imblearn-0.0\n"
     ]
    }
   ],
   "source": [
    "!pip install scikit-learn==1.1.3\n",
    "!pip install imblearn"
   ]
  },
  {
   "cell_type": "code",
   "execution_count": 2,
   "metadata": {},
   "outputs": [],
   "source": [
    "import pandas as pd\n",
    "from sklearn.model_selection import train_test_split\n",
    "from sklearn.preprocessing import StandardScaler, OneHotEncoder\n",
    "from sklearn.tree import DecisionTreeClassifier\n",
    "from sklearn.ensemble import RandomForestClassifier\n",
    "from sklearn.linear_model import LogisticRegression\n",
    "from sklearn.metrics import (\n",
    "    accuracy_score,\n",
    "    make_scorer,\n",
    "    recall_score, \n",
    "    precision_score,\n",
    "    f1_score,\n",
    "    confusion_matrix,\n",
    "    roc_curve,\n",
    "    roc_auc_score\n",
    ")\n",
    "from sklearn.utils import shuffle\n",
    "import numpy as np\n",
    "from sklearn.model_selection import GridSearchCV\n",
    "import time\n",
    "import matplotlib.pyplot as plt\n",
    "from imblearn.over_sampling import SMOTE"
   ]
  },
  {
   "cell_type": "markdown",
   "metadata": {},
   "source": [
    "### Загрузка данных"
   ]
  },
  {
   "cell_type": "code",
   "execution_count": 3,
   "metadata": {
    "scrolled": true
   },
   "outputs": [
    {
     "name": "stdout",
     "output_type": "stream",
     "text": [
      "<class 'pandas.core.frame.DataFrame'>\n",
      "RangeIndex: 10000 entries, 0 to 9999\n",
      "Data columns (total 14 columns):\n",
      " #   Column           Non-Null Count  Dtype  \n",
      "---  ------           --------------  -----  \n",
      " 0   RowNumber        10000 non-null  int64  \n",
      " 1   CustomerId       10000 non-null  int64  \n",
      " 2   Surname          10000 non-null  object \n",
      " 3   CreditScore      10000 non-null  int64  \n",
      " 4   Geography        10000 non-null  object \n",
      " 5   Gender           10000 non-null  object \n",
      " 6   Age              10000 non-null  int64  \n",
      " 7   Tenure           9091 non-null   float64\n",
      " 8   Balance          10000 non-null  float64\n",
      " 9   NumOfProducts    10000 non-null  int64  \n",
      " 10  HasCrCard        10000 non-null  int64  \n",
      " 11  IsActiveMember   10000 non-null  int64  \n",
      " 12  EstimatedSalary  10000 non-null  float64\n",
      " 13  Exited           10000 non-null  int64  \n",
      "dtypes: float64(3), int64(8), object(3)\n",
      "memory usage: 1.1+ MB\n"
     ]
    }
   ],
   "source": [
    "df = pd.read_csv(r\"C:\\Users\\danii\\projects\\project_clients_beta_bank\\Churn.csv\")\n",
    "df.info()"
   ]
  },
  {
   "cell_type": "code",
   "execution_count": 4,
   "metadata": {},
   "outputs": [
    {
     "data": {
      "text/html": [
       "<div>\n",
       "<style scoped>\n",
       "    .dataframe tbody tr th:only-of-type {\n",
       "        vertical-align: middle;\n",
       "    }\n",
       "\n",
       "    .dataframe tbody tr th {\n",
       "        vertical-align: top;\n",
       "    }\n",
       "\n",
       "    .dataframe thead th {\n",
       "        text-align: right;\n",
       "    }\n",
       "</style>\n",
       "<table border=\"1\" class=\"dataframe\">\n",
       "  <thead>\n",
       "    <tr style=\"text-align: right;\">\n",
       "      <th></th>\n",
       "      <th>RowNumber</th>\n",
       "      <th>CustomerId</th>\n",
       "      <th>Surname</th>\n",
       "      <th>CreditScore</th>\n",
       "      <th>Geography</th>\n",
       "      <th>Gender</th>\n",
       "      <th>Age</th>\n",
       "      <th>Tenure</th>\n",
       "      <th>Balance</th>\n",
       "      <th>NumOfProducts</th>\n",
       "      <th>HasCrCard</th>\n",
       "      <th>IsActiveMember</th>\n",
       "      <th>EstimatedSalary</th>\n",
       "      <th>Exited</th>\n",
       "    </tr>\n",
       "  </thead>\n",
       "  <tbody>\n",
       "    <tr>\n",
       "      <th>0</th>\n",
       "      <td>1</td>\n",
       "      <td>15634602</td>\n",
       "      <td>Hargrave</td>\n",
       "      <td>619</td>\n",
       "      <td>France</td>\n",
       "      <td>Female</td>\n",
       "      <td>42</td>\n",
       "      <td>2.0</td>\n",
       "      <td>0.00</td>\n",
       "      <td>1</td>\n",
       "      <td>1</td>\n",
       "      <td>1</td>\n",
       "      <td>101348.88</td>\n",
       "      <td>1</td>\n",
       "    </tr>\n",
       "    <tr>\n",
       "      <th>1</th>\n",
       "      <td>2</td>\n",
       "      <td>15647311</td>\n",
       "      <td>Hill</td>\n",
       "      <td>608</td>\n",
       "      <td>Spain</td>\n",
       "      <td>Female</td>\n",
       "      <td>41</td>\n",
       "      <td>1.0</td>\n",
       "      <td>83807.86</td>\n",
       "      <td>1</td>\n",
       "      <td>0</td>\n",
       "      <td>1</td>\n",
       "      <td>112542.58</td>\n",
       "      <td>0</td>\n",
       "    </tr>\n",
       "    <tr>\n",
       "      <th>2</th>\n",
       "      <td>3</td>\n",
       "      <td>15619304</td>\n",
       "      <td>Onio</td>\n",
       "      <td>502</td>\n",
       "      <td>France</td>\n",
       "      <td>Female</td>\n",
       "      <td>42</td>\n",
       "      <td>8.0</td>\n",
       "      <td>159660.80</td>\n",
       "      <td>3</td>\n",
       "      <td>1</td>\n",
       "      <td>0</td>\n",
       "      <td>113931.57</td>\n",
       "      <td>1</td>\n",
       "    </tr>\n",
       "    <tr>\n",
       "      <th>3</th>\n",
       "      <td>4</td>\n",
       "      <td>15701354</td>\n",
       "      <td>Boni</td>\n",
       "      <td>699</td>\n",
       "      <td>France</td>\n",
       "      <td>Female</td>\n",
       "      <td>39</td>\n",
       "      <td>1.0</td>\n",
       "      <td>0.00</td>\n",
       "      <td>2</td>\n",
       "      <td>0</td>\n",
       "      <td>0</td>\n",
       "      <td>93826.63</td>\n",
       "      <td>0</td>\n",
       "    </tr>\n",
       "    <tr>\n",
       "      <th>4</th>\n",
       "      <td>5</td>\n",
       "      <td>15737888</td>\n",
       "      <td>Mitchell</td>\n",
       "      <td>850</td>\n",
       "      <td>Spain</td>\n",
       "      <td>Female</td>\n",
       "      <td>43</td>\n",
       "      <td>2.0</td>\n",
       "      <td>125510.82</td>\n",
       "      <td>1</td>\n",
       "      <td>1</td>\n",
       "      <td>1</td>\n",
       "      <td>79084.10</td>\n",
       "      <td>0</td>\n",
       "    </tr>\n",
       "  </tbody>\n",
       "</table>\n",
       "</div>"
      ],
      "text/plain": [
       "   RowNumber  CustomerId   Surname  CreditScore Geography  Gender  Age  \\\n",
       "0          1    15634602  Hargrave          619    France  Female   42   \n",
       "1          2    15647311      Hill          608     Spain  Female   41   \n",
       "2          3    15619304      Onio          502    France  Female   42   \n",
       "3          4    15701354      Boni          699    France  Female   39   \n",
       "4          5    15737888  Mitchell          850     Spain  Female   43   \n",
       "\n",
       "   Tenure    Balance  NumOfProducts  HasCrCard  IsActiveMember  \\\n",
       "0     2.0       0.00              1          1               1   \n",
       "1     1.0   83807.86              1          0               1   \n",
       "2     8.0  159660.80              3          1               0   \n",
       "3     1.0       0.00              2          0               0   \n",
       "4     2.0  125510.82              1          1               1   \n",
       "\n",
       "   EstimatedSalary  Exited  \n",
       "0        101348.88       1  \n",
       "1        112542.58       0  \n",
       "2        113931.57       1  \n",
       "3         93826.63       0  \n",
       "4         79084.10       0  "
      ]
     },
     "execution_count": 4,
     "metadata": {},
     "output_type": "execute_result"
    }
   ],
   "source": [
    "df.head()"
   ]
  },
  {
   "cell_type": "markdown",
   "metadata": {},
   "source": [
    "### Приведене заголовков столбцов к необходимому формату"
   ]
  },
  {
   "cell_type": "code",
   "execution_count": 5,
   "metadata": {},
   "outputs": [],
   "source": [
    "df.columns = df.columns.str.lower()"
   ]
  },
  {
   "cell_type": "markdown",
   "metadata": {},
   "source": [
    "### Обработка дубликатов"
   ]
  },
  {
   "cell_type": "code",
   "execution_count": 6,
   "metadata": {},
   "outputs": [
    {
     "data": {
      "text/plain": [
       "rownumber            0\n",
       "customerid           0\n",
       "surname              0\n",
       "creditscore          0\n",
       "geography            0\n",
       "gender               0\n",
       "age                  0\n",
       "tenure             909\n",
       "balance              0\n",
       "numofproducts        0\n",
       "hascrcard            0\n",
       "isactivemember       0\n",
       "estimatedsalary      0\n",
       "exited               0\n",
       "dtype: int64"
      ]
     },
     "execution_count": 6,
     "metadata": {},
     "output_type": "execute_result"
    }
   ],
   "source": [
    "df.isna().sum()"
   ]
  },
  {
   "cell_type": "code",
   "execution_count": 7,
   "metadata": {
    "scrolled": true
   },
   "outputs": [
    {
     "data": {
      "text/plain": [
       "10.0"
      ]
     },
     "execution_count": 7,
     "metadata": {},
     "output_type": "execute_result"
    }
   ],
   "source": [
    "df['tenure'].max()"
   ]
  },
  {
   "cell_type": "code",
   "execution_count": 8,
   "metadata": {},
   "outputs": [
    {
     "data": {
      "text/plain": [
       "0"
      ]
     },
     "execution_count": 8,
     "metadata": {},
     "output_type": "execute_result"
    }
   ],
   "source": [
    "df[['customerid', 'surname']].duplicated().sum()"
   ]
  },
  {
   "cell_type": "markdown",
   "metadata": {},
   "source": [
    "### Обработка пропусков"
   ]
  },
  {
   "cell_type": "code",
   "execution_count": 9,
   "metadata": {},
   "outputs": [],
   "source": [
    "#df['tenure'] = df['tenure'].astype(str)"
   ]
  },
  {
   "cell_type": "code",
   "execution_count": 10,
   "metadata": {},
   "outputs": [],
   "source": [
    "#df['tenure'] = df['tenure'].fillna(-1)"
   ]
  },
  {
   "cell_type": "code",
   "execution_count": 11,
   "metadata": {},
   "outputs": [],
   "source": [
    "df = df.dropna()"
   ]
  },
  {
   "cell_type": "markdown",
   "metadata": {},
   "source": [
    "### Удаление столбцов с ненужными данными"
   ]
  },
  {
   "cell_type": "code",
   "execution_count": 12,
   "metadata": {},
   "outputs": [],
   "source": [
    "df = df.drop(['rownumber', 'customerid', 'surname'], axis = 1)"
   ]
  },
  {
   "cell_type": "code",
   "execution_count": 13,
   "metadata": {},
   "outputs": [],
   "source": [
    "#df_ohe = pd.get_dummies(df, drop_first = True)\n",
    "#df_ohe.columns"
   ]
  },
  {
   "cell_type": "markdown",
   "metadata": {},
   "source": [
    "### Разделение на выборки"
   ]
  },
  {
   "cell_type": "code",
   "execution_count": 14,
   "metadata": {},
   "outputs": [
    {
     "name": "stdout",
     "output_type": "stream",
     "text": [
      "(5454, 10) (1818, 10) (1819, 10) \n",
      " (5454,) (1818,) (1819,)\n"
     ]
    }
   ],
   "source": [
    "features = df.drop('exited', axis = 1)\n",
    "target = df['exited']\n",
    "features_train, features_other, target_train, target_other = train_test_split(features, target,\n",
    "                                                test_size = 0.4, random_state = 12345)\n",
    "features_valid, features_test, target_valid, target_test = train_test_split(features_other, \n",
    "                                        target_other,test_size = 0.5, random_state = 12345)\n",
    "print(features_train.shape, features_valid.shape, features_test.shape, '\\n',\n",
    "     target_train.shape, target_valid.shape, target_test.shape)"
   ]
  },
  {
   "cell_type": "markdown",
   "metadata": {},
   "source": [
    "### Применение  техники \"прямое кодирование\" для категориальных данных"
   ]
  },
  {
   "cell_type": "code",
   "execution_count": 15,
   "metadata": {},
   "outputs": [],
   "source": [
    "ohe_names = features.select_dtypes(include='object').columns.to_list()\n",
    "ohe = OneHotEncoder(drop='first', handle_unknown='ignore', sparse=False)\n",
    "ohe.fit(features_train[ohe_names])\n",
    "features_train[ohe.get_feature_names_out()] = ohe.transform(features_train[ohe_names])\n",
    "features_train = features_train.drop(ohe_names, axis = 1)\n",
    "features_valid[ohe.get_feature_names_out()] = ohe.transform(features_valid[ohe_names])\n",
    "features_valid = features_valid.drop(ohe_names, axis = 1)\n",
    "features_test[ohe.get_feature_names_out()] = ohe.transform(features_test[ohe_names])\n",
    "features_test = features_test.drop(ohe_names, axis = 1)"
   ]
  },
  {
   "cell_type": "markdown",
   "metadata": {},
   "source": [
    "### Масштабирование количественных признаков"
   ]
  },
  {
   "cell_type": "code",
   "execution_count": 16,
   "metadata": {},
   "outputs": [],
   "source": [
    "pd.options.mode.chained_assignment = None\n",
    "numeric = ['creditscore','tenure','age', 'balance', 'numofproducts', 'estimatedsalary']\n",
    "scalar = StandardScaler()\n",
    "scalar.fit(features_train[numeric])\n",
    "features_train[numeric] = scalar.transform(features_train[numeric]) \n",
    "features_valid[numeric] = scalar.transform(features_valid[numeric])\n",
    "features_test[numeric] = scalar.transform(features_test[numeric])"
   ]
  },
  {
   "cell_type": "markdown",
   "metadata": {},
   "source": [
    "В результате обработки данных была выполнена загрузка данных в датафрейм; была произведена обработка пропусков и дубликатов; было применено \"прямое кодирование\" для последующей обработки категориальных признаков; данные были разделены на обучающую, валидационную и тестовую выборки в масштабе 3:1:1; были масштабированы количественные признаки путем стандартизации данных.  "
   ]
  },
  {
   "cell_type": "markdown",
   "metadata": {},
   "source": [
    "## Исследование задачи"
   ]
  },
  {
   "cell_type": "markdown",
   "metadata": {},
   "source": [
    "### Исследование баланса класса"
   ]
  },
  {
   "cell_type": "code",
   "execution_count": 17,
   "metadata": {},
   "outputs": [
    {
     "data": {
      "image/png": "[encoded data removed]",
      "text/plain": [
       "<Figure size 640x480 with 1 Axes>"
      ]
     },
     "metadata": {},
     "output_type": "display_data"
    },
    {
     "data": {
      "text/plain": [
       "0    7237\n",
       "1    1854\n",
       "Name: exited, dtype: int64"
      ]
     },
     "execution_count": 17,
     "metadata": {},
     "output_type": "execute_result"
    }
   ],
   "source": [
    "df['exited'].value_counts().plot(kind = 'bar', xlabel = 'Значение', ylabel = 'Количество')\n",
    "plt.title('Распределение положительных и отрицательных ответов для целевого признака')\n",
    "plt.show()\n",
    "df['exited'].value_counts()"
   ]
  },
  {
   "cell_type": "markdown",
   "metadata": {},
   "source": [
    "У целевого признака наблюдается наблюдается дисбаланс классов: соотношение позитивных и негативных сигналов примерно 1:4."
   ]
  },
  {
   "cell_type": "markdown",
   "metadata": {},
   "source": [
    "### Построение модели дерева"
   ]
  },
  {
   "cell_type": "code",
   "execution_count": 18,
   "metadata": {},
   "outputs": [
    {
     "name": "stdout",
     "output_type": "stream",
     "text": [
      " Accuracy: 0.8536853685368537 \n",
      " Precision: 0.7211155378486056 \n",
      " Recall: 0.48010610079575594 \n",
      " F1: 0.5764331210191083 \n",
      " Площадь ROC-кривой: 0.8346049843812412 \n",
      " Глубина дерева: 7 \n",
      " Матрица ошибок: \n",
      " [[1371   70]\n",
      " [ 196  181]]\n"
     ]
    }
   ],
   "source": [
    "best_f1 = 0\n",
    "best_depth = 0\n",
    "for depth in range(1,10):\n",
    "    model_tree = DecisionTreeClassifier(random_state = 12345, max_depth = depth)\n",
    "    model_tree.fit(features_train, target_train)\n",
    "    predicted_valid = model_tree.predict(features_valid)\n",
    "    f1 = f1_score(target_valid, predicted_valid)\n",
    "    if f1 > best_f1:\n",
    "        best_f1 = f1\n",
    "        best_depth = depth\n",
    "        acc = accuracy_score(target_valid, predicted_valid)\n",
    "        pre = precision_score(target_valid, predicted_valid)\n",
    "        rec = recall_score(target_valid, predicted_valid)\n",
    "        matrix = confusion_matrix(target_valid, predicted_valid)\n",
    "        probabilities = model_tree.predict_proba(features_valid)\n",
    "        probabilities_one = probabilities[:, 1]\n",
    "        roc = roc_auc_score(target_valid, probabilities_one)\n",
    "print(' Accuracy:', acc, '\\n', 'Precision:', pre, '\\n', 'Recall:', rec, '\\n',\n",
    "      'F1:', best_f1,'\\n', 'Площадь ROC-кривой:', roc, '\\n', 'Глубина дерева:', best_depth, '\\n', 'Матрица ошибок:', '\\n', \n",
    "     matrix)\n"
   ]
  },
  {
   "cell_type": "markdown",
   "metadata": {},
   "source": [
    "### Построение модели случайного леса"
   ]
  },
  {
   "cell_type": "code",
   "execution_count": 19,
   "metadata": {},
   "outputs": [
    {
     "name": "stdout",
     "output_type": "stream",
     "text": [
      " Accuracy: 0.8657865786578658 \n",
      " Precision: 0.7782426778242678 \n",
      " Recall: 0.493368700265252 \n",
      " F1: 0.6038961038961039 \n",
      " Площадь ROC-кривой: 0.8565329116790027 \n",
      " Количество деревьев: 45 \n",
      " Глубина дерева: 24 \n",
      " Матрица ошибок: \n",
      " [[1388   53]\n",
      " [ 191  186]]\n"
     ]
    }
   ],
   "source": [
    "best_f1 = 0\n",
    "best_n = 0\n",
    "best_depth = 0\n",
    "for depth in range(1, 30):\n",
    "    for n in range(20, 70, 5):    \n",
    "        model_forest = RandomForestClassifier(random_state = 12345, max_depth = depth,\n",
    "                                              n_estimators = n)\n",
    "        model_forest.fit(features_train, target_train)\n",
    "        predicted_valid = model_forest.predict(features_valid)\n",
    "        f1 = f1_score(target_valid, predicted_valid)\n",
    "        if f1 > best_f1:\n",
    "            best_f1 = f1\n",
    "            best_n = n\n",
    "            best_depth = depth\n",
    "            acc = accuracy_score(target_valid, predicted_valid)\n",
    "            pre = precision_score(target_valid, predicted_valid)\n",
    "            rec = recall_score(target_valid, predicted_valid)\n",
    "            matrix = confusion_matrix(target_valid, predicted_valid)\n",
    "            probabilities = model_forest.predict_proba(features_valid)\n",
    "            probabilities_one = probabilities[:, 1]\n",
    "            roc = roc_auc_score(target_valid, probabilities_one)\n",
    "print(' Accuracy:', acc, '\\n', 'Precision:', pre, '\\n', 'Recall:', rec, '\\n',\n",
    "      'F1:', best_f1, '\\n', 'Площадь ROC-кривой:', roc, '\\n', 'Количество деревьев:', best_n, '\\n', \n",
    "      'Глубина дерева:', best_depth, '\\n', 'Матрица ошибок:', '\\n', matrix)"
   ]
  },
  {
   "cell_type": "markdown",
   "metadata": {},
   "source": [
    "### Построение модели логистической регрессии"
   ]
  },
  {
   "cell_type": "code",
   "execution_count": 20,
   "metadata": {},
   "outputs": [
    {
     "name": "stdout",
     "output_type": "stream",
     "text": [
      " Accuracy: 0.8085808580858086 \n",
      " Precision: 0.6178861788617886 \n",
      " Recall: 0.20159151193633953 \n",
      " F1: 0.30400000000000005 \n",
      " Площадь ROC-кривой: 0.773663293800172 \n",
      " Матрица ошибок: \n",
      " [[1394   47]\n",
      " [ 301   76]]\n"
     ]
    }
   ],
   "source": [
    "model_reg = LogisticRegression(random_state=12345, solver='lbfgs', max_iter=1000)\n",
    "model_reg.fit(features_train, target_train)\n",
    "predicted_valid = model_reg.predict(features_valid)\n",
    "f1 = f1_score(target_valid, predicted_valid)\n",
    "acc = accuracy_score(target_valid, predicted_valid)\n",
    "pre = precision_score(target_valid, predicted_valid)\n",
    "rec = recall_score(target_valid, predicted_valid)\n",
    "matrix = confusion_matrix(target_valid, predicted_valid)\n",
    "probabilities = model_reg.predict_proba(features_valid)\n",
    "probabilities_one = probabilities[:, 1]\n",
    "roc = roc_auc_score(target_valid, probabilities_one)\n",
    "print(' Accuracy:', acc, '\\n', 'Precision:', pre, '\\n', 'Recall:', rec, '\\n',\n",
    "      'F1:', f1, '\\n', 'Площадь ROC-кривой:', roc, '\\n', 'Матрица ошибок:', '\\n', matrix)"
   ]
  },
  {
   "cell_type": "markdown",
   "metadata": {},
   "source": [
    "### Построение константной модели "
   ]
  },
  {
   "cell_type": "code",
   "execution_count": 21,
   "metadata": {},
   "outputs": [
    {
     "name": "stdout",
     "output_type": "stream",
     "text": [
      " Accuracy: 0.20737073707370737 \n",
      " Precision: 0.20737073707370737 \n",
      " Recall: 1.0 \n",
      " F1: 0.34350797266514804 \n",
      " Площадь ROC-кривой: 0.5 \n",
      " Матрица ошибок: \n",
      " [[   0 1441]\n",
      " [   0  377]]\n"
     ]
    }
   ],
   "source": [
    "predicted_valid = pd.Series(1, index = target_valid.index)\n",
    "f1 = f1_score(target_valid, predicted_valid)\n",
    "acc = accuracy_score(target_valid, predicted_valid)\n",
    "pre = precision_score(target_valid, predicted_valid)\n",
    "rec = recall_score(target_valid, predicted_valid)\n",
    "matrix = confusion_matrix(target_valid, predicted_valid)\n",
    "roc = roc_auc_score(target_valid, predicted_valid)\n",
    "print(' Accuracy:', acc, '\\n', 'Precision:', pre, '\\n', 'Recall:', rec, '\\n'\n",
    "      ' F1:', f1, '\\n',  'Площадь ROC-кривой:', roc, '\\n', 'Матрица ошибок:', '\\n', matrix)"
   ]
  },
  {
   "cell_type": "markdown",
   "metadata": {},
   "source": [
    "Без учета дисбаланса классов лучший показатель меры F1 у модели случйного леса - 0.604. Показатель меры F1 у модели логистической регрессии ниже, чем у константной модели."
   ]
  },
  {
   "cell_type": "markdown",
   "metadata": {},
   "source": [
    "## Борьба с дисбалансом"
   ]
  },
  {
   "cell_type": "markdown",
   "metadata": {},
   "source": [
    "###  Изменение гиперпараметра \"взвешивание классов\""
   ]
  },
  {
   "cell_type": "markdown",
   "metadata": {},
   "source": [
    "#### Построение модели дерева"
   ]
  },
  {
   "cell_type": "code",
   "execution_count": 22,
   "metadata": {},
   "outputs": [
    {
     "name": "stdout",
     "output_type": "stream",
     "text": [
      " Accuracy: 0.7783278327832783 \n",
      " Precision: 0.477112676056338 \n",
      " Recall: 0.7188328912466844 \n",
      " F1: 0.5735449735449736 \n",
      " Глубина дерева: 5 \n",
      " Площадь ROC-кривой: 0.8396523192522141 \n",
      " Матрица ошибок: \n",
      " [[1144  297]\n",
      " [ 106  271]]\n"
     ]
    }
   ],
   "source": [
    "best_f1 = 0\n",
    "best_depth = 0\n",
    "for depth in range(1,10):\n",
    "    model_tree_b = DecisionTreeClassifier(random_state = 12345, max_depth = depth,\n",
    "                                        class_weight = 'balanced')\n",
    "    model_tree_b.fit(features_train, target_train)\n",
    "    predicted_valid = model_tree_b.predict(features_valid)\n",
    "    f1 = f1_score(target_valid, predicted_valid)\n",
    "    if f1 > best_f1:\n",
    "        best_f1 = f1\n",
    "        best_depth = depth\n",
    "        acc = accuracy_score(target_valid, predicted_valid)\n",
    "        pre = precision_score(target_valid, predicted_valid)\n",
    "        rec = recall_score(target_valid, predicted_valid) \n",
    "        matrix = confusion_matrix(target_valid, predicted_valid)\n",
    "        probabilities = model_tree_b.predict_proba(features_valid)\n",
    "        probabilities_one = probabilities[:, 1]\n",
    "        roc = roc_auc_score(target_valid, probabilities_one)\n",
    "print(' Accuracy:', acc, '\\n', 'Precision:', pre, '\\n', 'Recall:', rec, '\\n'\n",
    "      ' F1:', best_f1, '\\n','Глубина дерева:', best_depth, '\\n', 'Площадь ROC-кривой:', roc, '\\n', 'Матрица ошибок:', '\\n', \n",
    "     matrix)"
   ]
  },
  {
   "cell_type": "markdown",
   "metadata": {},
   "source": [
    "#### Построение модели случайного леса:"
   ]
  },
  {
   "cell_type": "code",
   "execution_count": 23,
   "metadata": {},
   "outputs": [
    {
     "name": "stdout",
     "output_type": "stream",
     "text": [
      " Accuracy: 0.8443344334433444 \n",
      " Precision: 0.6108490566037735 \n",
      " Recall: 0.6870026525198939 \n",
      " F1: 0.6466916354556803 \n",
      " Количество деревьев: 45 \n",
      " Глубина дерева: 9 \n",
      " Площадь ROC-кривой: 0.8665861645593155 \n",
      " Матрица ошибок: \n",
      " [[1276  165]\n",
      " [ 118  259]]\n"
     ]
    }
   ],
   "source": [
    "best_f1 = 0\n",
    "best_n = 0\n",
    "best_depth = 0\n",
    "for depth in range(1, 20):\n",
    "    for n in range(20, 50, 5):    \n",
    "        model_forest = RandomForestClassifier(random_state = 12345, max_depth = depth,\n",
    "                                              n_estimators = n, class_weight = 'balanced')\n",
    "        model_forest.fit(features_train, target_train)\n",
    "        predicted_valid = model_forest.predict(features_valid)\n",
    "        f1 = f1_score(target_valid, predicted_valid)\n",
    "        if f1 > best_f1:\n",
    "            best_f1 = f1\n",
    "            best_n = n\n",
    "            best_depth = depth\n",
    "            acc = accuracy_score(target_valid, predicted_valid)\n",
    "            pre = precision_score(target_valid, predicted_valid)\n",
    "            rec = recall_score(target_valid, predicted_valid)\n",
    "            matrix = confusion_matrix(target_valid, predicted_valid)\n",
    "            probabilities = model_forest.predict_proba(features_valid)\n",
    "            probabilities_one = probabilities[:, 1]\n",
    "            roc = roc_auc_score(target_valid, probabilities_one)\n",
    "print(' Accuracy:', acc, '\\n', 'Precision:', pre, '\\n', 'Recall:', rec, '\\n'\n",
    "      ' F1:', best_f1, '\\n','Количество деревьев:', best_n, '\\n', 'Глубина дерева:',\n",
    "      best_depth, '\\n', 'Площадь ROC-кривой:', roc, '\\n', 'Матрица ошибок:', '\\n', matrix)"
   ]
  },
  {
   "cell_type": "markdown",
   "metadata": {},
   "source": [
    "#### Построение модели логистической регрессии"
   ]
  },
  {
   "cell_type": "code",
   "execution_count": 24,
   "metadata": {},
   "outputs": [
    {
     "name": "stdout",
     "output_type": "stream",
     "text": [
      " Accuracy: 0.7090209020902091 \n",
      " Precision: 0.39173789173789175 \n",
      " Recall: 0.7294429708222812 \n",
      " F1: 0.509731232622799 \n",
      " Площадь ROC-кривой: 0.7777792094717602 \n",
      " Матрица ошибок: \n",
      " [[1014  427]\n",
      " [ 102  275]]\n"
     ]
    }
   ],
   "source": [
    "model_reg_b = LogisticRegression(random_state=12345, solver='lbfgs', max_iter=1000, \n",
    "                                class_weight = 'balanced')\n",
    "model_reg_b.fit(features_train, target_train)\n",
    "predicted_valid = model_reg_b.predict(features_valid)\n",
    "f1 = f1_score(target_valid, predicted_valid)\n",
    "acc = accuracy_score(target_valid, predicted_valid)\n",
    "pre = precision_score(target_valid, predicted_valid)\n",
    "rec = recall_score(target_valid, predicted_valid) \n",
    "matrix = confusion_matrix(target_valid, predicted_valid)\n",
    "probabilities = model_reg_b.predict_proba(features_valid)\n",
    "probabilities_one = probabilities[:, 1]\n",
    "roc = roc_auc_score(target_valid, probabilities_one)\n",
    "print(' Accuracy:', acc, '\\n', 'Precision:', pre, '\\n', 'Recall:', rec, '\\n'\n",
    "      ' F1:', f1, '\\n', 'Площадь ROC-кривой:', roc, '\\n', 'Матрица ошибок:', '\\n', matrix)"
   ]
  },
  {
   "cell_type": "markdown",
   "metadata": {},
   "source": [
    "В результате применения взвешивания классов значительно повысился показатель меры F1 у модели логистической регрессии (0.510). Лучший показатель меры F1 у модели случайного леса - 0.646."
   ]
  },
  {
   "cell_type": "markdown",
   "metadata": {},
   "source": [
    "### Применение техники \"увеличение выборки (upsampling)\""
   ]
  },
  {
   "cell_type": "code",
   "execution_count": 25,
   "metadata": {},
   "outputs": [],
   "source": [
    "def upsample(features, target, repeat):\n",
    "    features_zeros = features[target == 0]\n",
    "    features_ones = features[target == 1]\n",
    "    target_zeros = target[target == 0]\n",
    "    target_ones = target[target == 1]\n",
    "    features_upsampled = pd.concat([features_zeros] + [features_ones] * repeat)\n",
    "    target_upsampled = pd.concat([target_zeros] + [target_ones] * repeat)\n",
    "    features_upsampled, target_upsampled = shuffle(features_upsampled, target_upsampled,\n",
    "                                                   random_state = 12345) \n",
    "    return features_upsampled, target_upsampled"
   ]
  },
  {
   "cell_type": "markdown",
   "metadata": {},
   "source": [
    "Альтернативная техника:"
   ]
  },
  {
   "cell_type": "code",
   "execution_count": 26,
   "metadata": {},
   "outputs": [
    {
     "name": "stdout",
     "output_type": "stream",
     "text": [
      "(8656, 11) (8656,)\n"
     ]
    }
   ],
   "source": [
    "oversample = SMOTE(random_state = 123)\n",
    "features_train_ups, target_train_ups = oversample.fit_resample(features_train, target_train)\n",
    "print(features_train_ups.shape, target_train_ups.shape)"
   ]
  },
  {
   "cell_type": "markdown",
   "metadata": {},
   "source": [
    "#### Построение модели дерева"
   ]
  },
  {
   "cell_type": "code",
   "execution_count": 27,
   "metadata": {},
   "outputs": [
    {
     "name": "stdout",
     "output_type": "stream",
     "text": [
      " Accuracy: 0.8157315731573157 \n",
      " Precision: 0.547085201793722 \n",
      " Recall: 0.6472148541114059 \n",
      " F1: 0.5929526123936817 \n",
      " Глубина дерева: 5 \n",
      " Площадь ROC-кривой: 0.8400158672598789 \n",
      " Матрица ошибок: \n",
      " [[1239  202]\n",
      " [ 133  244]] \n",
      " Увеличение в 3\n"
     ]
    }
   ],
   "source": [
    "best_f1 = 0\n",
    "best_repeat = 0\n",
    "for depth in range (1, 10):\n",
    "    for repeat in range (1,6):\n",
    "        features_up, target_up = upsample(features_train, target_train, repeat)\n",
    "        model_tree = DecisionTreeClassifier(random_state = 12345, max_depth = depth)\n",
    "        model_tree.fit(features_up, target_up)\n",
    "        predicted_valid = model_tree.predict(features_valid)\n",
    "        f1 = f1_score(target_valid, predicted_valid)\n",
    "        if f1 > best_f1:\n",
    "            best_f1 = f1\n",
    "            best_depth = depth\n",
    "            best_repeat = repeat\n",
    "            acc = accuracy_score(target_valid, predicted_valid)\n",
    "            pre = precision_score(target_valid, predicted_valid)\n",
    "            rec = recall_score(target_valid, predicted_valid)\n",
    "            matrix = confusion_matrix(target_valid, predicted_valid)\n",
    "            probabilities = model_tree.predict_proba(features_valid)\n",
    "            probabilities_one = probabilities[:, 1]\n",
    "            roc = roc_auc_score(target_valid, probabilities_one)\n",
    "print(' Accuracy:', acc, '\\n', 'Precision:', pre, '\\n', 'Recall:', rec, '\\n'\n",
    "      ' F1:', best_f1, '\\n','Глубина дерева:', best_depth, '\\n', 'Площадь ROC-кривой:', roc, '\\n', 'Матрица ошибок:', '\\n', \n",
    "     matrix, '\\n', 'Увеличение в', best_repeat)"
   ]
  },
  {
   "cell_type": "markdown",
   "metadata": {},
   "source": [
    "Применение альтернативного решения:"
   ]
  },
  {
   "cell_type": "code",
   "execution_count": 28,
   "metadata": {},
   "outputs": [
    {
     "name": "stdout",
     "output_type": "stream",
     "text": [
      " Accuracy: 0.7997799779977998 \n",
      " Precision: 0.5127701375245579 \n",
      " Recall: 0.6923076923076923 \n",
      " F1: 0.5891647855530473 \n",
      " Глубина дерева: 7 \n",
      " Площадь ROC-кривой: 0.8366426939735704 \n",
      " Матрица ошибок: \n",
      " [[1193  248]\n",
      " [ 116  261]] \n",
      "\n"
     ]
    }
   ],
   "source": [
    "best_f1 = 0\n",
    "for depth in range (1, 10):\n",
    "    model_tree = DecisionTreeClassifier(random_state = 12345, max_depth = depth)\n",
    "    model_tree.fit(features_train_ups, target_train_ups)\n",
    "    predicted_valid = model_tree.predict(features_valid)\n",
    "    f1 = f1_score(target_valid, predicted_valid)\n",
    "    if f1 > best_f1:\n",
    "        best_f1 = f1\n",
    "        best_depth = depth\n",
    "        acc = accuracy_score(target_valid, predicted_valid)\n",
    "        pre = precision_score(target_valid, predicted_valid)\n",
    "        rec = recall_score(target_valid, predicted_valid)\n",
    "        matrix = confusion_matrix(target_valid, predicted_valid)\n",
    "        probabilities = model_tree.predict_proba(features_valid)\n",
    "        probabilities_one = probabilities[:, 1]\n",
    "        roc = roc_auc_score(target_valid, probabilities_one)\n",
    "print(' Accuracy:', acc, '\\n', 'Precision:', pre, '\\n', 'Recall:', rec, '\\n'\n",
    "      ' F1:', best_f1, '\\n','Глубина дерева:', best_depth, '\\n', 'Площадь ROC-кривой:', roc, '\\n', 'Матрица ошибок:', '\\n', \n",
    "     matrix, '\\n')"
   ]
  },
  {
   "cell_type": "markdown",
   "metadata": {},
   "source": [
    "#### Построение модели случайного леса"
   ]
  },
  {
   "cell_type": "code",
   "execution_count": 29,
   "metadata": {},
   "outputs": [
    {
     "name": "stdout",
     "output_type": "stream",
     "text": [
      " Accuracy: 0.8674367436743674 \n",
      " Precision: 0.7266666666666667 \n",
      " Recall: 0.5782493368700266 \n",
      " F1: 0.6440177252584934 \n",
      " Количество деревьев: 40 \n",
      " Глубина дерева: 8 \n",
      " Площадь ROC-кривой: 0.8675967359831533 \n",
      " Матрица ошибок: \n",
      " [[1359   82]\n",
      " [ 159  218]] \n",
      " Увеличение в 2\n"
     ]
    }
   ],
   "source": [
    "best_f1 = 0\n",
    "best_n = 0\n",
    "best_depth = 0\n",
    "best_repeat = 0\n",
    "for depth in range(1, 20):\n",
    "    for n in range(20, 60, 5):\n",
    "        for repeat in range (1,6):\n",
    "            features_up, target_up = upsample(features_train, target_train, repeat)    \n",
    "            model_forest = RandomForestClassifier(random_state = 12345, max_depth = depth,\n",
    "                                              n_estimators = n)\n",
    "            model_forest.fit(features_up, target_up)\n",
    "            predicted_valid = model_forest.predict(features_valid)\n",
    "            f1 = f1_score(target_valid, predicted_valid)\n",
    "            if f1 > best_f1:\n",
    "                best_f1 = f1\n",
    "                best_n = n\n",
    "                best_depth = depth\n",
    "                acc = accuracy_score(target_valid, predicted_valid)\n",
    "                pre = precision_score(target_valid, predicted_valid)\n",
    "                rec = recall_score(target_valid, predicted_valid) \n",
    "                best_repeat = repeat\n",
    "                matrix = confusion_matrix(target_valid, predicted_valid)\n",
    "                probabilities = model_forest.predict_proba(features_valid)\n",
    "                probabilities_one = probabilities[:, 1]\n",
    "                roc = roc_auc_score(target_valid, probabilities_one)\n",
    "print(' Accuracy:', acc, '\\n', 'Precision:', pre, '\\n', 'Recall:', rec, '\\n'\n",
    "      ' F1:', best_f1, '\\n','Количество деревьев:', best_n, '\\n', 'Глубина дерева:',\n",
    "      best_depth, '\\n', 'Площадь ROC-кривой:', roc, '\\n', 'Матрица ошибок:', '\\n', matrix,'\\n',\n",
    "      'Увеличение в', best_repeat)"
   ]
  },
  {
   "cell_type": "markdown",
   "metadata": {},
   "source": [
    "#### Построение модели логистической регрессии"
   ]
  },
  {
   "cell_type": "code",
   "execution_count": 30,
   "metadata": {},
   "outputs": [
    {
     "name": "stdout",
     "output_type": "stream",
     "text": [
      " Accuracy: 0.7013201320132013 \n",
      " Precision: 0.385989010989011 \n",
      " Recall: 0.7453580901856764 \n",
      " F1: 0.5085972850678734 \n",
      " Площадь ROC-кривой: 0.777854680197402 \n",
      "  Матрица ошибок: \n",
      " [[994 447]\n",
      " [ 96 281]] \n",
      " Увеличение в \n",
      " 4\n"
     ]
    }
   ],
   "source": [
    "best_f1 = 0\n",
    "best_repeat = 0\n",
    "for repeat in range (1,6):\n",
    "    features_up, target_up = upsample(features_train, target_train, repeat)\n",
    "    model_reg = LogisticRegression(random_state=12345, solver='lbfgs', max_iter=1000)\n",
    "    model_reg.fit(features_up, target_up)\n",
    "    predicted_valid = model_reg.predict(features_valid)\n",
    "    f1 = f1_score(target_valid, predicted_valid)\n",
    "    if f1 > best_f1:\n",
    "        best_f1 = f1\n",
    "        acc = accuracy_score(target_valid, predicted_valid)\n",
    "        pre = precision_score(target_valid, predicted_valid)\n",
    "        rec = recall_score(target_valid, predicted_valid) \n",
    "        matrix = confusion_matrix(target_valid, predicted_valid)\n",
    "        best_repeat = repeat\n",
    "        probabilities = model_reg.predict_proba(features_valid)\n",
    "        probabilities_one = probabilities[:, 1]\n",
    "        roc = roc_auc_score(target_valid, probabilities_one)\n",
    "print(' Accuracy:', acc, '\\n', 'Precision:', pre, '\\n', 'Recall:', rec, '\\n'\n",
    "      ' F1:', best_f1, '\\n', 'Площадь ROC-кривой:', roc, '\\n', ' Матрица ошибок:', '\\n', matrix, '\\n', 'Увеличение в',\n",
    "      '\\n', best_repeat)"
   ]
  },
  {
   "cell_type": "markdown",
   "metadata": {},
   "source": [
    "В результате применения техники \"увеличение выборки\" значительно повысился показатель меры F1 у модели логистической регрессии (0.509). Лучший показатель меры F1 у модели случайного леса - 0.649."
   ]
  },
  {
   "cell_type": "markdown",
   "metadata": {},
   "source": [
    "### Применение техники \"уменьшение выборки (downsampling)\""
   ]
  },
  {
   "cell_type": "code",
   "execution_count": 31,
   "metadata": {},
   "outputs": [],
   "source": [
    "def downsample(features, target, fraction):\n",
    "    features_zeros = features[target == 0]\n",
    "    features_ones = features[target == 1]\n",
    "    target_zeros = target[target == 0]\n",
    "    target_ones = target[target == 1]\n",
    "    features_downsampled = pd.concat([features_zeros.sample(frac=fraction, random_state=12345)]\n",
    "                                     + [features_ones])\n",
    "    target_downsampled = pd.concat([target_zeros.sample(frac=fraction, random_state=12345)]\n",
    "                                   + [target_ones])\n",
    "    features_downsampled, target_downsampled = shuffle(features_downsampled,\n",
    "                                        target_downsampled, random_state=12345)\n",
    "    return features_downsampled, target_downsampled"
   ]
  },
  {
   "cell_type": "markdown",
   "metadata": {},
   "source": [
    "#### Построение модели дерева"
   ]
  },
  {
   "cell_type": "code",
   "execution_count": 32,
   "metadata": {},
   "outputs": [
    {
     "name": "stdout",
     "output_type": "stream",
     "text": [
      " Accuracy: 0.7975797579757976 \n",
      " Precision: 0.5084745762711864 \n",
      " Recall: 0.7161803713527851 \n",
      " F1: 0.5947136563876652 \n",
      " Глубина дерева: 7 \n",
      " Площадь ROC-кривой: 0.8380361412738354 \n",
      " Матрица ошибок: \n",
      " [[1180  261]\n",
      " [ 107  270]] \n",
      " Доля 0.28\n"
     ]
    }
   ],
   "source": [
    "best_f1 = 0\n",
    "best_fraction = 0\n",
    "best_depth = 0\n",
    "for depth in range(1,10):\n",
    "    for fraction in np.arange (0.01, 0.31, 0.01):\n",
    "        features_down, target_down = downsample(features_train, target_train, fraction)\n",
    "        model_tree = DecisionTreeClassifier(random_state = 12345, max_depth = depth)\n",
    "        model_tree.fit(features_down, target_down)\n",
    "        predicted_valid = model_tree.predict(features_valid)\n",
    "        f1 = f1_score(target_valid, predicted_valid)\n",
    "        if f1 > best_f1:\n",
    "            best_f1 = f1\n",
    "            best_depth = depth\n",
    "            best_fraction = fraction\n",
    "            acc = accuracy_score(target_valid, predicted_valid)\n",
    "            pre = precision_score(target_valid, predicted_valid)\n",
    "            rec = recall_score(target_valid, predicted_valid)\n",
    "            matrix = confusion_matrix(target_valid, predicted_valid)\n",
    "            probabilities = model_tree.predict_proba(features_valid)\n",
    "            probabilities_one = probabilities[:, 1]\n",
    "            roc = roc_auc_score(target_valid, probabilities_one)\n",
    "print(' Accuracy:', acc, '\\n', 'Precision:', pre, '\\n', 'Recall:', rec, '\\n'\n",
    "      ' F1:', best_f1, '\\n','Глубина дерева:', best_depth, '\\n', 'Площадь ROC-кривой:', roc, '\\n', 'Матрица ошибок:', '\\n', \n",
    "     matrix, '\\n', 'Доля', best_fraction)"
   ]
  },
  {
   "cell_type": "markdown",
   "metadata": {},
   "source": [
    "#### Построение модели случайного леса"
   ]
  },
  {
   "cell_type": "code",
   "execution_count": 33,
   "metadata": {},
   "outputs": [
    {
     "name": "stdout",
     "output_type": "stream",
     "text": [
      " Accuracy: 0.8388338833883389 \n",
      " Precision: 0.59375 \n",
      " Recall: 0.7055702917771883 \n",
      " F1: 0.6448484848484848 \n",
      " Количество деревьев: 45 \n",
      " Глубина дерева: 7 \n",
      " Площадь ROC-кривой: 0.8666984502730751 \n",
      " Матрица ошибок: \n",
      " [[1259  182]\n",
      " [ 111  266]] \n",
      " Доля: 0.35000000000000014\n",
      "--- 863.9736275672913 seconds ---\n"
     ]
    }
   ],
   "source": [
    "start_time = time.time()\n",
    "best_f1 = 0\n",
    "best_n = 0\n",
    "best_depth = 0\n",
    "best_fraction = 0\n",
    "for depth in range(1, 20):\n",
    "    for n in range(20, 60, 5):\n",
    "        for fraction in np.arange (0.2, 0.4, 0.01):\n",
    "            features_down, target_down = downsample(features_train, target_train, fraction)    \n",
    "            model_forest = RandomForestClassifier(random_state = 12345, max_depth = depth,\n",
    "                                              n_estimators = n)\n",
    "            model_forest.fit(features_down, target_down)\n",
    "            predicted_valid = model_forest.predict(features_valid)\n",
    "            f1 = f1_score(target_valid, predicted_valid)\n",
    "            if f1 > best_f1:\n",
    "                best_f1 = f1\n",
    "                best_n = n\n",
    "                best_depth = depth\n",
    "                acc = accuracy_score(target_valid, predicted_valid)\n",
    "                pre = precision_score(target_valid, predicted_valid)\n",
    "                rec = recall_score(target_valid, predicted_valid) \n",
    "                matrix = confusion_matrix(target_valid, predicted_valid)\n",
    "                best_fraction = fraction\n",
    "                probabilities = model_forest.predict_proba(features_valid)\n",
    "                probabilities_one = probabilities[:, 1]\n",
    "                roc = roc_auc_score(target_valid, probabilities_one)\n",
    "print(' Accuracy:', acc, '\\n', 'Precision:', pre, '\\n', 'Recall:', rec, '\\n'\n",
    "      ' F1:', best_f1, '\\n','Количество деревьев:', best_n, '\\n', 'Глубина дерева:',\n",
    "      best_depth, '\\n', 'Площадь ROC-кривой:', roc, '\\n', 'Матрица ошибок:', '\\n', matrix,'\\n', 'Доля:', best_fraction)\n",
    "print(\"--- %s seconds ---\" % (time.time() - start_time))"
   ]
  },
  {
   "cell_type": "markdown",
   "metadata": {},
   "source": [
    "#### Построение модели логистической регрессии"
   ]
  },
  {
   "cell_type": "code",
   "execution_count": 34,
   "metadata": {},
   "outputs": [
    {
     "name": "stdout",
     "output_type": "stream",
     "text": [
      " Accuracy: 0.7337733773377337 \n",
      " Precision: 0.4135702746365105 \n",
      " Recall: 0.6790450928381963 \n",
      " F1: 0.5140562248995983 \n",
      " Площадь ROC-кривой: 0.7743793453190664 \n",
      "  Матрица ошибок: \n",
      " [[1078  363]\n",
      " [ 121  256]] \n",
      " Доля: 0.3\n"
     ]
    }
   ],
   "source": [
    "best_f1 = 0\n",
    "best_fraction = 0\n",
    "for fraction in np.arange (0.01, 0.41, 0.01):\n",
    "    features_down, target_down = downsample(features_train, target_train, fraction)\n",
    "    model_reg = LogisticRegression(random_state=12345, solver='lbfgs', max_iter=1000)\n",
    "    model_reg.fit(features_down, target_down)\n",
    "    predicted_valid = model_reg.predict(features_valid)\n",
    "    f1 = f1_score(target_valid, predicted_valid)\n",
    "    if f1 > best_f1:\n",
    "        best_f1 = f1\n",
    "        acc = accuracy_score(target_valid, predicted_valid)\n",
    "        pre = precision_score(target_valid, predicted_valid)\n",
    "        rec = recall_score(target_valid, predicted_valid) \n",
    "        matrix = confusion_matrix(target_valid, predicted_valid)\n",
    "        best_fraction = fraction\n",
    "        probabilities = model_reg.predict_proba(features_valid)\n",
    "        probabilities_one = probabilities[:, 1]\n",
    "        roc = roc_auc_score(target_valid, probabilities_one)\n",
    "print(' Accuracy:', acc, '\\n', 'Precision:', pre, '\\n', 'Recall:', rec, '\\n'\n",
    "      ' F1:', best_f1, '\\n', 'Площадь ROC-кривой:', roc, '\\n', ' Матрица ошибок:', '\\n', matrix, '\\n', \n",
    "      'Доля:', best_fraction)"
   ]
  },
  {
   "cell_type": "markdown",
   "metadata": {},
   "source": [
    "В результате применения техники \"уменьшение выборки\" значительно повысился показатель меры F1 у модели логистической регрессии (0.514). Лучший показатель меры F1 у модели случайного леса - 0.645."
   ]
  },
  {
   "cell_type": "markdown",
   "metadata": {},
   "source": [
    "### Изменения порога для модели логистической регрессии"
   ]
  },
  {
   "cell_type": "code",
   "execution_count": 35,
   "metadata": {},
   "outputs": [
    {
     "name": "stdout",
     "output_type": "stream",
     "text": [
      " Accuracy: 0.77007700770077 \n",
      " Precision: 0.4564755838641189 \n",
      " Recall: 0.5702917771883289 \n",
      " F1: 0.5070754716981132 \n",
      " Площадь ROC-кривой: 0.773663293800172 \n",
      "  Матрица ошибок: \n",
      " [[1185  256]\n",
      " [ 162  215]] \n",
      " Порог: 0.27\n"
     ]
    }
   ],
   "source": [
    "best_threshold = 0\n",
    "best_f1 = 0\n",
    "model_reg = LogisticRegression(random_state=12345, solver='lbfgs', max_iter=1000)\n",
    "model_reg.fit(features_train, target_train)\n",
    "probabilities_valid = model_reg.predict_proba(features_valid)\n",
    "probabilities_valid_1 = probabilities_valid[:,1]\n",
    "best_threshold = 0\n",
    "for thre in np.arange (0, 0.5, 0.01):\n",
    "    predicted_valid = probabilities_valid_1 > thre\n",
    "    f1 = f1_score(target_valid, predicted_valid)\n",
    "    if f1 > best_f1:\n",
    "        best_f1 = f1\n",
    "        acc = accuracy_score(target_valid, predicted_valid)\n",
    "        pre = precision_score(target_valid, predicted_valid)\n",
    "        rec = recall_score(target_valid, predicted_valid) \n",
    "        matrix = confusion_matrix(target_valid, predicted_valid)\n",
    "        best_threshold = thre\n",
    "        probabilities = model_reg.predict_proba(features_valid)\n",
    "        probabilities_one = probabilities[:, 1]\n",
    "        roc = roc_auc_score(target_valid, probabilities_one)\n",
    "print(' Accuracy:', acc, '\\n', 'Precision:', pre, '\\n', 'Recall:', rec, '\\n'\n",
    "      ' F1:', best_f1, '\\n', 'Площадь ROC-кривой:', roc, '\\n', ' Матрица ошибок:', '\\n', matrix, '\\n', \n",
    "      'Порог:', best_threshold)    \n",
    "    "
   ]
  },
  {
   "cell_type": "markdown",
   "metadata": {},
   "source": [
    "При изменении порога максимальный показатель меры F1 - 0.505 был достигнут при значении порога 0.27 "
   ]
  },
  {
   "cell_type": "markdown",
   "metadata": {},
   "source": [
    "### Применение всех методов для модели логистической регресии"
   ]
  },
  {
   "cell_type": "code",
   "execution_count": 36,
   "metadata": {},
   "outputs": [
    {
     "name": "stdout",
     "output_type": "stream",
     "text": [
      " Accuracy: 0.7502750275027503 \n",
      " Precision: 0.4341880341880342 \n",
      " Recall: 0.6737400530503979 \n",
      " F1: 0.5280665280665281 \n",
      " Площадь ROC-кривой: 0.7795849846389462 \n",
      " Матрица ошибок: \n",
      " [[1110  331]\n",
      " [ 123  254]] \n",
      " Увеличение в: 3 \n",
      " Доля: 0.19 \n",
      " Порог: 0.8300000000000001\n"
     ]
    }
   ],
   "source": [
    "best_f1 = 0\n",
    "best_repeat = 0\n",
    "best_fraction = 0\n",
    "best_threshold = 0\n",
    "for repeat in range (1,5):\n",
    "    for fraction in np.arange (0.01, 0.41, 0.01):\n",
    "        features_up, target_up = upsample(features_train, target_train, repeat)\n",
    "        features_up_d, target_up_d = downsample(features_up, target_up, fraction)\n",
    "        model_reg = LogisticRegression(random_state=12345, solver='lbfgs', max_iter=1000)\n",
    "        model_reg.fit(features_up_d, target_up_d)\n",
    "        probabilities_valid = model_reg.predict_proba(features_valid)\n",
    "        probabilities_valid_1 = probabilities_valid[:,1]\n",
    "        for thre in np.arange (0, 1, 0.01):\n",
    "            predicted_valid = probabilities_valid_1 > thre\n",
    "            f1 = f1_score(target_valid, predicted_valid)        \n",
    "            if f1 > best_f1:\n",
    "                best_f1 = f1\n",
    "                acc = accuracy_score(target_valid, predicted_valid)\n",
    "                pre = precision_score(target_valid, predicted_valid)\n",
    "                rec = recall_score(target_valid, predicted_valid) \n",
    "                matrix = confusion_matrix(target_valid, predicted_valid)\n",
    "                best_repeat = repeat\n",
    "                best_fraction = fraction\n",
    "                best_threshold = thre\n",
    "                probabilities = model_reg.predict_proba(features_valid)\n",
    "                probabilities_one = probabilities[:, 1]\n",
    "                roc = roc_auc_score(target_valid, probabilities_one)\n",
    "print(' Accuracy:', acc, '\\n', 'Precision:', pre, '\\n', 'Recall:', rec, '\\n',\n",
    "      'F1:', best_f1, '\\n', 'Площадь ROC-кривой:', roc, '\\n', 'Матрица ошибок:', '\\n', matrix, '\\n', 'Увеличение в:',\n",
    "      best_repeat, '\\n', 'Доля:', best_fraction, '\\n', 'Порог:', best_threshold)"
   ]
  },
  {
   "cell_type": "markdown",
   "metadata": {},
   "source": [
    "При применении всех методов к модели логистической регрессии был достигнут максимальный показатель меры F1 для данной модели - 0.525"
   ]
  },
  {
   "cell_type": "markdown",
   "metadata": {},
   "source": [
    "По результатам исследования лучший показатель метрики F1 (0.65 для валидационный выборки) был достигнут при следующих условиях:\n",
    "- Применение техники \"Увеличение выборки\" методом SMOTE;\n",
    "- Использование модели \"Случайный лес\" с гиперпараметрами:\n",
    "    - Глубина дерева - 10;\n",
    "    - количество деревьев - 30."
   ]
  },
  {
   "cell_type": "markdown",
   "metadata": {},
   "source": [
    "## Тестирование модели"
   ]
  },
  {
   "cell_type": "markdown",
   "metadata": {},
   "source": [
    "### Тестирование моделей на тестовых данных"
   ]
  },
  {
   "cell_type": "markdown",
   "metadata": {},
   "source": [
    "Модель случайного леса:"
   ]
  },
  {
   "cell_type": "code",
   "execution_count": 37,
   "metadata": {},
   "outputs": [
    {
     "name": "stdout",
     "output_type": "stream",
     "text": [
      " Accuracy: 0.8334249587685542 \n",
      " Precision: 0.5591133004926109 \n",
      " Recall: 0.6467236467236467 \n",
      " F1: 0.5997357992073976 \n",
      " Матрица ошибок: \n",
      " [[1289  179]\n",
      " [ 124  227]]\n"
     ]
    }
   ],
   "source": [
    "model_forest = RandomForestClassifier(random_state = 12345, max_depth = 10,\n",
    "                                              n_estimators = 180)\n",
    "model_forest.fit(features_train_ups, target_train_ups)\n",
    "predicted_test = model_forest.predict(features_test)\n",
    "f1 = f1_score(target_test, predicted_test)\n",
    "acc = accuracy_score(target_test, predicted_test)\n",
    "pre = precision_score(target_test, predicted_test)\n",
    "rec = recall_score(target_test, predicted_test) \n",
    "matrix = confusion_matrix(target_test, predicted_test)\n",
    "probabilities_test = model_forest.predict_proba(features_test)\n",
    "probabilities_test_1 = probabilities_test[:, 1]\n",
    "print(' Accuracy:', acc, '\\n', 'Precision:', pre, '\\n', 'Recall:', rec, '\\n',\n",
    "      'F1:', f1, '\\n', 'Матрица ошибок:', '\\n', matrix)"
   ]
  },
  {
   "cell_type": "markdown",
   "metadata": {},
   "source": [
    "Константная модель:"
   ]
  },
  {
   "cell_type": "code",
   "execution_count": 38,
   "metadata": {},
   "outputs": [
    {
     "name": "stdout",
     "output_type": "stream",
     "text": [
      " Accuracy: 0.19296316657504123 \n",
      " Precision: 0.19296316657504123 \n",
      " Recall: 1.0 \n",
      " F1: 0.3235023041474654 \n",
      " Площадь ROC-кривой: 0.5 \n",
      " Матрица ошибок: \n",
      " [[   0 1468]\n",
      " [   0  351]]\n"
     ]
    }
   ],
   "source": [
    "predicted_test = pd.Series(1, index = target_test.index)\n",
    "f1 = f1_score(target_test, predicted_test)\n",
    "acc = accuracy_score(target_test, predicted_test)\n",
    "pre = precision_score(target_test, predicted_test)\n",
    "rec = recall_score(target_test, predicted_test)\n",
    "matrix = confusion_matrix(target_test, predicted_test)\n",
    "roc = roc_auc_score(target_test, predicted_test)\n",
    "print(' Accuracy:', acc, '\\n', 'Precision:', pre, '\\n', 'Recall:', rec, '\\n'\n",
    "      ' F1:', f1, '\\n',  'Площадь ROC-кривой:', roc, '\\n', 'Матрица ошибок:', '\\n', matrix)"
   ]
  },
  {
   "cell_type": "markdown",
   "metadata": {},
   "source": [
    "Показатель меры F1 для модели случайного леса при оптимальных параметрах для тестовых данных - 0.599."
   ]
  },
  {
   "cell_type": "markdown",
   "metadata": {},
   "source": [
    "### Построение ROC-кривой и вычисление метрики AUC-ROC"
   ]
  },
  {
   "cell_type": "code",
   "execution_count": 39,
   "metadata": {},
   "outputs": [
    {
     "data": {
      "image/png": "[encoded data removed]",
      "text/plain": [
       "<Figure size 640x480 with 1 Axes>"
      ]
     },
     "metadata": {},
     "output_type": "display_data"
    },
    {
     "name": "stdout",
     "output_type": "stream",
     "text": [
      "AUC-ROC: 0.8580680344985521\n"
     ]
    }
   ],
   "source": [
    "fpr, tpr, thresholds = roc_curve(target_test, probabilities_test_1)\n",
    "plt.figure()\n",
    "plt.plot(fpr, tpr, linestyle = '--')\n",
    "plt.plot([0, 1], [0, 1], linestyle='--')\n",
    "plt.xlim(0,1)\n",
    "plt.ylim(0,1)\n",
    "plt.xlabel('False Positive Rate')\n",
    "plt.ylabel('True Positive Rate')\n",
    "plt.title('ROC-кривая')\n",
    "plt.show()\n",
    "print('AUC-ROC:', roc_auc_score(target_test, probabilities_test_1))"
   ]
  },
  {
   "cell_type": "markdown",
   "metadata": {},
   "source": [
    "Построен график, отображающий изменение долей ложноположительных и истинноположительных ответов в зависимости от изменения порога для модели, дающей случайные предсказания, и модели случайного леса с оптимальными параметрами, для модели случайного леса определена метрика AUC-ROC (площадь под ROC-кривой) - 0.858."
   ]
  },
  {
   "cell_type": "markdown",
   "metadata": {},
   "source": [
    "## Вывод"
   ]
  },
  {
   "cell_type": "markdown",
   "metadata": {},
   "source": [
    "При выполнении подготовки данных были выполнены следующие действия:\n",
    "- Загрузка исходных данных в датафрейм;\n",
    "- Приведение заголовков столбцов к необходимому формату;\n",
    "- Обработка пропусков и дубликатов;\n",
    "- Применено \"прямое кодирование\" для последующей обработки категориальных признаков;\n",
    "- Данные были разделены на обучающую, валидационную и тестовую выборки в масштабе 3:1:1;\n",
    "- Выполнено масштабирование количественных признаков для последующей обработки путем стандартизации данных.\n",
    "\n",
    "В результате исследования задачи был выявлен дисбаланс классов для целевого признака, без учета данного дисбаланса были построены следующие модели:\n",
    "- Модель дерева;\n",
    "- Модель случайного леса;\n",
    "- Модель логистической регрессии;\n",
    "- Константная модель.\n",
    "\n",
    "Для каждой из модели были определены оптимальные гиперпараметры, была построена матрица ошибок и определены основные метрики: accuracy, precision, recall, F1. Лучший показатель метрики F1 имеет модель случайного леса - 0.604.\n",
    "\n",
    "Для борьбы с дисбалансом были применены следующие техники:\n",
    "- Изменение гиперпараметра \"взвешивание классов\";\n",
    "- Увеличение выборки;\n",
    "- Уменьшение выборки;\n",
    "- Изменение порога для модели логистической регрессии.\n",
    "- примененение всех методов для модели логистической регрессии.\n",
    "\n",
    "Для каждого приема были построены все виды моделей, была построена матрица ошибок и определены основные метрики. При определении лучшей модели по показателю метрики F1 были сделаны следующие выводы:\n",
    "- для модели дерева лучший результат F1 был достигнут в результате уменьшения выборки: 0.595 (изменение на 0.02)\n",
    "- для модели случайного леса лучший результат F1 был достигнут в результате уменьшения выборки: 0.649 (изменение на 0.04) - лучший результат во всем исследовании.\n",
    "- для модели логистической регрессии лучший результат F1 был достигнут в результате одновременного применения всех методов - 0.528 (изменение на 0.22).\n",
    "- для тестовой выборки при преминении модеи случайного леса метрика F1 составляет 0.59, на 0.2 больше, чем у константной модели, метрика recall составляет 0.647\n",
    "\n",
    "Так же остроен график, отображающий изменение долей ложноположительных и истинноположительных ответов в зависимости от изменения порога для модели, дающей случайные предсказания, и модели случайного леса с оптимальными параметрами, для модели случ определена метрика AUC-ROC (площадь под ROC-кривой)  - 0.858.\n",
    "\n"
   ]
  }
 ],
 "metadata": {
  "ExecuteTimeLog": [
   {
    "duration": 427,
    "start_time": "2023-03-08T07:54:31.106Z"
   },
   {
    "duration": 76,
    "start_time": "2023-03-08T07:54:31.535Z"
   },
   {
    "duration": 105,
    "start_time": "2023-03-08T07:55:06.756Z"
   },
   {
    "duration": 17,
    "start_time": "2023-03-08T07:55:33.245Z"
   },
   {
    "duration": 6,
    "start_time": "2023-03-08T07:58:41.962Z"
   },
   {
    "duration": 11,
    "start_time": "2023-03-08T08:05:46.800Z"
   },
   {
    "duration": 7,
    "start_time": "2023-03-08T08:06:31.255Z"
   },
   {
    "duration": 3,
    "start_time": "2023-03-08T08:06:50.147Z"
   },
   {
    "duration": 12,
    "start_time": "2023-03-08T08:06:59.210Z"
   },
   {
    "duration": 9,
    "start_time": "2023-03-08T08:07:46.402Z"
   },
   {
    "duration": 24,
    "start_time": "2023-03-08T08:07:59.975Z"
   },
   {
    "duration": 8,
    "start_time": "2023-03-08T08:11:34.393Z"
   },
   {
    "duration": 8,
    "start_time": "2023-03-08T08:11:40.757Z"
   },
   {
    "duration": 7,
    "start_time": "2023-03-08T08:12:01.357Z"
   },
   {
    "duration": 8,
    "start_time": "2023-03-08T08:12:17.113Z"
   },
   {
    "duration": 9,
    "start_time": "2023-03-08T08:12:23.491Z"
   },
   {
    "duration": 9,
    "start_time": "2023-03-08T08:12:30.099Z"
   },
   {
    "duration": 20,
    "start_time": "2023-03-08T08:12:50.476Z"
   },
   {
    "duration": 15,
    "start_time": "2023-03-08T08:13:01.770Z"
   },
   {
    "duration": 3,
    "start_time": "2023-03-08T08:14:25.798Z"
   },
   {
    "duration": 17,
    "start_time": "2023-03-08T08:14:30.203Z"
   },
   {
    "duration": 12,
    "start_time": "2023-03-08T08:14:53.099Z"
   },
   {
    "duration": 2,
    "start_time": "2023-03-08T08:19:44.405Z"
   },
   {
    "duration": 45,
    "start_time": "2023-03-08T08:19:57.805Z"
   },
   {
    "duration": 11,
    "start_time": "2023-03-08T08:20:03.521Z"
   },
   {
    "duration": 9,
    "start_time": "2023-03-08T08:20:19.395Z"
   },
   {
    "duration": 10,
    "start_time": "2023-03-08T08:20:34.852Z"
   },
   {
    "duration": 9,
    "start_time": "2023-03-08T08:20:57.357Z"
   },
   {
    "duration": 6,
    "start_time": "2023-03-08T08:21:21.430Z"
   },
   {
    "duration": 8,
    "start_time": "2023-03-08T08:21:27.265Z"
   },
   {
    "duration": 11,
    "start_time": "2023-03-08T08:22:04.449Z"
   },
   {
    "duration": 26,
    "start_time": "2023-03-08T08:22:16.003Z"
   },
   {
    "duration": 9,
    "start_time": "2023-03-08T08:25:16.903Z"
   },
   {
    "duration": 10,
    "start_time": "2023-03-08T08:25:24.556Z"
   },
   {
    "duration": 32,
    "start_time": "2023-03-08T08:25:43.465Z"
   },
   {
    "duration": 5,
    "start_time": "2023-03-08T08:33:03.822Z"
   },
   {
    "duration": 14,
    "start_time": "2023-03-08T08:37:07.616Z"
   },
   {
    "duration": 2343,
    "start_time": "2023-03-08T08:38:18.422Z"
   },
   {
    "duration": 10,
    "start_time": "2023-03-08T08:38:29.812Z"
   },
   {
    "duration": 3,
    "start_time": "2023-03-08T09:17:10.610Z"
   },
   {
    "duration": 10,
    "start_time": "2023-03-08T09:17:13.123Z"
   },
   {
    "duration": 4,
    "start_time": "2023-03-08T09:17:16.828Z"
   },
   {
    "duration": 8,
    "start_time": "2023-03-08T09:17:17.614Z"
   },
   {
    "duration": 4,
    "start_time": "2023-03-08T09:24:47.769Z"
   },
   {
    "duration": 70,
    "start_time": "2023-03-08T09:24:56.401Z"
   },
   {
    "duration": 23,
    "start_time": "2023-03-08T09:25:03.800Z"
   },
   {
    "duration": 3,
    "start_time": "2023-03-08T09:25:06.955Z"
   },
   {
    "duration": 69,
    "start_time": "2023-03-08T09:25:06.960Z"
   },
   {
    "duration": 12,
    "start_time": "2023-03-08T09:25:07.031Z"
   },
   {
    "duration": 8,
    "start_time": "2023-03-08T09:25:07.045Z"
   },
   {
    "duration": 12,
    "start_time": "2023-03-08T09:25:07.055Z"
   },
   {
    "duration": 4,
    "start_time": "2023-03-08T09:25:07.069Z"
   },
   {
    "duration": 70,
    "start_time": "2023-03-08T09:25:07.074Z"
   },
   {
    "duration": 17,
    "start_time": "2023-03-08T09:25:07.146Z"
   },
   {
    "duration": 5,
    "start_time": "2023-03-08T09:25:07.165Z"
   },
   {
    "duration": 10,
    "start_time": "2023-03-08T09:25:15.555Z"
   },
   {
    "duration": 10,
    "start_time": "2023-03-08T09:31:36.431Z"
   },
   {
    "duration": 7,
    "start_time": "2023-03-08T09:31:44.569Z"
   },
   {
    "duration": 10,
    "start_time": "2023-03-08T09:35:54.895Z"
   },
   {
    "duration": 20,
    "start_time": "2023-03-08T09:36:04.727Z"
   },
   {
    "duration": 15,
    "start_time": "2023-03-08T09:36:54.072Z"
   },
   {
    "duration": 883,
    "start_time": "2023-03-08T09:57:17.175Z"
   },
   {
    "duration": 15,
    "start_time": "2023-03-08T10:06:56.057Z"
   },
   {
    "duration": 3,
    "start_time": "2023-03-08T10:09:22.432Z"
   },
   {
    "duration": 75,
    "start_time": "2023-03-08T10:15:31.853Z"
   },
   {
    "duration": 1088,
    "start_time": "2023-03-08T10:15:50.708Z"
   },
   {
    "duration": 36,
    "start_time": "2023-03-08T10:18:14.019Z"
   },
   {
    "duration": 35,
    "start_time": "2023-03-08T10:18:53.874Z"
   },
   {
    "duration": 11,
    "start_time": "2023-03-08T10:54:46.234Z"
   },
   {
    "duration": 51,
    "start_time": "2023-03-08T10:54:54.219Z"
   },
   {
    "duration": 72,
    "start_time": "2023-03-08T10:54:58.065Z"
   },
   {
    "duration": 0,
    "start_time": "2023-03-08T10:54:58.139Z"
   },
   {
    "duration": 0,
    "start_time": "2023-03-08T10:54:58.140Z"
   },
   {
    "duration": 0,
    "start_time": "2023-03-08T10:54:58.141Z"
   },
   {
    "duration": 0,
    "start_time": "2023-03-08T10:54:58.143Z"
   },
   {
    "duration": 0,
    "start_time": "2023-03-08T10:54:58.143Z"
   },
   {
    "duration": 0,
    "start_time": "2023-03-08T10:54:58.144Z"
   },
   {
    "duration": 0,
    "start_time": "2023-03-08T10:54:58.146Z"
   },
   {
    "duration": 0,
    "start_time": "2023-03-08T10:54:58.147Z"
   },
   {
    "duration": 0,
    "start_time": "2023-03-08T10:54:58.148Z"
   },
   {
    "duration": 0,
    "start_time": "2023-03-08T10:54:58.149Z"
   },
   {
    "duration": 0,
    "start_time": "2023-03-08T10:54:58.150Z"
   },
   {
    "duration": 0,
    "start_time": "2023-03-08T10:54:58.151Z"
   },
   {
    "duration": 185,
    "start_time": "2023-03-09T07:17:03.265Z"
   },
   {
    "duration": 1237,
    "start_time": "2023-03-09T07:22:22.018Z"
   },
   {
    "duration": 72,
    "start_time": "2023-03-09T07:25:38.858Z"
   },
   {
    "duration": 131,
    "start_time": "2023-03-09T07:26:45.193Z"
   },
   {
    "duration": 11,
    "start_time": "2023-03-09T07:26:50.840Z"
   },
   {
    "duration": 155,
    "start_time": "2023-03-09T07:26:50.854Z"
   },
   {
    "duration": 27,
    "start_time": "2023-03-09T07:26:51.012Z"
   },
   {
    "duration": 4,
    "start_time": "2023-03-09T07:26:51.042Z"
   },
   {
    "duration": 18,
    "start_time": "2023-03-09T07:26:51.048Z"
   },
   {
    "duration": 12,
    "start_time": "2023-03-09T07:26:51.068Z"
   },
   {
    "duration": 45,
    "start_time": "2023-03-09T07:26:51.082Z"
   },
   {
    "duration": 15,
    "start_time": "2023-03-09T07:26:51.128Z"
   },
   {
    "duration": 15,
    "start_time": "2023-03-09T07:26:51.145Z"
   },
   {
    "duration": 26,
    "start_time": "2023-03-09T07:26:51.162Z"
   },
   {
    "duration": 44,
    "start_time": "2023-03-09T07:26:51.190Z"
   },
   {
    "duration": 37,
    "start_time": "2023-03-09T07:26:51.236Z"
   },
   {
    "duration": 28,
    "start_time": "2023-03-09T07:26:51.284Z"
   },
   {
    "duration": 76,
    "start_time": "2023-03-09T07:27:15.508Z"
   },
   {
    "duration": 75,
    "start_time": "2023-03-09T07:27:35.512Z"
   },
   {
    "duration": 77,
    "start_time": "2023-03-09T07:27:51.229Z"
   },
   {
    "duration": 104,
    "start_time": "2023-03-09T07:28:17.024Z"
   },
   {
    "duration": 59,
    "start_time": "2023-03-09T07:28:43.346Z"
   },
   {
    "duration": 66,
    "start_time": "2023-03-09T07:28:57.051Z"
   },
   {
    "duration": 91,
    "start_time": "2023-03-09T07:29:05.745Z"
   },
   {
    "duration": 60,
    "start_time": "2023-03-09T07:29:41.412Z"
   },
   {
    "duration": 56,
    "start_time": "2023-03-09T07:34:17.789Z"
   },
   {
    "duration": 59,
    "start_time": "2023-03-09T07:34:54.917Z"
   },
   {
    "duration": 61,
    "start_time": "2023-03-09T07:35:11.904Z"
   },
   {
    "duration": 76,
    "start_time": "2023-03-09T07:41:05.430Z"
   },
   {
    "duration": 162,
    "start_time": "2023-03-09T07:42:22.623Z"
   },
   {
    "duration": 308,
    "start_time": "2023-03-09T07:42:34.311Z"
   },
   {
    "duration": 751,
    "start_time": "2023-03-09T07:42:41.148Z"
   },
   {
    "duration": 208,
    "start_time": "2023-03-09T07:42:50.505Z"
   },
   {
    "duration": 34,
    "start_time": "2023-03-09T07:45:28.165Z"
   },
   {
    "duration": 172,
    "start_time": "2023-03-09T07:46:00.981Z"
   },
   {
    "duration": 891,
    "start_time": "2023-03-09T07:48:05.983Z"
   },
   {
    "duration": 70,
    "start_time": "2023-03-09T07:48:52.252Z"
   },
   {
    "duration": 844,
    "start_time": "2023-03-09T07:49:00.525Z"
   },
   {
    "duration": 2429,
    "start_time": "2023-03-09T07:49:09.888Z"
   },
   {
    "duration": 3881,
    "start_time": "2023-03-09T07:49:21.191Z"
   },
   {
    "duration": 4065,
    "start_time": "2023-03-09T07:50:03.719Z"
   },
   {
    "duration": 5584,
    "start_time": "2023-03-09T07:50:18.724Z"
   },
   {
    "duration": 4,
    "start_time": "2023-03-09T07:50:42.020Z"
   },
   {
    "duration": 72,
    "start_time": "2023-03-09T07:50:42.026Z"
   },
   {
    "duration": 12,
    "start_time": "2023-03-09T07:50:42.100Z"
   },
   {
    "duration": 5,
    "start_time": "2023-03-09T07:50:42.115Z"
   },
   {
    "duration": 11,
    "start_time": "2023-03-09T07:50:42.122Z"
   },
   {
    "duration": 7,
    "start_time": "2023-03-09T07:50:42.135Z"
   },
   {
    "duration": 14,
    "start_time": "2023-03-09T07:50:42.175Z"
   },
   {
    "duration": 9,
    "start_time": "2023-03-09T07:50:42.192Z"
   },
   {
    "duration": 6,
    "start_time": "2023-03-09T07:50:42.203Z"
   },
   {
    "duration": 15,
    "start_time": "2023-03-09T07:50:42.210Z"
   },
   {
    "duration": 52,
    "start_time": "2023-03-09T07:50:42.228Z"
   },
   {
    "duration": 32,
    "start_time": "2023-03-09T07:50:42.282Z"
   },
   {
    "duration": 198,
    "start_time": "2023-03-09T07:50:42.316Z"
   },
   {
    "duration": 3995,
    "start_time": "2023-03-09T07:50:42.517Z"
   },
   {
    "duration": 16,
    "start_time": "2023-03-09T07:55:47.005Z"
   },
   {
    "duration": 12,
    "start_time": "2023-03-09T07:59:12.956Z"
   },
   {
    "duration": 4133,
    "start_time": "2023-03-09T08:00:01.963Z"
   },
   {
    "duration": 7651,
    "start_time": "2023-03-09T08:01:06.097Z"
   },
   {
    "duration": 4,
    "start_time": "2023-03-09T08:05:35.063Z"
   },
   {
    "duration": 240,
    "start_time": "2023-03-09T08:08:07.242Z"
   },
   {
    "duration": 117,
    "start_time": "2023-03-09T08:08:52.660Z"
   },
   {
    "duration": 238,
    "start_time": "2023-03-09T08:08:58.761Z"
   },
   {
    "duration": 293,
    "start_time": "2023-03-09T08:09:05.604Z"
   },
   {
    "duration": 3,
    "start_time": "2023-03-09T08:22:32.220Z"
   },
   {
    "duration": 7,
    "start_time": "2023-03-09T08:23:36.740Z"
   },
   {
    "duration": 10,
    "start_time": "2023-03-09T08:23:43.318Z"
   },
   {
    "duration": 17,
    "start_time": "2023-03-09T08:24:18.926Z"
   },
   {
    "duration": 19,
    "start_time": "2023-03-09T08:25:03.777Z"
   },
   {
    "duration": 4,
    "start_time": "2023-03-09T08:25:07.506Z"
   },
   {
    "duration": 60,
    "start_time": "2023-03-09T08:25:07.513Z"
   },
   {
    "duration": 18,
    "start_time": "2023-03-09T08:25:07.576Z"
   },
   {
    "duration": 6,
    "start_time": "2023-03-09T08:25:07.596Z"
   },
   {
    "duration": 17,
    "start_time": "2023-03-09T08:25:07.604Z"
   },
   {
    "duration": 13,
    "start_time": "2023-03-09T08:25:07.623Z"
   },
   {
    "duration": 41,
    "start_time": "2023-03-09T08:25:07.638Z"
   },
   {
    "duration": 12,
    "start_time": "2023-03-09T08:25:07.681Z"
   },
   {
    "duration": 18,
    "start_time": "2023-03-09T08:25:07.696Z"
   },
   {
    "duration": 23,
    "start_time": "2023-03-09T08:25:07.716Z"
   },
   {
    "duration": 42,
    "start_time": "2023-03-09T08:25:07.742Z"
   },
   {
    "duration": 44,
    "start_time": "2023-03-09T08:25:07.786Z"
   },
   {
    "duration": 194,
    "start_time": "2023-03-09T08:25:07.832Z"
   },
   {
    "duration": 4003,
    "start_time": "2023-03-09T08:25:08.028Z"
   },
   {
    "duration": 9195,
    "start_time": "2023-03-09T08:25:12.034Z"
   },
   {
    "duration": 243,
    "start_time": "2023-03-09T08:25:21.231Z"
   },
   {
    "duration": 100,
    "start_time": "2023-03-09T08:25:21.484Z"
   },
   {
    "duration": 6,
    "start_time": "2023-03-09T08:27:05.099Z"
   },
   {
    "duration": 12,
    "start_time": "2023-03-09T08:27:34.429Z"
   },
   {
    "duration": 7,
    "start_time": "2023-03-09T08:28:24.552Z"
   },
   {
    "duration": 13,
    "start_time": "2023-03-09T08:33:50.531Z"
   },
   {
    "duration": 14,
    "start_time": "2023-03-09T08:35:14.033Z"
   },
   {
    "duration": 4,
    "start_time": "2023-03-09T08:35:21.229Z"
   },
   {
    "duration": 6,
    "start_time": "2023-03-09T08:36:19.464Z"
   },
   {
    "duration": 7,
    "start_time": "2023-03-09T08:36:44.895Z"
   },
   {
    "duration": 4,
    "start_time": "2023-03-09T08:45:42.205Z"
   },
   {
    "duration": 164,
    "start_time": "2023-03-09T08:46:54.341Z"
   },
   {
    "duration": 168,
    "start_time": "2023-03-09T08:47:07.501Z"
   },
   {
    "duration": 6,
    "start_time": "2023-03-09T08:48:33.752Z"
   },
   {
    "duration": 7101,
    "start_time": "2023-03-09T08:48:41.456Z"
   },
   {
    "duration": 7117,
    "start_time": "2023-03-09T08:49:05.858Z"
   },
   {
    "duration": 217,
    "start_time": "2023-03-09T08:49:30.756Z"
   },
   {
    "duration": 55,
    "start_time": "2023-03-09T08:49:43.232Z"
   },
   {
    "duration": 15,
    "start_time": "2023-03-09T08:49:50.287Z"
   },
   {
    "duration": 177,
    "start_time": "2023-03-09T08:57:03.260Z"
   },
   {
    "duration": 4,
    "start_time": "2023-03-09T08:59:17.302Z"
   },
   {
    "duration": 61,
    "start_time": "2023-03-09T08:59:17.308Z"
   },
   {
    "duration": 15,
    "start_time": "2023-03-09T08:59:17.371Z"
   },
   {
    "duration": 9,
    "start_time": "2023-03-09T08:59:17.388Z"
   },
   {
    "duration": 9,
    "start_time": "2023-03-09T08:59:17.399Z"
   },
   {
    "duration": 7,
    "start_time": "2023-03-09T08:59:17.410Z"
   },
   {
    "duration": 14,
    "start_time": "2023-03-09T08:59:17.419Z"
   },
   {
    "duration": 46,
    "start_time": "2023-03-09T08:59:17.435Z"
   },
   {
    "duration": 8,
    "start_time": "2023-03-09T08:59:17.483Z"
   },
   {
    "duration": 19,
    "start_time": "2023-03-09T08:59:17.493Z"
   },
   {
    "duration": 20,
    "start_time": "2023-03-09T08:59:17.514Z"
   },
   {
    "duration": 54,
    "start_time": "2023-03-09T08:59:17.536Z"
   },
   {
    "duration": 170,
    "start_time": "2023-03-09T08:59:17.592Z"
   },
   {
    "duration": 3714,
    "start_time": "2023-03-09T08:59:17.774Z"
   },
   {
    "duration": 7247,
    "start_time": "2023-03-09T08:59:21.490Z"
   },
   {
    "duration": 440,
    "start_time": "2023-03-09T08:59:28.739Z"
   },
   {
    "duration": 97,
    "start_time": "2023-03-09T08:59:29.184Z"
   },
   {
    "duration": 10,
    "start_time": "2023-03-09T09:02:29.295Z"
   },
   {
    "duration": 659,
    "start_time": "2023-03-09T09:04:05.705Z"
   },
   {
    "duration": 132,
    "start_time": "2023-03-09T09:04:21.053Z"
   },
   {
    "duration": 7,
    "start_time": "2023-03-09T09:04:53.406Z"
   },
   {
    "duration": 250,
    "start_time": "2023-03-09T09:05:09.907Z"
   },
   {
    "duration": 141,
    "start_time": "2023-03-09T09:05:47.073Z"
   },
   {
    "duration": 143,
    "start_time": "2023-03-09T09:06:07.063Z"
   },
   {
    "duration": 144,
    "start_time": "2023-03-09T09:06:29.114Z"
   },
   {
    "duration": 129,
    "start_time": "2023-03-09T09:06:36.623Z"
   },
   {
    "duration": 48,
    "start_time": "2023-03-09T09:06:49.706Z"
   },
   {
    "duration": 210,
    "start_time": "2023-03-09T09:06:58.874Z"
   },
   {
    "duration": 171,
    "start_time": "2023-03-09T09:15:32.008Z"
   },
   {
    "duration": 4,
    "start_time": "2023-03-09T09:15:35.823Z"
   },
   {
    "duration": 57,
    "start_time": "2023-03-09T09:15:35.829Z"
   },
   {
    "duration": 14,
    "start_time": "2023-03-09T09:15:35.888Z"
   },
   {
    "duration": 5,
    "start_time": "2023-03-09T09:15:35.904Z"
   },
   {
    "duration": 12,
    "start_time": "2023-03-09T09:15:35.911Z"
   },
   {
    "duration": 21,
    "start_time": "2023-03-09T09:15:35.925Z"
   },
   {
    "duration": 17,
    "start_time": "2023-03-09T09:15:35.948Z"
   },
   {
    "duration": 13,
    "start_time": "2023-03-09T09:15:35.967Z"
   },
   {
    "duration": 5,
    "start_time": "2023-03-09T09:15:35.981Z"
   },
   {
    "duration": 18,
    "start_time": "2023-03-09T09:15:35.988Z"
   },
   {
    "duration": 11,
    "start_time": "2023-03-09T09:15:36.008Z"
   },
   {
    "duration": 33,
    "start_time": "2023-03-09T09:15:36.021Z"
   },
   {
    "duration": 147,
    "start_time": "2023-03-09T09:15:36.056Z"
   },
   {
    "duration": 174,
    "start_time": "2023-03-09T09:15:36.207Z"
   },
   {
    "duration": 3633,
    "start_time": "2023-03-09T09:15:36.383Z"
   },
   {
    "duration": 7146,
    "start_time": "2023-03-09T09:15:40.017Z"
   },
   {
    "duration": 310,
    "start_time": "2023-03-09T09:15:47.165Z"
   },
   {
    "duration": 106,
    "start_time": "2023-03-09T09:15:47.478Z"
   },
   {
    "duration": 210,
    "start_time": "2023-03-09T09:15:47.587Z"
   },
   {
    "duration": 3694,
    "start_time": "2023-03-09T09:19:59.129Z"
   },
   {
    "duration": 6567,
    "start_time": "2023-03-09T09:20:29.611Z"
   },
   {
    "duration": 6797,
    "start_time": "2023-03-09T09:21:24.532Z"
   },
   {
    "duration": 7753,
    "start_time": "2023-03-09T09:21:54.257Z"
   },
   {
    "duration": 6678,
    "start_time": "2023-03-09T09:22:14.805Z"
   },
   {
    "duration": 572,
    "start_time": "2023-03-09T09:28:41.003Z"
   },
   {
    "duration": 4,
    "start_time": "2023-03-09T09:34:16.110Z"
   },
   {
    "duration": 4,
    "start_time": "2023-03-09T09:40:56.715Z"
   },
   {
    "duration": 13,
    "start_time": "2023-03-09T09:43:11.204Z"
   },
   {
    "duration": 26,
    "start_time": "2023-03-09T09:43:36.416Z"
   },
   {
    "duration": 4,
    "start_time": "2023-03-09T09:44:18.704Z"
   },
   {
    "duration": 5,
    "start_time": "2023-03-09T09:44:34.948Z"
   },
   {
    "duration": 2661,
    "start_time": "2023-03-09T09:44:35.954Z"
   },
   {
    "duration": 2667,
    "start_time": "2023-03-09T09:46:35.435Z"
   },
   {
    "duration": 227,
    "start_time": "2023-03-09T09:49:57.218Z"
   },
   {
    "duration": 252,
    "start_time": "2023-03-09T09:52:40.704Z"
   },
   {
    "duration": 5,
    "start_time": "2023-03-09T09:53:09.022Z"
   },
   {
    "duration": 222,
    "start_time": "2023-03-09T09:53:12.110Z"
   },
   {
    "duration": 5,
    "start_time": "2023-03-09T09:53:21.101Z"
   },
   {
    "duration": 235,
    "start_time": "2023-03-09T09:53:25.902Z"
   },
   {
    "duration": 4,
    "start_time": "2023-03-09T09:53:59.104Z"
   },
   {
    "duration": 2757,
    "start_time": "2023-03-09T09:53:59.903Z"
   },
   {
    "duration": 244,
    "start_time": "2023-03-09T09:54:11.214Z"
   },
   {
    "duration": 3370,
    "start_time": "2023-03-09T09:55:32.999Z"
   },
   {
    "duration": 240,
    "start_time": "2023-03-09T09:59:07.465Z"
   },
   {
    "duration": 229,
    "start_time": "2023-03-09T10:00:51.046Z"
   },
   {
    "duration": 218,
    "start_time": "2023-03-09T10:01:11.169Z"
   },
   {
    "duration": 2196,
    "start_time": "2023-03-09T10:02:10.606Z"
   },
   {
    "duration": 2188,
    "start_time": "2023-03-09T10:02:42.487Z"
   },
   {
    "duration": 188,
    "start_time": "2023-03-09T10:03:18.010Z"
   },
   {
    "duration": 2368,
    "start_time": "2023-03-09T10:05:02.240Z"
   },
   {
    "duration": 2316,
    "start_time": "2023-03-09T10:05:47.995Z"
   },
   {
    "duration": 1662473,
    "start_time": "2023-03-09T10:18:16.069Z"
   },
   {
    "duration": 4,
    "start_time": "2023-03-09T11:48:14.067Z"
   },
   {
    "duration": 59,
    "start_time": "2023-03-09T11:48:14.073Z"
   },
   {
    "duration": 14,
    "start_time": "2023-03-09T11:48:14.133Z"
   },
   {
    "duration": 8,
    "start_time": "2023-03-09T11:48:14.149Z"
   },
   {
    "duration": 11,
    "start_time": "2023-03-09T11:48:14.159Z"
   },
   {
    "duration": 6,
    "start_time": "2023-03-09T11:48:14.173Z"
   },
   {
    "duration": 15,
    "start_time": "2023-03-09T11:48:14.181Z"
   },
   {
    "duration": 16,
    "start_time": "2023-03-09T11:48:14.199Z"
   },
   {
    "duration": 14,
    "start_time": "2023-03-09T11:48:14.217Z"
   },
   {
    "duration": 30,
    "start_time": "2023-03-09T11:48:14.233Z"
   },
   {
    "duration": 15,
    "start_time": "2023-03-09T11:48:14.265Z"
   },
   {
    "duration": 31,
    "start_time": "2023-03-09T11:48:14.282Z"
   },
   {
    "duration": 143,
    "start_time": "2023-03-09T11:48:14.316Z"
   },
   {
    "duration": 184,
    "start_time": "2023-03-09T11:48:14.460Z"
   },
   {
    "duration": 3661,
    "start_time": "2023-03-09T11:48:14.646Z"
   },
   {
    "duration": 7189,
    "start_time": "2023-03-09T11:48:18.309Z"
   },
   {
    "duration": 179480,
    "start_time": "2023-03-09T11:48:25.499Z"
   },
   {
    "duration": 295,
    "start_time": "2023-03-09T11:51:24.981Z"
   },
   {
    "duration": 104,
    "start_time": "2023-03-09T11:51:25.279Z"
   },
   {
    "duration": 184,
    "start_time": "2023-03-09T11:51:25.385Z"
   },
   {
    "duration": 3643,
    "start_time": "2023-03-09T11:51:25.573Z"
   },
   {
    "duration": 6850,
    "start_time": "2023-03-09T11:51:29.218Z"
   },
   {
    "duration": 603,
    "start_time": "2023-03-09T11:51:36.072Z"
   },
   {
    "duration": 4,
    "start_time": "2023-03-09T11:51:36.677Z"
   },
   {
    "duration": 2263,
    "start_time": "2023-03-09T11:51:36.684Z"
   },
   {
    "duration": 2334891,
    "start_time": "2023-03-09T11:51:38.949Z"
   },
   {
    "duration": 271763,
    "start_time": "2023-03-09T12:34:46.491Z"
   },
   {
    "duration": 350040,
    "start_time": "2023-03-09T12:39:58.573Z"
   },
   {
    "duration": 402531,
    "start_time": "2023-03-09T12:47:52.944Z"
   },
   {
    "duration": 690983,
    "start_time": "2023-03-09T12:55:43.599Z"
   },
   {
    "duration": 30800,
    "start_time": "2023-03-09T13:09:21.499Z"
   },
   {
    "duration": 46396,
    "start_time": "2023-03-09T13:10:16.447Z"
   },
   {
    "duration": 30484,
    "start_time": "2023-03-09T13:11:48.450Z"
   },
   {
    "duration": 14512,
    "start_time": "2023-03-09T13:15:43.808Z"
   },
   {
    "duration": 6972,
    "start_time": "2023-03-09T13:16:46.201Z"
   },
   {
    "duration": 8045,
    "start_time": "2023-03-09T13:17:00.820Z"
   },
   {
    "duration": 179978,
    "start_time": "2023-03-09T13:18:13.032Z"
   },
   {
    "duration": 5,
    "start_time": "2023-03-09T13:47:17.087Z"
   },
   {
    "duration": 60,
    "start_time": "2023-03-09T13:47:17.094Z"
   },
   {
    "duration": 21,
    "start_time": "2023-03-09T13:47:17.157Z"
   },
   {
    "duration": 18,
    "start_time": "2023-03-09T13:47:17.180Z"
   },
   {
    "duration": 20,
    "start_time": "2023-03-09T13:47:17.201Z"
   },
   {
    "duration": 7,
    "start_time": "2023-03-09T13:47:17.223Z"
   },
   {
    "duration": 16,
    "start_time": "2023-03-09T13:47:17.232Z"
   },
   {
    "duration": 8,
    "start_time": "2023-03-09T13:47:17.250Z"
   },
   {
    "duration": 15,
    "start_time": "2023-03-09T13:47:17.259Z"
   },
   {
    "duration": 39,
    "start_time": "2023-03-09T13:47:17.275Z"
   },
   {
    "duration": 17,
    "start_time": "2023-03-09T13:47:17.316Z"
   },
   {
    "duration": 52,
    "start_time": "2023-03-09T13:47:17.336Z"
   },
   {
    "duration": 162,
    "start_time": "2023-03-09T13:47:17.391Z"
   },
   {
    "duration": 207,
    "start_time": "2023-03-09T13:47:17.555Z"
   },
   {
    "duration": 187287,
    "start_time": "2023-03-09T13:47:17.773Z"
   },
   {
    "duration": 526,
    "start_time": "2023-03-09T13:50:25.061Z"
   },
   {
    "duration": 101,
    "start_time": "2023-03-09T13:50:25.601Z"
   },
   {
    "duration": 299,
    "start_time": "2023-03-09T13:50:25.705Z"
   },
   {
    "duration": 333261,
    "start_time": "2023-03-09T13:50:26.006Z"
   },
   {
    "duration": 226,
    "start_time": "2023-03-09T13:55:59.268Z"
   },
   {
    "duration": 82,
    "start_time": "2023-03-09T13:55:59.497Z"
   },
   {
    "duration": 187,
    "start_time": "2023-03-09T13:55:59.580Z"
   },
   {
    "duration": 918461,
    "start_time": "2023-03-09T13:55:59.769Z"
   },
   {
    "duration": 5450,
    "start_time": "2023-03-09T14:11:18.232Z"
   },
   {
    "duration": 88,
    "start_time": "2023-03-09T14:11:23.690Z"
   },
   {
    "duration": 13,
    "start_time": "2023-03-09T14:11:40.400Z"
   },
   {
    "duration": 4,
    "start_time": "2023-03-09T14:13:33.197Z"
   },
   {
    "duration": 5,
    "start_time": "2023-03-09T14:13:40.290Z"
   },
   {
    "duration": 2092,
    "start_time": "2023-03-09T14:13:46.009Z"
   },
   {
    "duration": 2221,
    "start_time": "2023-03-09T14:14:58.661Z"
   },
   {
    "duration": 2986,
    "start_time": "2023-03-09T14:15:10.696Z"
   },
   {
    "duration": 3944,
    "start_time": "2023-03-09T14:15:31.409Z"
   },
   {
    "duration": 2923,
    "start_time": "2023-03-09T14:15:53.673Z"
   },
   {
    "duration": 2582,
    "start_time": "2023-03-09T14:16:32.040Z"
   },
   {
    "duration": 8978,
    "start_time": "2023-03-09T14:16:44.291Z"
   },
   {
    "duration": 6657,
    "start_time": "2023-03-09T14:17:19.028Z"
   },
   {
    "duration": 44288,
    "start_time": "2023-03-09T14:19:00.537Z"
   },
   {
    "duration": 1293,
    "start_time": "2023-03-10T12:32:37.498Z"
   },
   {
    "duration": 164,
    "start_time": "2023-03-10T12:32:38.793Z"
   },
   {
    "duration": 20,
    "start_time": "2023-03-10T12:32:38.958Z"
   },
   {
    "duration": 3,
    "start_time": "2023-03-10T12:32:38.981Z"
   },
   {
    "duration": 24,
    "start_time": "2023-03-10T12:32:38.986Z"
   },
   {
    "duration": 5,
    "start_time": "2023-03-10T12:32:39.012Z"
   },
   {
    "duration": 9,
    "start_time": "2023-03-10T12:32:39.019Z"
   },
   {
    "duration": 74,
    "start_time": "2023-03-10T12:32:39.030Z"
   },
   {
    "duration": 0,
    "start_time": "2023-03-10T12:32:39.107Z"
   },
   {
    "duration": 0,
    "start_time": "2023-03-10T12:32:39.108Z"
   },
   {
    "duration": 0,
    "start_time": "2023-03-10T12:32:39.109Z"
   },
   {
    "duration": 0,
    "start_time": "2023-03-10T12:32:39.111Z"
   },
   {
    "duration": 0,
    "start_time": "2023-03-10T12:32:39.112Z"
   },
   {
    "duration": 0,
    "start_time": "2023-03-10T12:32:39.113Z"
   },
   {
    "duration": 0,
    "start_time": "2023-03-10T12:32:39.114Z"
   },
   {
    "duration": 0,
    "start_time": "2023-03-10T12:32:39.115Z"
   },
   {
    "duration": 0,
    "start_time": "2023-03-10T12:32:39.117Z"
   },
   {
    "duration": 0,
    "start_time": "2023-03-10T12:32:39.118Z"
   },
   {
    "duration": 0,
    "start_time": "2023-03-10T12:32:39.119Z"
   },
   {
    "duration": 0,
    "start_time": "2023-03-10T12:32:39.120Z"
   },
   {
    "duration": 0,
    "start_time": "2023-03-10T12:32:39.121Z"
   },
   {
    "duration": 0,
    "start_time": "2023-03-10T12:32:39.121Z"
   },
   {
    "duration": 0,
    "start_time": "2023-03-10T12:32:39.122Z"
   },
   {
    "duration": 0,
    "start_time": "2023-03-10T12:32:39.122Z"
   },
   {
    "duration": 0,
    "start_time": "2023-03-10T12:32:39.123Z"
   },
   {
    "duration": 0,
    "start_time": "2023-03-10T12:32:39.123Z"
   },
   {
    "duration": 0,
    "start_time": "2023-03-10T12:32:39.124Z"
   },
   {
    "duration": 0,
    "start_time": "2023-03-10T12:32:39.124Z"
   },
   {
    "duration": 107,
    "start_time": "2023-03-10T12:32:46.585Z"
   },
   {
    "duration": 7,
    "start_time": "2023-03-10T12:33:15.681Z"
   },
   {
    "duration": 8,
    "start_time": "2023-03-10T12:33:20.656Z"
   },
   {
    "duration": 19,
    "start_time": "2023-03-10T12:33:22.205Z"
   },
   {
    "duration": 4,
    "start_time": "2023-03-10T12:41:03.879Z"
   },
   {
    "duration": 75,
    "start_time": "2023-03-10T12:41:03.888Z"
   },
   {
    "duration": 18,
    "start_time": "2023-03-10T12:41:03.966Z"
   },
   {
    "duration": 9,
    "start_time": "2023-03-10T12:41:03.986Z"
   },
   {
    "duration": 23,
    "start_time": "2023-03-10T12:41:03.999Z"
   },
   {
    "duration": 5,
    "start_time": "2023-03-10T12:41:04.024Z"
   },
   {
    "duration": 9,
    "start_time": "2023-03-10T12:41:04.031Z"
   },
   {
    "duration": 12,
    "start_time": "2023-03-10T12:41:04.042Z"
   },
   {
    "duration": 8,
    "start_time": "2023-03-10T12:41:04.057Z"
   },
   {
    "duration": 13,
    "start_time": "2023-03-10T12:41:04.067Z"
   },
   {
    "duration": 19,
    "start_time": "2023-03-10T12:41:04.128Z"
   },
   {
    "duration": 17,
    "start_time": "2023-03-10T12:41:04.149Z"
   },
   {
    "duration": 0,
    "start_time": "2023-03-10T12:41:04.168Z"
   },
   {
    "duration": 0,
    "start_time": "2023-03-10T12:41:04.169Z"
   },
   {
    "duration": 0,
    "start_time": "2023-03-10T12:41:04.171Z"
   },
   {
    "duration": 0,
    "start_time": "2023-03-10T12:41:04.172Z"
   },
   {
    "duration": 0,
    "start_time": "2023-03-10T12:41:04.173Z"
   },
   {
    "duration": 0,
    "start_time": "2023-03-10T12:41:04.175Z"
   },
   {
    "duration": 0,
    "start_time": "2023-03-10T12:41:04.177Z"
   },
   {
    "duration": 0,
    "start_time": "2023-03-10T12:41:04.178Z"
   },
   {
    "duration": 0,
    "start_time": "2023-03-10T12:41:04.179Z"
   },
   {
    "duration": 0,
    "start_time": "2023-03-10T12:41:04.180Z"
   },
   {
    "duration": 0,
    "start_time": "2023-03-10T12:41:04.181Z"
   },
   {
    "duration": 0,
    "start_time": "2023-03-10T12:41:04.182Z"
   },
   {
    "duration": 0,
    "start_time": "2023-03-10T12:41:04.184Z"
   },
   {
    "duration": 0,
    "start_time": "2023-03-10T12:41:04.185Z"
   },
   {
    "duration": 0,
    "start_time": "2023-03-10T12:41:04.186Z"
   },
   {
    "duration": 0,
    "start_time": "2023-03-10T12:41:04.221Z"
   },
   {
    "duration": 4,
    "start_time": "2023-03-10T12:41:29.377Z"
   },
   {
    "duration": 76,
    "start_time": "2023-03-10T12:41:29.383Z"
   },
   {
    "duration": 17,
    "start_time": "2023-03-10T12:41:29.461Z"
   },
   {
    "duration": 21,
    "start_time": "2023-03-10T12:41:29.480Z"
   },
   {
    "duration": 46,
    "start_time": "2023-03-10T12:41:29.505Z"
   },
   {
    "duration": 17,
    "start_time": "2023-03-10T12:41:29.553Z"
   },
   {
    "duration": 13,
    "start_time": "2023-03-10T12:41:29.572Z"
   },
   {
    "duration": 8,
    "start_time": "2023-03-10T12:41:29.586Z"
   },
   {
    "duration": 6,
    "start_time": "2023-03-10T12:41:29.597Z"
   },
   {
    "duration": 24,
    "start_time": "2023-03-10T12:41:29.605Z"
   },
   {
    "duration": 18,
    "start_time": "2023-03-10T12:41:29.631Z"
   },
   {
    "duration": 45,
    "start_time": "2023-03-10T12:41:29.652Z"
   },
   {
    "duration": 766,
    "start_time": "2023-03-10T12:41:29.699Z"
   },
   {
    "duration": 237,
    "start_time": "2023-03-10T12:41:30.468Z"
   },
   {
    "duration": 28054,
    "start_time": "2023-03-10T12:41:30.708Z"
   },
   {
    "duration": 0,
    "start_time": "2023-03-10T12:41:58.764Z"
   },
   {
    "duration": 0,
    "start_time": "2023-03-10T12:41:58.765Z"
   },
   {
    "duration": 0,
    "start_time": "2023-03-10T12:41:58.767Z"
   },
   {
    "duration": 0,
    "start_time": "2023-03-10T12:41:58.768Z"
   },
   {
    "duration": 0,
    "start_time": "2023-03-10T12:41:58.769Z"
   },
   {
    "duration": 0,
    "start_time": "2023-03-10T12:41:58.771Z"
   },
   {
    "duration": 0,
    "start_time": "2023-03-10T12:41:58.772Z"
   },
   {
    "duration": 0,
    "start_time": "2023-03-10T12:41:58.773Z"
   },
   {
    "duration": 0,
    "start_time": "2023-03-10T12:41:58.774Z"
   },
   {
    "duration": 0,
    "start_time": "2023-03-10T12:41:58.775Z"
   },
   {
    "duration": 0,
    "start_time": "2023-03-10T12:41:58.777Z"
   },
   {
    "duration": 0,
    "start_time": "2023-03-10T12:41:58.778Z"
   },
   {
    "duration": 0,
    "start_time": "2023-03-10T12:41:58.779Z"
   },
   {
    "duration": 5,
    "start_time": "2023-03-10T12:42:00.996Z"
   },
   {
    "duration": 192,
    "start_time": "2023-03-10T12:42:54.565Z"
   },
   {
    "duration": 90,
    "start_time": "2023-03-10T12:46:24.643Z"
   },
   {
    "duration": 910,
    "start_time": "2023-03-10T12:46:58.587Z"
   },
   {
    "duration": 981,
    "start_time": "2023-03-10T12:47:54.567Z"
   },
   {
    "duration": 20,
    "start_time": "2023-03-10T12:49:13.154Z"
   },
   {
    "duration": 10,
    "start_time": "2023-03-10T12:49:39.519Z"
   },
   {
    "duration": 1040,
    "start_time": "2023-03-10T12:50:14.658Z"
   },
   {
    "duration": 736,
    "start_time": "2023-03-10T12:53:37.213Z"
   },
   {
    "duration": 14,
    "start_time": "2023-03-10T12:58:24.429Z"
   },
   {
    "duration": 4,
    "start_time": "2023-03-10T12:58:47.773Z"
   },
   {
    "duration": 5,
    "start_time": "2023-03-10T12:58:52.322Z"
   },
   {
    "duration": 51,
    "start_time": "2023-03-10T12:58:52.333Z"
   },
   {
    "duration": 14,
    "start_time": "2023-03-10T12:58:52.386Z"
   },
   {
    "duration": 4,
    "start_time": "2023-03-10T12:58:52.402Z"
   },
   {
    "duration": 17,
    "start_time": "2023-03-10T12:58:52.409Z"
   },
   {
    "duration": 5,
    "start_time": "2023-03-10T12:58:52.429Z"
   },
   {
    "duration": 15,
    "start_time": "2023-03-10T12:58:52.436Z"
   },
   {
    "duration": 8,
    "start_time": "2023-03-10T12:58:52.454Z"
   },
   {
    "duration": 7,
    "start_time": "2023-03-10T12:58:52.464Z"
   },
   {
    "duration": 62,
    "start_time": "2023-03-10T12:58:52.473Z"
   },
   {
    "duration": 15,
    "start_time": "2023-03-10T12:58:52.539Z"
   },
   {
    "duration": 32,
    "start_time": "2023-03-10T12:58:52.556Z"
   },
   {
    "duration": 162,
    "start_time": "2023-03-10T12:58:52.590Z"
   },
   {
    "duration": 201,
    "start_time": "2023-03-10T12:58:52.754Z"
   },
   {
    "duration": 55950,
    "start_time": "2023-03-10T12:58:52.957Z"
   },
   {
    "duration": 0,
    "start_time": "2023-03-10T12:59:48.909Z"
   },
   {
    "duration": 0,
    "start_time": "2023-03-10T12:59:48.910Z"
   },
   {
    "duration": 8,
    "start_time": "2023-03-10T12:59:48.912Z"
   },
   {
    "duration": 0,
    "start_time": "2023-03-10T12:59:48.923Z"
   },
   {
    "duration": 0,
    "start_time": "2023-03-10T12:59:48.924Z"
   },
   {
    "duration": 0,
    "start_time": "2023-03-10T12:59:48.925Z"
   },
   {
    "duration": 0,
    "start_time": "2023-03-10T12:59:48.926Z"
   },
   {
    "duration": 0,
    "start_time": "2023-03-10T12:59:48.927Z"
   },
   {
    "duration": 0,
    "start_time": "2023-03-10T12:59:48.928Z"
   },
   {
    "duration": 0,
    "start_time": "2023-03-10T12:59:48.929Z"
   },
   {
    "duration": 0,
    "start_time": "2023-03-10T12:59:48.930Z"
   },
   {
    "duration": 0,
    "start_time": "2023-03-10T12:59:48.931Z"
   },
   {
    "duration": 0,
    "start_time": "2023-03-10T12:59:48.932Z"
   },
   {
    "duration": 0,
    "start_time": "2023-03-10T12:59:48.933Z"
   },
   {
    "duration": 202,
    "start_time": "2023-03-10T12:59:51.193Z"
   },
   {
    "duration": 688,
    "start_time": "2023-03-10T12:59:52.572Z"
   },
   {
    "duration": 847,
    "start_time": "2023-03-10T13:00:04.197Z"
   },
   {
    "duration": 741,
    "start_time": "2023-03-10T13:00:24.602Z"
   },
   {
    "duration": 724,
    "start_time": "2023-03-10T13:01:41.252Z"
   },
   {
    "duration": 747,
    "start_time": "2023-03-10T13:02:13.290Z"
   },
   {
    "duration": 737,
    "start_time": "2023-03-10T13:02:23.312Z"
   },
   {
    "duration": 763,
    "start_time": "2023-03-10T13:04:38.819Z"
   },
   {
    "duration": 15,
    "start_time": "2023-03-10T13:04:55.073Z"
   },
   {
    "duration": 735,
    "start_time": "2023-03-10T13:05:25.887Z"
   },
   {
    "duration": 722,
    "start_time": "2023-03-10T13:05:48.801Z"
   },
   {
    "duration": 708,
    "start_time": "2023-03-10T13:06:08.704Z"
   },
   {
    "duration": 760,
    "start_time": "2023-03-10T13:06:18.599Z"
   },
   {
    "duration": 825,
    "start_time": "2023-03-10T13:07:50.063Z"
   },
   {
    "duration": 809,
    "start_time": "2023-03-10T13:08:09.537Z"
   },
   {
    "duration": 294978,
    "start_time": "2023-03-10T13:08:49.867Z"
   },
   {
    "duration": 70,
    "start_time": "2023-03-10T13:14:13.689Z"
   },
   {
    "duration": 142177,
    "start_time": "2023-03-10T13:14:23.876Z"
   },
   {
    "duration": 141462,
    "start_time": "2023-03-10T13:17:20.325Z"
   },
   {
    "duration": 3631,
    "start_time": "2023-03-10T13:24:43.020Z"
   },
   {
    "duration": 10415,
    "start_time": "2023-03-10T13:25:40.537Z"
   },
   {
    "duration": 31692,
    "start_time": "2023-03-10T13:27:02.377Z"
   },
   {
    "duration": 133664,
    "start_time": "2023-03-10T13:29:05.631Z"
   },
   {
    "duration": 752,
    "start_time": "2023-03-10T13:33:16.566Z"
   },
   {
    "duration": 810,
    "start_time": "2023-03-10T13:33:49.696Z"
   },
   {
    "duration": 791,
    "start_time": "2023-03-10T13:34:00.773Z"
   },
   {
    "duration": 843,
    "start_time": "2023-03-10T13:35:23.192Z"
   },
   {
    "duration": 788,
    "start_time": "2023-03-10T13:36:06.443Z"
   },
   {
    "duration": 776,
    "start_time": "2023-03-10T13:41:49.139Z"
   },
   {
    "duration": 783,
    "start_time": "2023-03-10T13:42:14.829Z"
   },
   {
    "duration": 843,
    "start_time": "2023-03-10T13:42:39.670Z"
   },
   {
    "duration": 767,
    "start_time": "2023-03-10T13:42:57.003Z"
   },
   {
    "duration": 784,
    "start_time": "2023-03-10T13:43:28.294Z"
   },
   {
    "duration": 813,
    "start_time": "2023-03-10T13:43:50.384Z"
   },
   {
    "duration": 80,
    "start_time": "2023-03-10T13:48:04.868Z"
   },
   {
    "duration": 772,
    "start_time": "2023-03-10T13:48:10.523Z"
   },
   {
    "duration": 4,
    "start_time": "2023-03-10T13:48:39.172Z"
   },
   {
    "duration": 783,
    "start_time": "2023-03-10T13:48:45.320Z"
   },
   {
    "duration": 768,
    "start_time": "2023-03-10T13:51:16.081Z"
   },
   {
    "duration": 762,
    "start_time": "2023-03-10T13:51:33.393Z"
   },
   {
    "duration": 774,
    "start_time": "2023-03-10T13:51:49.113Z"
   },
   {
    "duration": 734,
    "start_time": "2023-03-10T13:52:13.476Z"
   },
   {
    "duration": 848,
    "start_time": "2023-03-10T13:53:17.948Z"
   },
   {
    "duration": 828,
    "start_time": "2023-03-10T13:53:28.719Z"
   },
   {
    "duration": 3,
    "start_time": "2023-03-10T13:53:47.611Z"
   },
   {
    "duration": 31673,
    "start_time": "2023-03-10T13:53:56.928Z"
   },
   {
    "duration": 32901,
    "start_time": "2023-03-10T13:55:09.138Z"
   },
   {
    "duration": 31690,
    "start_time": "2023-03-10T13:57:17.037Z"
   },
   {
    "duration": 133518,
    "start_time": "2023-03-10T13:58:47.841Z"
   },
   {
    "duration": 818,
    "start_time": "2023-03-10T14:07:40.367Z"
   },
   {
    "duration": 131852,
    "start_time": "2023-03-10T14:07:58.785Z"
   },
   {
    "duration": 17,
    "start_time": "2023-03-10T14:11:17.278Z"
   },
   {
    "duration": 21,
    "start_time": "2023-03-10T14:11:31.412Z"
   },
   {
    "duration": 26,
    "start_time": "2023-03-10T14:11:39.579Z"
   },
   {
    "duration": 42937,
    "start_time": "2023-03-10T14:11:59.539Z"
   },
   {
    "duration": 11,
    "start_time": "2023-03-10T14:14:53.968Z"
   },
   {
    "duration": 11,
    "start_time": "2023-03-10T14:15:07.175Z"
   },
   {
    "duration": 4,
    "start_time": "2023-03-10T14:15:32.871Z"
   },
   {
    "duration": 7831,
    "start_time": "2023-03-10T14:16:07.234Z"
   },
   {
    "duration": 1508,
    "start_time": "2023-03-11T06:39:33.020Z"
   },
   {
    "duration": 129,
    "start_time": "2023-03-11T06:39:34.530Z"
   },
   {
    "duration": 39,
    "start_time": "2023-03-11T06:39:34.661Z"
   },
   {
    "duration": 5,
    "start_time": "2023-03-11T06:39:34.702Z"
   },
   {
    "duration": 36,
    "start_time": "2023-03-11T06:39:34.709Z"
   },
   {
    "duration": 43,
    "start_time": "2023-03-11T06:39:34.747Z"
   },
   {
    "duration": 15,
    "start_time": "2023-03-11T06:39:34.792Z"
   },
   {
    "duration": 21,
    "start_time": "2023-03-11T06:39:34.832Z"
   },
   {
    "duration": 23,
    "start_time": "2023-03-11T06:39:34.857Z"
   },
   {
    "duration": 67,
    "start_time": "2023-03-11T06:39:34.889Z"
   },
   {
    "duration": 76,
    "start_time": "2023-03-11T06:39:34.958Z"
   },
   {
    "duration": 104,
    "start_time": "2023-03-11T06:39:35.036Z"
   },
   {
    "duration": 1934,
    "start_time": "2023-03-11T06:39:35.142Z"
   },
   {
    "duration": 260,
    "start_time": "2023-03-11T06:39:37.082Z"
   },
   {
    "duration": 196130,
    "start_time": "2023-03-11T06:39:37.345Z"
   },
   {
    "duration": 1174,
    "start_time": "2023-03-11T06:42:53.478Z"
   },
   {
    "duration": 30,
    "start_time": "2023-03-11T06:42:54.667Z"
   },
   {
    "duration": 444,
    "start_time": "2023-03-11T06:42:54.699Z"
   },
   {
    "duration": 1147,
    "start_time": "2023-03-11T06:42:55.146Z"
   },
   {
    "duration": 41556,
    "start_time": "2023-03-11T06:42:56.297Z"
   },
   {
    "duration": 149,
    "start_time": "2023-03-11T06:43:37.861Z"
   },
   {
    "duration": 0,
    "start_time": "2023-03-11T06:43:38.012Z"
   },
   {
    "duration": 0,
    "start_time": "2023-03-11T06:43:38.013Z"
   },
   {
    "duration": 0,
    "start_time": "2023-03-11T06:43:38.016Z"
   },
   {
    "duration": 0,
    "start_time": "2023-03-11T06:43:38.017Z"
   },
   {
    "duration": 0,
    "start_time": "2023-03-11T06:43:38.018Z"
   },
   {
    "duration": 0,
    "start_time": "2023-03-11T06:43:38.041Z"
   },
   {
    "duration": 0,
    "start_time": "2023-03-11T06:43:38.042Z"
   },
   {
    "duration": 0,
    "start_time": "2023-03-11T06:43:38.043Z"
   },
   {
    "duration": 0,
    "start_time": "2023-03-11T06:43:38.043Z"
   },
   {
    "duration": 6,
    "start_time": "2023-03-11T07:00:15.203Z"
   },
   {
    "duration": 87,
    "start_time": "2023-03-11T07:00:15.211Z"
   },
   {
    "duration": 19,
    "start_time": "2023-03-11T07:00:15.300Z"
   },
   {
    "duration": 10,
    "start_time": "2023-03-11T07:00:15.322Z"
   },
   {
    "duration": 45,
    "start_time": "2023-03-11T07:00:15.341Z"
   },
   {
    "duration": 11,
    "start_time": "2023-03-11T07:00:15.388Z"
   },
   {
    "duration": 11,
    "start_time": "2023-03-11T07:00:15.401Z"
   },
   {
    "duration": 59,
    "start_time": "2023-03-11T07:00:15.413Z"
   },
   {
    "duration": 21,
    "start_time": "2023-03-11T07:00:15.474Z"
   },
   {
    "duration": 36,
    "start_time": "2023-03-11T07:00:15.497Z"
   },
   {
    "duration": 33,
    "start_time": "2023-03-11T07:00:15.536Z"
   },
   {
    "duration": 39,
    "start_time": "2023-03-11T07:00:15.572Z"
   },
   {
    "duration": 189,
    "start_time": "2023-03-11T07:00:15.613Z"
   },
   {
    "duration": 245,
    "start_time": "2023-03-11T07:00:15.804Z"
   },
   {
    "duration": 197415,
    "start_time": "2023-03-11T07:00:16.058Z"
   },
   {
    "duration": 1285,
    "start_time": "2023-03-11T07:03:33.475Z"
   },
   {
    "duration": 74,
    "start_time": "2023-03-11T07:03:34.763Z"
   },
   {
    "duration": 275,
    "start_time": "2023-03-11T07:03:34.843Z"
   },
   {
    "duration": 989,
    "start_time": "2023-03-11T07:03:35.120Z"
   },
   {
    "duration": 38831,
    "start_time": "2023-03-11T07:03:36.110Z"
   },
   {
    "duration": 2104,
    "start_time": "2023-03-11T07:04:14.952Z"
   },
   {
    "duration": 11,
    "start_time": "2023-03-11T07:04:17.058Z"
   },
   {
    "duration": 1185,
    "start_time": "2023-03-11T07:04:17.072Z"
   },
   {
    "duration": 978529,
    "start_time": "2023-03-11T07:04:18.260Z"
   },
   {
    "duration": 10966,
    "start_time": "2023-03-11T07:20:36.791Z"
   },
   {
    "duration": 22,
    "start_time": "2023-03-11T07:20:47.759Z"
   },
   {
    "duration": 6421,
    "start_time": "2023-03-11T07:20:47.841Z"
   },
   {
    "duration": 3403403,
    "start_time": "2023-03-11T07:20:54.265Z"
   },
   {
    "duration": 0,
    "start_time": "2023-03-11T08:17:37.671Z"
   },
   {
    "duration": 36587,
    "start_time": "2023-03-11T08:20:43.375Z"
   },
   {
    "duration": 186047,
    "start_time": "2023-03-11T08:24:43.015Z"
   },
   {
    "duration": 11967,
    "start_time": "2023-03-11T08:30:18.306Z"
   },
   {
    "duration": 79807,
    "start_time": "2023-03-11T08:31:40.710Z"
   },
   {
    "duration": 214442,
    "start_time": "2023-03-11T08:35:45.450Z"
   },
   {
    "duration": 295057,
    "start_time": "2023-03-11T08:40:18.266Z"
   },
   {
    "duration": 296134,
    "start_time": "2023-03-11T08:47:48.830Z"
   },
   {
    "duration": 41760,
    "start_time": "2023-03-11T08:54:58.180Z"
   },
   {
    "duration": 30675,
    "start_time": "2023-03-11T08:56:39.570Z"
   },
   {
    "duration": 49422,
    "start_time": "2023-03-11T08:57:58.127Z"
   },
   {
    "duration": 44399,
    "start_time": "2023-03-11T09:01:03.163Z"
   },
   {
    "duration": 105,
    "start_time": "2023-03-11T09:03:57.606Z"
   },
   {
    "duration": 1170,
    "start_time": "2023-03-11T09:04:21.519Z"
   },
   {
    "duration": 1015,
    "start_time": "2023-03-11T09:04:47.954Z"
   },
   {
    "duration": 1213,
    "start_time": "2023-03-11T09:05:16.263Z"
   },
   {
    "duration": 5716,
    "start_time": "2023-03-11T09:07:39.623Z"
   },
   {
    "duration": 48723,
    "start_time": "2023-03-11T09:08:45.870Z"
   },
   {
    "duration": 1207,
    "start_time": "2023-03-11T09:10:47.895Z"
   },
   {
    "duration": 173666,
    "start_time": "2023-03-11T09:22:28.375Z"
   },
   {
    "duration": 195333,
    "start_time": "2023-03-11T09:40:31.459Z"
   },
   {
    "duration": 30,
    "start_time": "2023-03-11T09:47:11.442Z"
   },
   {
    "duration": 6,
    "start_time": "2023-03-11T09:48:00.995Z"
   },
   {
    "duration": 25,
    "start_time": "2023-03-11T09:48:16.594Z"
   },
   {
    "duration": 4,
    "start_time": "2023-03-11T09:48:22.299Z"
   },
   {
    "duration": 185,
    "start_time": "2023-03-11T09:48:22.305Z"
   },
   {
    "duration": 18,
    "start_time": "2023-03-11T09:48:22.492Z"
   },
   {
    "duration": 27,
    "start_time": "2023-03-11T09:48:22.511Z"
   },
   {
    "duration": 72,
    "start_time": "2023-03-11T09:48:22.541Z"
   },
   {
    "duration": 7,
    "start_time": "2023-03-11T09:48:22.615Z"
   },
   {
    "duration": 66,
    "start_time": "2023-03-11T09:48:22.623Z"
   },
   {
    "duration": 28,
    "start_time": "2023-03-11T09:48:22.690Z"
   },
   {
    "duration": 89,
    "start_time": "2023-03-11T09:48:22.720Z"
   },
   {
    "duration": 9,
    "start_time": "2023-03-11T09:48:22.812Z"
   },
   {
    "duration": 49,
    "start_time": "2023-03-11T09:48:22.824Z"
   },
   {
    "duration": 47,
    "start_time": "2023-03-11T09:48:22.874Z"
   },
   {
    "duration": 42,
    "start_time": "2023-03-11T09:48:22.923Z"
   },
   {
    "duration": 239,
    "start_time": "2023-03-11T09:48:22.966Z"
   },
   {
    "duration": 20,
    "start_time": "2023-03-11T09:48:23.208Z"
   },
   {
    "duration": 0,
    "start_time": "2023-03-11T09:48:23.231Z"
   },
   {
    "duration": 0,
    "start_time": "2023-03-11T09:48:23.232Z"
   },
   {
    "duration": 0,
    "start_time": "2023-03-11T09:48:23.233Z"
   },
   {
    "duration": 0,
    "start_time": "2023-03-11T09:48:23.237Z"
   },
   {
    "duration": 0,
    "start_time": "2023-03-11T09:48:23.247Z"
   },
   {
    "duration": 0,
    "start_time": "2023-03-11T09:48:23.249Z"
   },
   {
    "duration": 0,
    "start_time": "2023-03-11T09:48:23.251Z"
   },
   {
    "duration": 1,
    "start_time": "2023-03-11T09:48:23.252Z"
   },
   {
    "duration": 0,
    "start_time": "2023-03-11T09:48:23.254Z"
   },
   {
    "duration": 0,
    "start_time": "2023-03-11T09:48:23.256Z"
   },
   {
    "duration": 0,
    "start_time": "2023-03-11T09:48:23.258Z"
   },
   {
    "duration": 0,
    "start_time": "2023-03-11T09:48:23.259Z"
   },
   {
    "duration": 0,
    "start_time": "2023-03-11T09:48:23.268Z"
   },
   {
    "duration": 0,
    "start_time": "2023-03-11T09:48:23.270Z"
   },
   {
    "duration": 0,
    "start_time": "2023-03-11T09:48:23.271Z"
   },
   {
    "duration": 0,
    "start_time": "2023-03-11T09:48:23.274Z"
   },
   {
    "duration": 16,
    "start_time": "2023-03-11T09:49:17.509Z"
   },
   {
    "duration": 5,
    "start_time": "2023-03-11T09:49:20.964Z"
   },
   {
    "duration": 297,
    "start_time": "2023-03-11T09:49:20.974Z"
   },
   {
    "duration": 29,
    "start_time": "2023-03-11T09:49:21.273Z"
   },
   {
    "duration": 18,
    "start_time": "2023-03-11T09:49:21.307Z"
   },
   {
    "duration": 51,
    "start_time": "2023-03-11T09:49:21.329Z"
   },
   {
    "duration": 25,
    "start_time": "2023-03-11T09:49:21.387Z"
   },
   {
    "duration": 13,
    "start_time": "2023-03-11T09:49:21.414Z"
   },
   {
    "duration": 26,
    "start_time": "2023-03-11T09:49:21.429Z"
   },
   {
    "duration": 55,
    "start_time": "2023-03-11T09:49:21.467Z"
   },
   {
    "duration": 9,
    "start_time": "2023-03-11T09:49:21.524Z"
   },
   {
    "duration": 65,
    "start_time": "2023-03-11T09:49:21.545Z"
   },
   {
    "duration": 21,
    "start_time": "2023-03-11T09:49:21.612Z"
   },
   {
    "duration": 81,
    "start_time": "2023-03-11T09:49:21.642Z"
   },
   {
    "duration": 149,
    "start_time": "2023-03-11T09:49:21.725Z"
   },
   {
    "duration": 258,
    "start_time": "2023-03-11T09:49:21.876Z"
   },
   {
    "duration": 91037,
    "start_time": "2023-03-11T09:49:22.144Z"
   },
   {
    "duration": 1967,
    "start_time": "2023-03-11T09:50:53.187Z"
   },
   {
    "duration": 30,
    "start_time": "2023-03-11T09:50:55.162Z"
   },
   {
    "duration": 276,
    "start_time": "2023-03-11T09:50:55.194Z"
   },
   {
    "duration": 24383,
    "start_time": "2023-03-11T09:50:55.472Z"
   },
   {
    "duration": 811,
    "start_time": "2023-03-11T09:51:19.856Z"
   },
   {
    "duration": 8,
    "start_time": "2023-03-11T09:51:20.672Z"
   },
   {
    "duration": 993,
    "start_time": "2023-03-11T09:51:20.682Z"
   },
   {
    "duration": 198543,
    "start_time": "2023-03-11T09:51:21.677Z"
   },
   {
    "duration": 5810,
    "start_time": "2023-03-11T09:54:40.222Z"
   },
   {
    "duration": 25,
    "start_time": "2023-03-11T09:54:46.034Z"
   },
   {
    "duration": 4396,
    "start_time": "2023-03-11T09:54:46.065Z"
   },
   {
    "duration": 326559,
    "start_time": "2023-03-11T09:54:50.469Z"
   },
   {
    "duration": 34914,
    "start_time": "2023-03-11T10:00:17.030Z"
   },
   {
    "duration": 1696,
    "start_time": "2023-03-11T10:00:51.952Z"
   },
   {
    "duration": 7,
    "start_time": "2023-03-11T10:03:14.560Z"
   },
   {
    "duration": 101,
    "start_time": "2023-03-11T10:03:14.568Z"
   },
   {
    "duration": 20,
    "start_time": "2023-03-11T10:03:14.675Z"
   },
   {
    "duration": 10,
    "start_time": "2023-03-11T10:03:14.697Z"
   },
   {
    "duration": 12,
    "start_time": "2023-03-11T10:03:14.710Z"
   },
   {
    "duration": 14,
    "start_time": "2023-03-11T10:03:14.724Z"
   },
   {
    "duration": 57,
    "start_time": "2023-03-11T10:03:14.740Z"
   },
   {
    "duration": 2,
    "start_time": "2023-03-11T10:03:14.800Z"
   },
   {
    "duration": 22,
    "start_time": "2023-03-11T10:03:14.804Z"
   },
   {
    "duration": 9,
    "start_time": "2023-03-11T10:03:14.828Z"
   },
   {
    "duration": 60,
    "start_time": "2023-03-11T10:03:14.838Z"
   },
   {
    "duration": 14,
    "start_time": "2023-03-11T10:03:14.901Z"
   },
   {
    "duration": 51,
    "start_time": "2023-03-11T10:03:14.917Z"
   },
   {
    "duration": 181,
    "start_time": "2023-03-11T10:03:14.975Z"
   },
   {
    "duration": 212,
    "start_time": "2023-03-11T10:03:15.163Z"
   },
   {
    "duration": 89845,
    "start_time": "2023-03-11T10:03:15.381Z"
   },
   {
    "duration": 569,
    "start_time": "2023-03-11T10:04:45.228Z"
   },
   {
    "duration": 47,
    "start_time": "2023-03-11T10:04:45.864Z"
   },
   {
    "duration": 290,
    "start_time": "2023-03-11T10:04:45.913Z"
   },
   {
    "duration": 23868,
    "start_time": "2023-03-11T10:04:46.207Z"
   },
   {
    "duration": 564,
    "start_time": "2023-03-11T10:05:10.077Z"
   },
   {
    "duration": 13,
    "start_time": "2023-03-11T10:05:10.643Z"
   },
   {
    "duration": 988,
    "start_time": "2023-03-11T10:05:10.665Z"
   },
   {
    "duration": 200446,
    "start_time": "2023-03-11T10:05:11.662Z"
   },
   {
    "duration": 2236,
    "start_time": "2023-03-11T10:08:32.113Z"
   },
   {
    "duration": 13,
    "start_time": "2023-03-11T10:08:34.357Z"
   },
   {
    "duration": 4592,
    "start_time": "2023-03-11T10:08:34.380Z"
   },
   {
    "duration": 317390,
    "start_time": "2023-03-11T10:08:38.974Z"
   },
   {
    "duration": 24260,
    "start_time": "2023-03-11T10:13:56.372Z"
   },
   {
    "duration": 889,
    "start_time": "2023-03-11T10:14:20.634Z"
   },
   {
    "duration": 105051,
    "start_time": "2023-03-11T10:14:21.525Z"
   },
   {
    "duration": 3,
    "start_time": "2023-03-11T10:20:20.392Z"
   },
   {
    "duration": 4,
    "start_time": "2023-03-11T10:21:02.382Z"
   },
   {
    "duration": 4,
    "start_time": "2023-03-11T10:21:09.717Z"
   },
   {
    "duration": 135,
    "start_time": "2023-03-11T10:21:09.726Z"
   },
   {
    "duration": 22,
    "start_time": "2023-03-11T10:21:09.863Z"
   },
   {
    "duration": 21,
    "start_time": "2023-03-11T10:21:09.887Z"
   },
   {
    "duration": 38,
    "start_time": "2023-03-11T10:21:09.910Z"
   },
   {
    "duration": 40,
    "start_time": "2023-03-11T10:21:09.950Z"
   },
   {
    "duration": 40,
    "start_time": "2023-03-11T10:21:09.992Z"
   },
   {
    "duration": 69,
    "start_time": "2023-03-11T10:21:10.034Z"
   },
   {
    "duration": 24,
    "start_time": "2023-03-11T10:21:10.105Z"
   },
   {
    "duration": 64,
    "start_time": "2023-03-11T10:21:10.130Z"
   },
   {
    "duration": 14,
    "start_time": "2023-03-11T10:21:10.197Z"
   },
   {
    "duration": 81,
    "start_time": "2023-03-11T10:21:10.213Z"
   },
   {
    "duration": 76,
    "start_time": "2023-03-11T10:21:10.296Z"
   },
   {
    "duration": 64,
    "start_time": "2023-03-11T10:21:10.374Z"
   },
   {
    "duration": 203,
    "start_time": "2023-03-11T10:21:10.448Z"
   },
   {
    "duration": 217,
    "start_time": "2023-03-11T10:21:10.658Z"
   },
   {
    "duration": 89226,
    "start_time": "2023-03-11T10:21:10.876Z"
   },
   {
    "duration": 0,
    "start_time": "2023-03-11T10:22:40.105Z"
   },
   {
    "duration": 0,
    "start_time": "2023-03-11T10:22:40.107Z"
   },
   {
    "duration": 1,
    "start_time": "2023-03-11T10:22:40.108Z"
   },
   {
    "duration": 0,
    "start_time": "2023-03-11T10:22:40.110Z"
   },
   {
    "duration": 0,
    "start_time": "2023-03-11T10:22:40.112Z"
   },
   {
    "duration": 0,
    "start_time": "2023-03-11T10:22:40.113Z"
   },
   {
    "duration": 0,
    "start_time": "2023-03-11T10:22:40.115Z"
   },
   {
    "duration": 0,
    "start_time": "2023-03-11T10:22:40.132Z"
   },
   {
    "duration": 0,
    "start_time": "2023-03-11T10:22:40.133Z"
   },
   {
    "duration": 0,
    "start_time": "2023-03-11T10:22:40.133Z"
   },
   {
    "duration": 0,
    "start_time": "2023-03-11T10:22:40.134Z"
   },
   {
    "duration": 0,
    "start_time": "2023-03-11T10:22:40.134Z"
   },
   {
    "duration": 0,
    "start_time": "2023-03-11T10:22:40.135Z"
   },
   {
    "duration": 0,
    "start_time": "2023-03-11T10:22:40.135Z"
   },
   {
    "duration": 0,
    "start_time": "2023-03-11T10:22:40.136Z"
   },
   {
    "duration": 97789,
    "start_time": "2023-03-11T10:22:51.499Z"
   },
   {
    "duration": 4,
    "start_time": "2023-03-11T10:25:04.888Z"
   },
   {
    "duration": 108,
    "start_time": "2023-03-11T10:25:04.895Z"
   },
   {
    "duration": 18,
    "start_time": "2023-03-11T10:25:05.006Z"
   },
   {
    "duration": 82,
    "start_time": "2023-03-11T10:25:05.025Z"
   },
   {
    "duration": 21,
    "start_time": "2023-03-11T10:25:05.109Z"
   },
   {
    "duration": 58,
    "start_time": "2023-03-11T10:25:05.132Z"
   },
   {
    "duration": 18,
    "start_time": "2023-03-11T10:25:05.192Z"
   },
   {
    "duration": 5,
    "start_time": "2023-03-11T10:25:05.211Z"
   },
   {
    "duration": 44,
    "start_time": "2023-03-11T10:25:05.218Z"
   },
   {
    "duration": 27,
    "start_time": "2023-03-11T10:25:05.267Z"
   },
   {
    "duration": 13,
    "start_time": "2023-03-11T10:25:05.298Z"
   },
   {
    "duration": 24,
    "start_time": "2023-03-11T10:25:05.313Z"
   },
   {
    "duration": 54,
    "start_time": "2023-03-11T10:25:05.339Z"
   },
   {
    "duration": 33,
    "start_time": "2023-03-11T10:25:05.394Z"
   },
   {
    "duration": 165,
    "start_time": "2023-03-11T10:25:05.429Z"
   },
   {
    "duration": 201,
    "start_time": "2023-03-11T10:25:05.596Z"
   },
   {
    "duration": 2869,
    "start_time": "2023-03-11T10:25:05.799Z"
   },
   {
    "duration": 0,
    "start_time": "2023-03-11T10:25:08.676Z"
   },
   {
    "duration": 0,
    "start_time": "2023-03-11T10:25:08.677Z"
   },
   {
    "duration": 0,
    "start_time": "2023-03-11T10:25:08.678Z"
   },
   {
    "duration": 0,
    "start_time": "2023-03-11T10:25:08.681Z"
   },
   {
    "duration": 0,
    "start_time": "2023-03-11T10:25:08.681Z"
   },
   {
    "duration": 0,
    "start_time": "2023-03-11T10:25:08.688Z"
   },
   {
    "duration": 0,
    "start_time": "2023-03-11T10:25:08.692Z"
   },
   {
    "duration": 0,
    "start_time": "2023-03-11T10:25:08.693Z"
   },
   {
    "duration": 0,
    "start_time": "2023-03-11T10:25:08.695Z"
   },
   {
    "duration": 0,
    "start_time": "2023-03-11T10:25:08.696Z"
   },
   {
    "duration": 0,
    "start_time": "2023-03-11T10:25:08.698Z"
   },
   {
    "duration": 0,
    "start_time": "2023-03-11T10:25:08.699Z"
   },
   {
    "duration": 0,
    "start_time": "2023-03-11T10:25:08.701Z"
   },
   {
    "duration": 0,
    "start_time": "2023-03-11T10:25:08.702Z"
   },
   {
    "duration": 0,
    "start_time": "2023-03-11T10:25:08.703Z"
   },
   {
    "duration": 98646,
    "start_time": "2023-03-11T10:25:16.406Z"
   },
   {
    "duration": 11,
    "start_time": "2023-03-11T10:29:29.850Z"
   },
   {
    "duration": 91,
    "start_time": "2023-03-11T10:29:29.863Z"
   },
   {
    "duration": 26,
    "start_time": "2023-03-11T10:29:29.956Z"
   },
   {
    "duration": 30,
    "start_time": "2023-03-11T10:29:29.984Z"
   },
   {
    "duration": 53,
    "start_time": "2023-03-11T10:29:30.015Z"
   },
   {
    "duration": 45,
    "start_time": "2023-03-11T10:29:30.070Z"
   },
   {
    "duration": 28,
    "start_time": "2023-03-11T10:29:30.117Z"
   },
   {
    "duration": 63,
    "start_time": "2023-03-11T10:29:30.147Z"
   },
   {
    "duration": 79,
    "start_time": "2023-03-11T10:29:30.212Z"
   },
   {
    "duration": 44,
    "start_time": "2023-03-11T10:29:30.294Z"
   },
   {
    "duration": 64,
    "start_time": "2023-03-11T10:29:30.341Z"
   },
   {
    "duration": 92,
    "start_time": "2023-03-11T10:29:30.408Z"
   },
   {
    "duration": 22,
    "start_time": "2023-03-11T10:29:30.503Z"
   },
   {
    "duration": 127,
    "start_time": "2023-03-11T10:29:30.527Z"
   },
   {
    "duration": 210,
    "start_time": "2023-03-11T10:29:30.662Z"
   },
   {
    "duration": 29,
    "start_time": "2023-03-11T10:29:30.874Z"
   },
   {
    "duration": 0,
    "start_time": "2023-03-11T10:29:30.905Z"
   },
   {
    "duration": 0,
    "start_time": "2023-03-11T10:29:30.906Z"
   },
   {
    "duration": 0,
    "start_time": "2023-03-11T10:29:30.908Z"
   },
   {
    "duration": 0,
    "start_time": "2023-03-11T10:29:30.909Z"
   },
   {
    "duration": 0,
    "start_time": "2023-03-11T10:29:30.910Z"
   },
   {
    "duration": 0,
    "start_time": "2023-03-11T10:29:30.911Z"
   },
   {
    "duration": 0,
    "start_time": "2023-03-11T10:29:30.912Z"
   },
   {
    "duration": 0,
    "start_time": "2023-03-11T10:29:30.913Z"
   },
   {
    "duration": 0,
    "start_time": "2023-03-11T10:29:30.915Z"
   },
   {
    "duration": 0,
    "start_time": "2023-03-11T10:29:30.916Z"
   },
   {
    "duration": 0,
    "start_time": "2023-03-11T10:29:30.938Z"
   },
   {
    "duration": 1,
    "start_time": "2023-03-11T10:29:30.939Z"
   },
   {
    "duration": 0,
    "start_time": "2023-03-11T10:29:30.941Z"
   },
   {
    "duration": 0,
    "start_time": "2023-03-11T10:29:30.942Z"
   },
   {
    "duration": 0,
    "start_time": "2023-03-11T10:29:30.946Z"
   },
   {
    "duration": 0,
    "start_time": "2023-03-11T10:29:30.947Z"
   },
   {
    "duration": 4,
    "start_time": "2023-03-11T10:29:50.370Z"
   },
   {
    "duration": 12,
    "start_time": "2023-03-11T10:29:54.627Z"
   },
   {
    "duration": 133,
    "start_time": "2023-03-11T10:29:54.641Z"
   },
   {
    "duration": 22,
    "start_time": "2023-03-11T10:29:54.776Z"
   },
   {
    "duration": 15,
    "start_time": "2023-03-11T10:29:54.799Z"
   },
   {
    "duration": 81,
    "start_time": "2023-03-11T10:29:54.816Z"
   },
   {
    "duration": 18,
    "start_time": "2023-03-11T10:29:54.899Z"
   },
   {
    "duration": 81,
    "start_time": "2023-03-11T10:29:54.919Z"
   },
   {
    "duration": 25,
    "start_time": "2023-03-11T10:29:55.001Z"
   },
   {
    "duration": 83,
    "start_time": "2023-03-11T10:29:55.027Z"
   },
   {
    "duration": 59,
    "start_time": "2023-03-11T10:29:55.112Z"
   },
   {
    "duration": 30,
    "start_time": "2023-03-11T10:29:55.174Z"
   },
   {
    "duration": 52,
    "start_time": "2023-03-11T10:29:55.206Z"
   },
   {
    "duration": 45,
    "start_time": "2023-03-11T10:29:55.261Z"
   },
   {
    "duration": 41,
    "start_time": "2023-03-11T10:29:55.308Z"
   },
   {
    "duration": 217,
    "start_time": "2023-03-11T10:29:55.351Z"
   },
   {
    "duration": 235,
    "start_time": "2023-03-11T10:29:55.570Z"
   },
   {
    "duration": 92825,
    "start_time": "2023-03-11T10:29:55.807Z"
   },
   {
    "duration": 513,
    "start_time": "2023-03-11T10:31:28.635Z"
   },
   {
    "duration": 90,
    "start_time": "2023-03-11T10:31:29.156Z"
   },
   {
    "duration": 259,
    "start_time": "2023-03-11T10:31:29.249Z"
   },
   {
    "duration": 26243,
    "start_time": "2023-03-11T10:31:29.510Z"
   },
   {
    "duration": 784,
    "start_time": "2023-03-11T10:31:55.757Z"
   },
   {
    "duration": 16,
    "start_time": "2023-03-11T10:31:56.547Z"
   },
   {
    "duration": 1262,
    "start_time": "2023-03-11T10:31:56.568Z"
   },
   {
    "duration": 201494,
    "start_time": "2023-03-11T10:31:57.832Z"
   },
   {
    "duration": 3228,
    "start_time": "2023-03-11T10:35:19.328Z"
   },
   {
    "duration": 78,
    "start_time": "2023-03-11T10:35:22.562Z"
   },
   {
    "duration": 4339,
    "start_time": "2023-03-11T10:35:22.650Z"
   },
   {
    "duration": 309669,
    "start_time": "2023-03-11T10:35:26.994Z"
   },
   {
    "duration": 27702,
    "start_time": "2023-03-11T10:40:36.668Z"
   },
   {
    "duration": 798,
    "start_time": "2023-03-11T10:41:04.380Z"
   },
   {
    "duration": 108057,
    "start_time": "2023-03-11T10:41:05.180Z"
   },
   {
    "duration": 170,
    "start_time": "2023-03-11T11:28:29.866Z"
   },
   {
    "duration": 427,
    "start_time": "2023-03-11T11:30:56.521Z"
   },
   {
    "duration": 4,
    "start_time": "2023-03-11T11:32:06.879Z"
   },
   {
    "duration": 505,
    "start_time": "2023-03-11T11:32:14.697Z"
   },
   {
    "duration": 5,
    "start_time": "2023-03-11T11:32:19.983Z"
   },
   {
    "duration": 68,
    "start_time": "2023-03-11T11:32:19.991Z"
   },
   {
    "duration": 19,
    "start_time": "2023-03-11T11:32:20.061Z"
   },
   {
    "duration": 7,
    "start_time": "2023-03-11T11:32:20.082Z"
   },
   {
    "duration": 14,
    "start_time": "2023-03-11T11:32:20.092Z"
   },
   {
    "duration": 28,
    "start_time": "2023-03-11T11:32:20.108Z"
   },
   {
    "duration": 23,
    "start_time": "2023-03-11T11:32:20.141Z"
   },
   {
    "duration": 5,
    "start_time": "2023-03-11T11:32:20.165Z"
   },
   {
    "duration": 13,
    "start_time": "2023-03-11T11:32:20.171Z"
   },
   {
    "duration": 20,
    "start_time": "2023-03-11T11:32:20.186Z"
   },
   {
    "duration": 13,
    "start_time": "2023-03-11T11:32:20.208Z"
   },
   {
    "duration": 20,
    "start_time": "2023-03-11T11:32:20.223Z"
   },
   {
    "duration": 22,
    "start_time": "2023-03-11T11:32:20.246Z"
   },
   {
    "duration": 38,
    "start_time": "2023-03-11T11:32:20.270Z"
   },
   {
    "duration": 143,
    "start_time": "2023-03-11T11:32:20.310Z"
   },
   {
    "duration": 190,
    "start_time": "2023-03-11T11:32:20.455Z"
   },
   {
    "duration": 4510,
    "start_time": "2023-03-11T11:32:20.649Z"
   },
   {
    "duration": 0,
    "start_time": "2023-03-11T11:32:25.162Z"
   },
   {
    "duration": 0,
    "start_time": "2023-03-11T11:32:25.163Z"
   },
   {
    "duration": 0,
    "start_time": "2023-03-11T11:32:25.164Z"
   },
   {
    "duration": 0,
    "start_time": "2023-03-11T11:32:25.166Z"
   },
   {
    "duration": 0,
    "start_time": "2023-03-11T11:32:25.167Z"
   },
   {
    "duration": 0,
    "start_time": "2023-03-11T11:32:25.168Z"
   },
   {
    "duration": 0,
    "start_time": "2023-03-11T11:32:25.171Z"
   },
   {
    "duration": 0,
    "start_time": "2023-03-11T11:32:25.173Z"
   },
   {
    "duration": 0,
    "start_time": "2023-03-11T11:32:25.175Z"
   },
   {
    "duration": 0,
    "start_time": "2023-03-11T11:32:25.176Z"
   },
   {
    "duration": 0,
    "start_time": "2023-03-11T11:32:25.178Z"
   },
   {
    "duration": 0,
    "start_time": "2023-03-11T11:32:25.179Z"
   },
   {
    "duration": 0,
    "start_time": "2023-03-11T11:32:25.180Z"
   },
   {
    "duration": 0,
    "start_time": "2023-03-11T11:32:25.182Z"
   },
   {
    "duration": 0,
    "start_time": "2023-03-11T11:32:25.183Z"
   },
   {
    "duration": 0,
    "start_time": "2023-03-11T11:32:25.185Z"
   },
   {
    "duration": 87089,
    "start_time": "2023-03-11T11:32:31.664Z"
   },
   {
    "duration": 11,
    "start_time": "2023-03-11T11:36:46.415Z"
   },
   {
    "duration": 4,
    "start_time": "2023-03-11T11:36:48.947Z"
   },
   {
    "duration": 61,
    "start_time": "2023-03-11T11:36:48.956Z"
   },
   {
    "duration": 17,
    "start_time": "2023-03-11T11:36:49.020Z"
   },
   {
    "duration": 19,
    "start_time": "2023-03-11T11:36:49.039Z"
   },
   {
    "duration": 15,
    "start_time": "2023-03-11T11:36:49.061Z"
   },
   {
    "duration": 6,
    "start_time": "2023-03-11T11:36:49.078Z"
   },
   {
    "duration": 12,
    "start_time": "2023-03-11T11:36:49.086Z"
   },
   {
    "duration": 49,
    "start_time": "2023-03-11T11:36:49.100Z"
   },
   {
    "duration": 3,
    "start_time": "2023-03-11T11:36:49.151Z"
   },
   {
    "duration": 8,
    "start_time": "2023-03-11T11:36:49.156Z"
   },
   {
    "duration": 8,
    "start_time": "2023-03-11T11:36:49.167Z"
   },
   {
    "duration": 19,
    "start_time": "2023-03-11T11:36:49.177Z"
   },
   {
    "duration": 40,
    "start_time": "2023-03-11T11:36:49.198Z"
   },
   {
    "duration": 25,
    "start_time": "2023-03-11T11:36:49.243Z"
   },
   {
    "duration": 0,
    "start_time": "2023-03-11T11:36:49.271Z"
   },
   {
    "duration": 0,
    "start_time": "2023-03-11T11:36:49.272Z"
   },
   {
    "duration": 0,
    "start_time": "2023-03-11T11:36:49.273Z"
   },
   {
    "duration": 0,
    "start_time": "2023-03-11T11:36:49.275Z"
   },
   {
    "duration": 0,
    "start_time": "2023-03-11T11:36:49.277Z"
   },
   {
    "duration": 0,
    "start_time": "2023-03-11T11:36:49.278Z"
   },
   {
    "duration": 0,
    "start_time": "2023-03-11T11:36:49.280Z"
   },
   {
    "duration": 0,
    "start_time": "2023-03-11T11:36:49.281Z"
   },
   {
    "duration": 0,
    "start_time": "2023-03-11T11:36:49.282Z"
   },
   {
    "duration": 0,
    "start_time": "2023-03-11T11:36:49.284Z"
   },
   {
    "duration": 0,
    "start_time": "2023-03-11T11:36:49.285Z"
   },
   {
    "duration": 0,
    "start_time": "2023-03-11T11:36:49.286Z"
   },
   {
    "duration": 0,
    "start_time": "2023-03-11T11:36:49.288Z"
   },
   {
    "duration": 0,
    "start_time": "2023-03-11T11:36:49.289Z"
   },
   {
    "duration": 0,
    "start_time": "2023-03-11T11:36:49.290Z"
   },
   {
    "duration": 0,
    "start_time": "2023-03-11T11:36:49.292Z"
   },
   {
    "duration": 0,
    "start_time": "2023-03-11T11:36:49.333Z"
   },
   {
    "duration": 0,
    "start_time": "2023-03-11T11:36:49.335Z"
   },
   {
    "duration": 0,
    "start_time": "2023-03-11T11:36:49.336Z"
   },
   {
    "duration": 4,
    "start_time": "2023-03-11T11:37:04.750Z"
   },
   {
    "duration": 70,
    "start_time": "2023-03-11T11:37:04.756Z"
   },
   {
    "duration": 27,
    "start_time": "2023-03-11T11:37:04.828Z"
   },
   {
    "duration": 10,
    "start_time": "2023-03-11T11:37:04.858Z"
   },
   {
    "duration": 14,
    "start_time": "2023-03-11T11:37:04.870Z"
   },
   {
    "duration": 4,
    "start_time": "2023-03-11T11:37:04.886Z"
   },
   {
    "duration": 10,
    "start_time": "2023-03-11T11:37:04.892Z"
   },
   {
    "duration": 30,
    "start_time": "2023-03-11T11:37:04.904Z"
   },
   {
    "duration": 20,
    "start_time": "2023-03-11T11:37:04.936Z"
   },
   {
    "duration": 10,
    "start_time": "2023-03-11T11:37:04.958Z"
   },
   {
    "duration": 13,
    "start_time": "2023-03-11T11:37:04.970Z"
   },
   {
    "duration": 16,
    "start_time": "2023-03-11T11:37:04.985Z"
   },
   {
    "duration": 11,
    "start_time": "2023-03-11T11:37:05.003Z"
   },
   {
    "duration": 34,
    "start_time": "2023-03-11T11:37:05.033Z"
   },
   {
    "duration": 148,
    "start_time": "2023-03-11T11:37:05.069Z"
   },
   {
    "duration": 227,
    "start_time": "2023-03-11T11:37:05.218Z"
   },
   {
    "duration": 4363,
    "start_time": "2023-03-11T11:37:05.452Z"
   },
   {
    "duration": 0,
    "start_time": "2023-03-11T11:37:09.817Z"
   },
   {
    "duration": 0,
    "start_time": "2023-03-11T11:37:09.818Z"
   },
   {
    "duration": 0,
    "start_time": "2023-03-11T11:37:09.819Z"
   },
   {
    "duration": 0,
    "start_time": "2023-03-11T11:37:09.820Z"
   },
   {
    "duration": 0,
    "start_time": "2023-03-11T11:37:09.821Z"
   },
   {
    "duration": 0,
    "start_time": "2023-03-11T11:37:09.823Z"
   },
   {
    "duration": 0,
    "start_time": "2023-03-11T11:37:09.824Z"
   },
   {
    "duration": 0,
    "start_time": "2023-03-11T11:37:09.825Z"
   },
   {
    "duration": 0,
    "start_time": "2023-03-11T11:37:09.826Z"
   },
   {
    "duration": 0,
    "start_time": "2023-03-11T11:37:09.827Z"
   },
   {
    "duration": 0,
    "start_time": "2023-03-11T11:37:09.828Z"
   },
   {
    "duration": 0,
    "start_time": "2023-03-11T11:37:09.829Z"
   },
   {
    "duration": 0,
    "start_time": "2023-03-11T11:37:09.830Z"
   },
   {
    "duration": 0,
    "start_time": "2023-03-11T11:37:09.831Z"
   },
   {
    "duration": 0,
    "start_time": "2023-03-11T11:37:09.835Z"
   },
   {
    "duration": 0,
    "start_time": "2023-03-11T11:37:09.836Z"
   },
   {
    "duration": 146658,
    "start_time": "2023-03-11T11:37:17.006Z"
   },
   {
    "duration": 18,
    "start_time": "2023-03-11T11:49:11.882Z"
   },
   {
    "duration": 8,
    "start_time": "2023-03-11T11:49:15.630Z"
   },
   {
    "duration": 64,
    "start_time": "2023-03-11T11:49:15.646Z"
   },
   {
    "duration": 31,
    "start_time": "2023-03-11T11:49:15.713Z"
   },
   {
    "duration": 19,
    "start_time": "2023-03-11T11:49:15.750Z"
   },
   {
    "duration": 13,
    "start_time": "2023-03-11T11:49:15.773Z"
   },
   {
    "duration": 9,
    "start_time": "2023-03-11T11:49:15.788Z"
   },
   {
    "duration": 38,
    "start_time": "2023-03-11T11:49:15.799Z"
   },
   {
    "duration": 6,
    "start_time": "2023-03-11T11:49:15.842Z"
   },
   {
    "duration": 18,
    "start_time": "2023-03-11T11:49:15.850Z"
   },
   {
    "duration": 5,
    "start_time": "2023-03-11T11:49:15.870Z"
   },
   {
    "duration": 9,
    "start_time": "2023-03-11T11:49:15.879Z"
   },
   {
    "duration": 44,
    "start_time": "2023-03-11T11:49:15.890Z"
   },
   {
    "duration": 16,
    "start_time": "2023-03-11T11:49:15.938Z"
   },
   {
    "duration": 41,
    "start_time": "2023-03-11T11:49:15.957Z"
   },
   {
    "duration": 191,
    "start_time": "2023-03-11T11:49:16.000Z"
   },
   {
    "duration": 209,
    "start_time": "2023-03-11T11:49:16.194Z"
   },
   {
    "duration": 85102,
    "start_time": "2023-03-11T11:49:16.405Z"
   },
   {
    "duration": 423,
    "start_time": "2023-03-11T11:50:41.509Z"
   },
   {
    "duration": 19,
    "start_time": "2023-03-11T11:50:41.937Z"
   },
   {
    "duration": 285,
    "start_time": "2023-03-11T11:50:41.958Z"
   },
   {
    "duration": 23103,
    "start_time": "2023-03-11T11:50:42.250Z"
   },
   {
    "duration": 394,
    "start_time": "2023-03-11T11:51:05.356Z"
   },
   {
    "duration": 6,
    "start_time": "2023-03-11T11:51:05.761Z"
   },
   {
    "duration": 1025,
    "start_time": "2023-03-11T11:51:05.769Z"
   },
   {
    "duration": 189578,
    "start_time": "2023-03-11T11:51:06.796Z"
   },
   {
    "duration": 1392,
    "start_time": "2023-03-11T11:54:16.375Z"
   },
   {
    "duration": 18,
    "start_time": "2023-03-11T11:54:17.840Z"
   },
   {
    "duration": 4364,
    "start_time": "2023-03-11T11:54:17.875Z"
   },
   {
    "duration": 281256,
    "start_time": "2023-03-11T11:54:22.243Z"
   },
   {
    "duration": 17355,
    "start_time": "2023-03-11T11:59:03.501Z"
   },
   {
    "duration": 547,
    "start_time": "2023-03-11T11:59:20.859Z"
   },
   {
    "duration": 83048,
    "start_time": "2023-03-11T11:59:21.408Z"
   },
   {
    "duration": 577,
    "start_time": "2023-03-11T12:00:44.458Z"
   },
   {
    "duration": 602,
    "start_time": "2023-03-11T12:03:04.752Z"
   },
   {
    "duration": 4,
    "start_time": "2023-03-11T12:03:28.008Z"
   },
   {
    "duration": 92,
    "start_time": "2023-03-11T12:03:28.020Z"
   },
   {
    "duration": 21,
    "start_time": "2023-03-11T12:03:28.115Z"
   },
   {
    "duration": 25,
    "start_time": "2023-03-11T12:03:28.138Z"
   },
   {
    "duration": 30,
    "start_time": "2023-03-11T12:03:28.165Z"
   },
   {
    "duration": 7,
    "start_time": "2023-03-11T12:03:28.197Z"
   },
   {
    "duration": 19,
    "start_time": "2023-03-11T12:03:28.206Z"
   },
   {
    "duration": 2,
    "start_time": "2023-03-11T12:03:28.295Z"
   },
   {
    "duration": 27,
    "start_time": "2023-03-11T12:03:28.299Z"
   },
   {
    "duration": 32,
    "start_time": "2023-03-11T12:03:28.327Z"
   },
   {
    "duration": 6,
    "start_time": "2023-03-11T12:03:28.623Z"
   },
   {
    "duration": 64,
    "start_time": "2023-03-11T12:03:28.634Z"
   },
   {
    "duration": 17,
    "start_time": "2023-03-11T12:03:28.700Z"
   },
   {
    "duration": 71,
    "start_time": "2023-03-11T12:03:28.719Z"
   },
   {
    "duration": 128,
    "start_time": "2023-03-11T12:03:28.798Z"
   },
   {
    "duration": 186,
    "start_time": "2023-03-11T12:03:28.931Z"
   },
   {
    "duration": 72463,
    "start_time": "2023-03-11T12:03:29.119Z"
   },
   {
    "duration": 0,
    "start_time": "2023-03-11T12:04:41.584Z"
   },
   {
    "duration": 0,
    "start_time": "2023-03-11T12:04:41.585Z"
   },
   {
    "duration": 0,
    "start_time": "2023-03-11T12:04:41.631Z"
   },
   {
    "duration": 0,
    "start_time": "2023-03-11T12:04:41.632Z"
   },
   {
    "duration": 0,
    "start_time": "2023-03-11T12:04:41.632Z"
   },
   {
    "duration": 0,
    "start_time": "2023-03-11T12:04:41.635Z"
   },
   {
    "duration": 0,
    "start_time": "2023-03-11T12:04:41.637Z"
   },
   {
    "duration": 0,
    "start_time": "2023-03-11T12:04:41.638Z"
   },
   {
    "duration": 0,
    "start_time": "2023-03-11T12:04:41.640Z"
   },
   {
    "duration": 0,
    "start_time": "2023-03-11T12:04:41.641Z"
   },
   {
    "duration": 0,
    "start_time": "2023-03-11T12:04:41.643Z"
   },
   {
    "duration": 0,
    "start_time": "2023-03-11T12:04:41.644Z"
   },
   {
    "duration": 0,
    "start_time": "2023-03-11T12:04:41.646Z"
   },
   {
    "duration": 0,
    "start_time": "2023-03-11T12:04:41.648Z"
   },
   {
    "duration": 0,
    "start_time": "2023-03-11T12:04:41.649Z"
   },
   {
    "duration": 0,
    "start_time": "2023-03-11T12:04:41.651Z"
   },
   {
    "duration": 4,
    "start_time": "2023-03-11T12:04:46.250Z"
   },
   {
    "duration": 125,
    "start_time": "2023-03-11T12:05:09.800Z"
   },
   {
    "duration": 4,
    "start_time": "2023-03-11T12:09:15.745Z"
   },
   {
    "duration": 51,
    "start_time": "2023-03-11T12:09:15.756Z"
   },
   {
    "duration": 14,
    "start_time": "2023-03-11T12:09:15.810Z"
   },
   {
    "duration": 21,
    "start_time": "2023-03-11T12:09:15.825Z"
   },
   {
    "duration": 14,
    "start_time": "2023-03-11T12:09:15.848Z"
   },
   {
    "duration": 8,
    "start_time": "2023-03-11T12:09:15.865Z"
   },
   {
    "duration": 11,
    "start_time": "2023-03-11T12:09:15.875Z"
   },
   {
    "duration": 3,
    "start_time": "2023-03-11T12:09:15.888Z"
   },
   {
    "duration": 39,
    "start_time": "2023-03-11T12:09:15.893Z"
   },
   {
    "duration": 10,
    "start_time": "2023-03-11T12:09:15.938Z"
   },
   {
    "duration": 12,
    "start_time": "2023-03-11T12:09:15.950Z"
   },
   {
    "duration": 20,
    "start_time": "2023-03-11T12:09:15.964Z"
   },
   {
    "duration": 14,
    "start_time": "2023-03-11T12:09:15.987Z"
   },
   {
    "duration": 47,
    "start_time": "2023-03-11T12:09:16.007Z"
   },
   {
    "duration": 152,
    "start_time": "2023-03-11T12:09:16.058Z"
   },
   {
    "duration": 188,
    "start_time": "2023-03-11T12:09:16.212Z"
   },
   {
    "duration": 75348,
    "start_time": "2023-03-11T12:09:16.402Z"
   },
   {
    "duration": 800,
    "start_time": "2023-03-11T12:10:31.752Z"
   },
   {
    "duration": 93,
    "start_time": "2023-03-11T12:10:32.555Z"
   },
   {
    "duration": 197,
    "start_time": "2023-03-11T12:10:32.650Z"
   },
   {
    "duration": 21156,
    "start_time": "2023-03-11T12:10:32.849Z"
   },
   {
    "duration": 1230,
    "start_time": "2023-03-11T12:10:54.008Z"
   },
   {
    "duration": 7,
    "start_time": "2023-03-11T12:10:55.242Z"
   },
   {
    "duration": 994,
    "start_time": "2023-03-11T12:10:55.251Z"
   },
   {
    "duration": 174957,
    "start_time": "2023-03-11T12:10:56.251Z"
   },
   {
    "duration": 3241,
    "start_time": "2023-03-11T12:13:51.210Z"
   },
   {
    "duration": 79,
    "start_time": "2023-03-11T12:13:54.453Z"
   },
   {
    "duration": 4023,
    "start_time": "2023-03-11T12:13:54.534Z"
   },
   {
    "duration": 283776,
    "start_time": "2023-03-11T12:13:58.559Z"
   },
   {
    "duration": 15402,
    "start_time": "2023-03-11T12:18:42.339Z"
   },
   {
    "duration": 643,
    "start_time": "2023-03-11T12:18:57.750Z"
   },
   {
    "duration": 88923,
    "start_time": "2023-03-11T12:18:58.431Z"
   },
   {
    "duration": 680,
    "start_time": "2023-03-11T12:20:27.356Z"
   },
   {
    "duration": 4,
    "start_time": "2023-03-11T12:23:02.589Z"
   },
   {
    "duration": 73,
    "start_time": "2023-03-11T12:23:02.595Z"
   },
   {
    "duration": 13,
    "start_time": "2023-03-11T12:23:02.670Z"
   },
   {
    "duration": 25,
    "start_time": "2023-03-11T12:23:02.685Z"
   },
   {
    "duration": 16,
    "start_time": "2023-03-11T12:23:02.712Z"
   },
   {
    "duration": 9,
    "start_time": "2023-03-11T12:23:02.733Z"
   },
   {
    "duration": 50,
    "start_time": "2023-03-11T12:23:02.744Z"
   },
   {
    "duration": 18,
    "start_time": "2023-03-11T12:23:02.796Z"
   },
   {
    "duration": 23,
    "start_time": "2023-03-11T12:23:02.818Z"
   },
   {
    "duration": 25,
    "start_time": "2023-03-11T12:23:02.842Z"
   },
   {
    "duration": 12,
    "start_time": "2023-03-11T12:23:02.869Z"
   },
   {
    "duration": 21,
    "start_time": "2023-03-11T12:23:02.883Z"
   },
   {
    "duration": 13,
    "start_time": "2023-03-11T12:23:02.906Z"
   },
   {
    "duration": 48,
    "start_time": "2023-03-11T12:23:02.921Z"
   },
   {
    "duration": 145,
    "start_time": "2023-03-11T12:23:02.971Z"
   },
   {
    "duration": 235,
    "start_time": "2023-03-11T12:23:03.118Z"
   },
   {
    "duration": 93232,
    "start_time": "2023-03-11T12:23:03.355Z"
   },
   {
    "duration": 658,
    "start_time": "2023-03-11T12:24:36.590Z"
   },
   {
    "duration": 26,
    "start_time": "2023-03-11T12:24:37.251Z"
   },
   {
    "duration": 313,
    "start_time": "2023-03-11T12:24:37.281Z"
   },
   {
    "duration": 24644,
    "start_time": "2023-03-11T12:24:37.596Z"
   },
   {
    "duration": 233,
    "start_time": "2023-03-11T12:25:02.242Z"
   },
   {
    "duration": 53,
    "start_time": "2023-03-11T12:25:02.478Z"
   },
   {
    "duration": 993,
    "start_time": "2023-03-11T12:25:02.533Z"
   },
   {
    "duration": 184899,
    "start_time": "2023-03-11T12:25:03.528Z"
   },
   {
    "duration": 3708,
    "start_time": "2023-03-11T12:28:08.430Z"
   },
   {
    "duration": 10,
    "start_time": "2023-03-11T12:28:12.141Z"
   },
   {
    "duration": 4472,
    "start_time": "2023-03-11T12:28:12.153Z"
   },
   {
    "duration": 332139,
    "start_time": "2023-03-11T12:28:16.627Z"
   },
   {
    "duration": 15965,
    "start_time": "2023-03-11T12:33:48.769Z"
   },
   {
    "duration": 572,
    "start_time": "2023-03-11T12:34:04.740Z"
   },
   {
    "duration": 69039,
    "start_time": "2023-03-11T12:34:05.314Z"
   },
   {
    "duration": 476,
    "start_time": "2023-03-11T12:35:14.356Z"
   },
   {
    "duration": 192,
    "start_time": "2023-03-11T12:35:14.834Z"
   },
   {
    "duration": 768,
    "start_time": "2023-03-11T12:48:55.071Z"
   },
   {
    "duration": 1444,
    "start_time": "2023-03-11T14:41:59.292Z"
   },
   {
    "duration": 66,
    "start_time": "2023-03-11T14:42:00.738Z"
   },
   {
    "duration": 37,
    "start_time": "2023-03-11T14:42:00.807Z"
   },
   {
    "duration": 36,
    "start_time": "2023-03-11T14:42:00.848Z"
   },
   {
    "duration": 24,
    "start_time": "2023-03-11T14:42:00.886Z"
   },
   {
    "duration": 69,
    "start_time": "2023-03-11T14:42:00.912Z"
   },
   {
    "duration": 29,
    "start_time": "2023-03-11T14:42:00.983Z"
   },
   {
    "duration": 70,
    "start_time": "2023-03-11T14:42:01.014Z"
   },
   {
    "duration": 45,
    "start_time": "2023-03-11T14:42:01.086Z"
   },
   {
    "duration": 60,
    "start_time": "2023-03-11T14:42:01.135Z"
   },
   {
    "duration": 43,
    "start_time": "2023-03-11T14:42:01.197Z"
   },
   {
    "duration": 104,
    "start_time": "2023-03-11T14:42:01.241Z"
   },
   {
    "duration": 488,
    "start_time": "2023-03-11T14:42:01.350Z"
   },
   {
    "duration": 239,
    "start_time": "2023-03-11T14:42:01.840Z"
   },
   {
    "duration": 79795,
    "start_time": "2023-03-11T14:42:02.082Z"
   },
   {
    "duration": 858,
    "start_time": "2023-03-11T14:43:21.879Z"
   },
   {
    "duration": 20,
    "start_time": "2023-03-11T14:43:22.740Z"
   },
   {
    "duration": 259,
    "start_time": "2023-03-11T14:43:22.762Z"
   },
   {
    "duration": 21473,
    "start_time": "2023-03-11T14:43:23.023Z"
   },
   {
    "duration": 1138,
    "start_time": "2023-03-11T14:43:44.497Z"
   },
   {
    "duration": 4,
    "start_time": "2023-03-11T14:43:45.637Z"
   },
   {
    "duration": 1052,
    "start_time": "2023-03-11T14:43:45.643Z"
   },
   {
    "duration": 162690,
    "start_time": "2023-03-11T14:43:46.697Z"
   },
   {
    "duration": 2544,
    "start_time": "2023-03-11T14:46:29.389Z"
   },
   {
    "duration": 7,
    "start_time": "2023-03-11T14:46:31.935Z"
   },
   {
    "duration": 4267,
    "start_time": "2023-03-11T14:46:31.947Z"
   },
   {
    "duration": 261021,
    "start_time": "2023-03-11T14:46:36.216Z"
   },
   {
    "duration": 28995,
    "start_time": "2023-03-11T14:50:57.240Z"
   },
   {
    "duration": 1265,
    "start_time": "2023-03-11T14:51:26.245Z"
   },
   {
    "duration": 108029,
    "start_time": "2023-03-11T14:51:27.515Z"
   },
   {
    "duration": 24,
    "start_time": "2023-03-11T14:55:27.234Z"
   },
   {
    "duration": 4,
    "start_time": "2023-03-11T14:55:31.801Z"
   },
   {
    "duration": 70,
    "start_time": "2023-03-11T14:55:31.808Z"
   },
   {
    "duration": 15,
    "start_time": "2023-03-11T14:55:31.880Z"
   },
   {
    "duration": 58,
    "start_time": "2023-03-11T14:55:31.896Z"
   },
   {
    "duration": 34,
    "start_time": "2023-03-11T14:55:31.956Z"
   },
   {
    "duration": 26,
    "start_time": "2023-03-11T14:55:31.991Z"
   },
   {
    "duration": 48,
    "start_time": "2023-03-11T14:55:32.019Z"
   },
   {
    "duration": 23,
    "start_time": "2023-03-11T14:55:32.070Z"
   },
   {
    "duration": 51,
    "start_time": "2023-03-11T14:55:32.095Z"
   },
   {
    "duration": 6,
    "start_time": "2023-03-11T14:55:32.148Z"
   },
   {
    "duration": 30,
    "start_time": "2023-03-11T14:55:32.156Z"
   },
   {
    "duration": 17,
    "start_time": "2023-03-11T14:55:32.188Z"
   },
   {
    "duration": 50,
    "start_time": "2023-03-11T14:55:32.208Z"
   },
   {
    "duration": 138,
    "start_time": "2023-03-11T14:55:32.262Z"
   },
   {
    "duration": 201,
    "start_time": "2023-03-11T14:55:32.402Z"
   },
   {
    "duration": 80306,
    "start_time": "2023-03-11T14:55:32.605Z"
   },
   {
    "duration": 3630,
    "start_time": "2023-03-11T14:56:52.914Z"
   },
   {
    "duration": 23,
    "start_time": "2023-03-11T14:56:56.551Z"
   },
   {
    "duration": 300,
    "start_time": "2023-03-11T14:56:56.576Z"
   },
   {
    "duration": 23018,
    "start_time": "2023-03-11T14:56:56.879Z"
   },
   {
    "duration": 1836,
    "start_time": "2023-03-11T14:57:19.899Z"
   },
   {
    "duration": 4,
    "start_time": "2023-03-11T14:57:21.737Z"
   },
   {
    "duration": 1132,
    "start_time": "2023-03-11T14:57:21.743Z"
   },
   {
    "duration": 178790,
    "start_time": "2023-03-11T14:57:22.877Z"
   },
   {
    "duration": 3983,
    "start_time": "2023-03-11T15:00:21.669Z"
   },
   {
    "duration": 6,
    "start_time": "2023-03-11T15:00:25.731Z"
   },
   {
    "duration": 4731,
    "start_time": "2023-03-11T15:00:25.744Z"
   },
   {
    "duration": 282821,
    "start_time": "2023-03-11T15:00:30.477Z"
   },
   {
    "duration": 32236,
    "start_time": "2023-03-11T15:05:13.301Z"
   },
   {
    "duration": 808,
    "start_time": "2023-03-11T15:05:45.542Z"
   },
   {
    "duration": 153598,
    "start_time": "2023-03-11T15:05:46.355Z"
   },
   {
    "duration": 55,
    "start_time": "2023-03-11T15:11:57.971Z"
   },
   {
    "duration": 44,
    "start_time": "2023-03-11T15:15:06.614Z"
   },
   {
    "duration": 5,
    "start_time": "2023-03-11T15:15:10.749Z"
   },
   {
    "duration": 81,
    "start_time": "2023-03-11T15:15:10.756Z"
   },
   {
    "duration": 16,
    "start_time": "2023-03-11T15:15:10.839Z"
   },
   {
    "duration": 6,
    "start_time": "2023-03-11T15:15:10.933Z"
   },
   {
    "duration": 22,
    "start_time": "2023-03-11T15:15:10.945Z"
   },
   {
    "duration": 6,
    "start_time": "2023-03-11T15:15:10.970Z"
   },
   {
    "duration": 21,
    "start_time": "2023-03-11T15:15:10.978Z"
   },
   {
    "duration": 6,
    "start_time": "2023-03-11T15:15:11.001Z"
   },
   {
    "duration": 6,
    "start_time": "2023-03-11T15:15:11.009Z"
   },
   {
    "duration": 27,
    "start_time": "2023-03-11T15:15:11.017Z"
   },
   {
    "duration": 7,
    "start_time": "2023-03-11T15:15:11.046Z"
   },
   {
    "duration": 21,
    "start_time": "2023-03-11T15:15:11.055Z"
   },
   {
    "duration": 12,
    "start_time": "2023-03-11T15:15:11.078Z"
   },
   {
    "duration": 70,
    "start_time": "2023-03-11T15:15:11.093Z"
   },
   {
    "duration": 147,
    "start_time": "2023-03-11T15:15:11.166Z"
   },
   {
    "duration": 213,
    "start_time": "2023-03-11T15:15:11.315Z"
   },
   {
    "duration": 87718,
    "start_time": "2023-03-11T15:15:11.531Z"
   },
   {
    "duration": 401,
    "start_time": "2023-03-11T15:16:39.251Z"
   },
   {
    "duration": 94,
    "start_time": "2023-03-11T15:16:39.656Z"
   },
   {
    "duration": 206,
    "start_time": "2023-03-11T15:16:39.752Z"
   },
   {
    "duration": 22422,
    "start_time": "2023-03-11T15:16:39.961Z"
   },
   {
    "duration": 756,
    "start_time": "2023-03-11T15:17:02.385Z"
   },
   {
    "duration": 5,
    "start_time": "2023-03-11T15:17:03.146Z"
   },
   {
    "duration": 970,
    "start_time": "2023-03-11T15:17:03.154Z"
   },
   {
    "duration": 183086,
    "start_time": "2023-03-11T15:17:04.127Z"
   },
   {
    "duration": 2324,
    "start_time": "2023-03-11T15:20:07.215Z"
   },
   {
    "duration": 6,
    "start_time": "2023-03-11T15:20:09.543Z"
   },
   {
    "duration": 4128,
    "start_time": "2023-03-11T15:20:09.552Z"
   },
   {
    "duration": 287574,
    "start_time": "2023-03-11T15:20:13.682Z"
   },
   {
    "duration": 26577,
    "start_time": "2023-03-11T15:25:01.258Z"
   },
   {
    "duration": 783,
    "start_time": "2023-03-11T15:25:27.838Z"
   },
   {
    "duration": 81938,
    "start_time": "2023-03-11T15:25:28.631Z"
   },
   {
    "duration": 5,
    "start_time": "2023-03-11T15:28:08.823Z"
   },
   {
    "duration": 135,
    "start_time": "2023-03-11T15:28:40.851Z"
   },
   {
    "duration": 865,
    "start_time": "2023-03-11T15:44:31.439Z"
   },
   {
    "duration": 203,
    "start_time": "2023-03-11T15:55:43.020Z"
   },
   {
    "duration": 195,
    "start_time": "2023-03-11T15:56:20.558Z"
   },
   {
    "duration": 89667,
    "start_time": "2023-03-11T16:06:20.867Z"
   },
   {
    "duration": 98372,
    "start_time": "2023-03-11T16:08:39.786Z"
   },
   {
    "duration": 122,
    "start_time": "2023-03-11T16:10:53.880Z"
   },
   {
    "duration": 4,
    "start_time": "2023-03-11T16:47:41.989Z"
   },
   {
    "duration": 12,
    "start_time": "2023-03-11T16:48:22.759Z"
   },
   {
    "duration": 144,
    "start_time": "2023-03-11T16:49:02.996Z"
   },
   {
    "duration": 917,
    "start_time": "2023-03-11T16:49:39.525Z"
   },
   {
    "duration": 479,
    "start_time": "2023-03-11T16:50:28.355Z"
   },
   {
    "duration": 749,
    "start_time": "2023-03-11T16:50:47.985Z"
   },
   {
    "duration": 162,
    "start_time": "2023-03-11T16:50:51.823Z"
   },
   {
    "duration": 147,
    "start_time": "2023-03-11T16:52:38.894Z"
   },
   {
    "duration": 5,
    "start_time": "2023-03-11T16:55:00.188Z"
   },
   {
    "duration": 140,
    "start_time": "2023-03-11T16:55:09.627Z"
   },
   {
    "duration": 60,
    "start_time": "2023-03-11T17:06:46.408Z"
   },
   {
    "duration": 6798,
    "start_time": "2023-03-14T15:06:14.830Z"
   },
   {
    "duration": 1322,
    "start_time": "2023-03-14T15:06:24.212Z"
   },
   {
    "duration": 2200,
    "start_time": "2023-03-14T15:06:53.680Z"
   },
   {
    "duration": 1222,
    "start_time": "2023-03-14T15:06:55.883Z"
   },
   {
    "duration": 90,
    "start_time": "2023-03-14T15:06:57.107Z"
   },
   {
    "duration": 15,
    "start_time": "2023-03-14T15:06:57.199Z"
   },
   {
    "duration": 14,
    "start_time": "2023-03-14T15:06:57.216Z"
   },
   {
    "duration": 40,
    "start_time": "2023-03-14T15:06:57.232Z"
   },
   {
    "duration": 19,
    "start_time": "2023-03-14T15:06:57.274Z"
   },
   {
    "duration": 36,
    "start_time": "2023-03-14T15:06:57.295Z"
   },
   {
    "duration": 14,
    "start_time": "2023-03-14T15:06:57.333Z"
   },
   {
    "duration": 29,
    "start_time": "2023-03-14T15:06:57.350Z"
   },
   {
    "duration": 27,
    "start_time": "2023-03-14T15:06:57.381Z"
   },
   {
    "duration": 33,
    "start_time": "2023-03-14T15:06:57.409Z"
   },
   {
    "duration": 51,
    "start_time": "2023-03-14T15:06:57.444Z"
   },
   {
    "duration": 10,
    "start_time": "2023-03-14T15:06:57.497Z"
   },
   {
    "duration": 54,
    "start_time": "2023-03-14T15:06:57.509Z"
   },
   {
    "duration": 124,
    "start_time": "2023-03-14T15:06:57.565Z"
   },
   {
    "duration": 164,
    "start_time": "2023-03-14T15:06:57.690Z"
   },
   {
    "duration": 69982,
    "start_time": "2023-03-14T15:06:57.856Z"
   },
   {
    "duration": 224,
    "start_time": "2023-03-14T15:08:07.840Z"
   },
   {
    "duration": 103,
    "start_time": "2023-03-14T15:08:08.067Z"
   },
   {
    "duration": 196,
    "start_time": "2023-03-14T15:08:08.171Z"
   },
   {
    "duration": 21706,
    "start_time": "2023-03-14T15:08:08.369Z"
   },
   {
    "duration": 311,
    "start_time": "2023-03-14T15:08:30.078Z"
   },
   {
    "duration": 38,
    "start_time": "2023-03-14T15:08:30.471Z"
   },
   {
    "duration": 930,
    "start_time": "2023-03-14T15:08:30.512Z"
   },
   {
    "duration": 0,
    "start_time": "2023-03-14T15:09:22.207Z"
   },
   {
    "duration": 0,
    "start_time": "2023-03-14T15:09:22.209Z"
   },
   {
    "duration": 0,
    "start_time": "2023-03-14T15:09:22.210Z"
   },
   {
    "duration": 0,
    "start_time": "2023-03-14T15:09:22.211Z"
   },
   {
    "duration": 0,
    "start_time": "2023-03-14T15:09:22.212Z"
   },
   {
    "duration": 0,
    "start_time": "2023-03-14T15:09:22.213Z"
   },
   {
    "duration": 0,
    "start_time": "2023-03-14T15:09:22.214Z"
   },
   {
    "duration": 0,
    "start_time": "2023-03-14T15:09:22.215Z"
   },
   {
    "duration": 0,
    "start_time": "2023-03-14T15:09:22.216Z"
   },
   {
    "duration": 0,
    "start_time": "2023-03-14T15:09:22.217Z"
   },
   {
    "duration": 0,
    "start_time": "2023-03-14T15:09:22.219Z"
   },
   {
    "duration": 0,
    "start_time": "2023-03-14T15:09:22.264Z"
   },
   {
    "duration": 0,
    "start_time": "2023-03-14T15:09:22.266Z"
   },
   {
    "duration": 0,
    "start_time": "2023-03-14T15:09:22.268Z"
   },
   {
    "duration": 0,
    "start_time": "2023-03-14T15:09:22.269Z"
   },
   {
    "duration": 0,
    "start_time": "2023-03-14T15:09:22.270Z"
   },
   {
    "duration": 0,
    "start_time": "2023-03-14T15:09:22.272Z"
   },
   {
    "duration": 0,
    "start_time": "2023-03-14T15:09:22.273Z"
   },
   {
    "duration": 0,
    "start_time": "2023-03-14T15:09:22.275Z"
   },
   {
    "duration": 0,
    "start_time": "2023-03-14T15:09:22.276Z"
   },
   {
    "duration": 0,
    "start_time": "2023-03-14T15:09:22.278Z"
   },
   {
    "duration": 0,
    "start_time": "2023-03-14T15:09:22.279Z"
   },
   {
    "duration": 0,
    "start_time": "2023-03-14T15:09:22.280Z"
   },
   {
    "duration": 0,
    "start_time": "2023-03-14T15:09:22.282Z"
   },
   {
    "duration": 0,
    "start_time": "2023-03-14T15:09:22.283Z"
   },
   {
    "duration": 0,
    "start_time": "2023-03-14T15:09:22.284Z"
   },
   {
    "duration": 0,
    "start_time": "2023-03-14T15:09:22.286Z"
   },
   {
    "duration": 0,
    "start_time": "2023-03-14T15:09:22.287Z"
   },
   {
    "duration": 0,
    "start_time": "2023-03-14T15:09:22.288Z"
   },
   {
    "duration": 0,
    "start_time": "2023-03-14T15:09:22.290Z"
   },
   {
    "duration": 0,
    "start_time": "2023-03-14T15:09:22.291Z"
   },
   {
    "duration": 0,
    "start_time": "2023-03-14T15:09:22.293Z"
   },
   {
    "duration": 0,
    "start_time": "2023-03-14T15:09:22.294Z"
   },
   {
    "duration": 0,
    "start_time": "2023-03-14T15:09:22.296Z"
   },
   {
    "duration": 0,
    "start_time": "2023-03-14T15:09:22.297Z"
   },
   {
    "duration": 0,
    "start_time": "2023-03-14T15:09:22.298Z"
   },
   {
    "duration": 46,
    "start_time": "2023-03-14T18:32:43.840Z"
   },
   {
    "duration": 7022,
    "start_time": "2023-03-14T18:32:57.835Z"
   },
   {
    "duration": 1326,
    "start_time": "2023-03-14T18:33:04.859Z"
   },
   {
    "duration": 89,
    "start_time": "2023-03-14T18:33:06.186Z"
   },
   {
    "duration": 15,
    "start_time": "2023-03-14T18:33:06.277Z"
   },
   {
    "duration": 3,
    "start_time": "2023-03-14T18:33:06.293Z"
   },
   {
    "duration": 9,
    "start_time": "2023-03-14T18:33:06.298Z"
   },
   {
    "duration": 4,
    "start_time": "2023-03-14T18:33:06.308Z"
   },
   {
    "duration": 9,
    "start_time": "2023-03-14T18:33:06.313Z"
   },
   {
    "duration": 5,
    "start_time": "2023-03-14T18:33:06.323Z"
   },
   {
    "duration": 5,
    "start_time": "2023-03-14T18:33:06.330Z"
   },
   {
    "duration": 33,
    "start_time": "2023-03-14T18:33:06.336Z"
   },
   {
    "duration": 5,
    "start_time": "2023-03-14T18:33:06.372Z"
   },
   {
    "duration": 23,
    "start_time": "2023-03-14T18:33:06.379Z"
   },
   {
    "duration": 21,
    "start_time": "2023-03-14T18:33:06.404Z"
   },
   {
    "duration": 6,
    "start_time": "2023-03-14T18:33:06.427Z"
   },
   {
    "duration": 42,
    "start_time": "2023-03-14T18:33:06.435Z"
   },
   {
    "duration": 150,
    "start_time": "2023-03-14T18:33:06.479Z"
   },
   {
    "duration": 86,
    "start_time": "2023-03-14T18:33:06.631Z"
   },
   {
    "duration": 0,
    "start_time": "2023-03-14T18:33:06.719Z"
   },
   {
    "duration": 0,
    "start_time": "2023-03-14T18:33:06.721Z"
   },
   {
    "duration": 0,
    "start_time": "2023-03-14T18:33:06.722Z"
   },
   {
    "duration": 0,
    "start_time": "2023-03-14T18:33:06.723Z"
   },
   {
    "duration": 0,
    "start_time": "2023-03-14T18:33:06.725Z"
   },
   {
    "duration": 0,
    "start_time": "2023-03-14T18:33:06.726Z"
   },
   {
    "duration": 0,
    "start_time": "2023-03-14T18:33:06.727Z"
   },
   {
    "duration": 0,
    "start_time": "2023-03-14T18:33:06.729Z"
   },
   {
    "duration": 0,
    "start_time": "2023-03-14T18:33:06.730Z"
   },
   {
    "duration": 0,
    "start_time": "2023-03-14T18:33:06.732Z"
   },
   {
    "duration": 0,
    "start_time": "2023-03-14T18:33:06.733Z"
   },
   {
    "duration": 0,
    "start_time": "2023-03-14T18:33:06.735Z"
   },
   {
    "duration": 0,
    "start_time": "2023-03-14T18:33:06.736Z"
   },
   {
    "duration": 0,
    "start_time": "2023-03-14T18:33:06.765Z"
   },
   {
    "duration": 0,
    "start_time": "2023-03-14T18:33:06.766Z"
   },
   {
    "duration": 0,
    "start_time": "2023-03-14T18:33:06.768Z"
   },
   {
    "duration": 0,
    "start_time": "2023-03-14T18:33:06.769Z"
   },
   {
    "duration": 0,
    "start_time": "2023-03-14T18:33:06.771Z"
   },
   {
    "duration": 0,
    "start_time": "2023-03-14T18:33:06.773Z"
   },
   {
    "duration": 3,
    "start_time": "2023-03-14T18:35:23.700Z"
   },
   {
    "duration": 8,
    "start_time": "2023-03-14T18:36:43.951Z"
   },
   {
    "duration": 24,
    "start_time": "2023-03-14T18:40:25.419Z"
   },
   {
    "duration": 32,
    "start_time": "2023-03-14T18:40:46.801Z"
   },
   {
    "duration": 25,
    "start_time": "2023-03-14T18:43:02.152Z"
   },
   {
    "duration": 17,
    "start_time": "2023-03-14T18:46:54.363Z"
   },
   {
    "duration": 16,
    "start_time": "2023-03-14T18:47:32.969Z"
   },
   {
    "duration": 4,
    "start_time": "2023-03-14T18:48:27.767Z"
   },
   {
    "duration": 4,
    "start_time": "2023-03-14T18:48:33.123Z"
   },
   {
    "duration": 2046,
    "start_time": "2023-03-14T18:49:00.243Z"
   },
   {
    "duration": 4,
    "start_time": "2023-03-14T18:49:02.291Z"
   },
   {
    "duration": 77,
    "start_time": "2023-03-14T18:49:02.297Z"
   },
   {
    "duration": 13,
    "start_time": "2023-03-14T18:49:02.376Z"
   },
   {
    "duration": 5,
    "start_time": "2023-03-14T18:49:02.391Z"
   },
   {
    "duration": 14,
    "start_time": "2023-03-14T18:49:02.398Z"
   },
   {
    "duration": 9,
    "start_time": "2023-03-14T18:49:02.414Z"
   },
   {
    "duration": 11,
    "start_time": "2023-03-14T18:49:02.424Z"
   },
   {
    "duration": 12,
    "start_time": "2023-03-14T18:49:02.436Z"
   },
   {
    "duration": 32,
    "start_time": "2023-03-14T18:49:02.450Z"
   },
   {
    "duration": 26,
    "start_time": "2023-03-14T18:49:02.484Z"
   },
   {
    "duration": 53,
    "start_time": "2023-03-14T18:49:02.512Z"
   },
   {
    "duration": 15,
    "start_time": "2023-03-14T18:49:02.567Z"
   },
   {
    "duration": 88,
    "start_time": "2023-03-14T18:49:02.583Z"
   },
   {
    "duration": 43,
    "start_time": "2023-03-14T18:49:02.672Z"
   },
   {
    "duration": 66,
    "start_time": "2023-03-14T18:49:02.717Z"
   },
   {
    "duration": 221,
    "start_time": "2023-03-14T18:49:02.785Z"
   },
   {
    "duration": 303,
    "start_time": "2023-03-14T18:49:03.007Z"
   },
   {
    "duration": 65124,
    "start_time": "2023-03-14T18:49:03.311Z"
   },
   {
    "duration": 232,
    "start_time": "2023-03-14T18:50:08.437Z"
   },
   {
    "duration": 103,
    "start_time": "2023-03-14T18:50:08.671Z"
   },
   {
    "duration": 158,
    "start_time": "2023-03-14T18:50:08.776Z"
   },
   {
    "duration": 17804,
    "start_time": "2023-03-14T18:50:08.936Z"
   },
   {
    "duration": 324,
    "start_time": "2023-03-14T18:50:26.742Z"
   },
   {
    "duration": 93,
    "start_time": "2023-03-14T18:50:27.072Z"
   },
   {
    "duration": 852,
    "start_time": "2023-03-14T18:50:27.167Z"
   },
   {
    "duration": 146048,
    "start_time": "2023-03-14T18:50:28.020Z"
   },
   {
    "duration": 1300,
    "start_time": "2023-03-14T18:52:54.071Z"
   },
   {
    "duration": 92,
    "start_time": "2023-03-14T18:52:55.373Z"
   },
   {
    "duration": 3260,
    "start_time": "2023-03-14T18:52:55.467Z"
   },
   {
    "duration": 72193,
    "start_time": "2023-03-14T18:52:58.728Z"
   },
   {
    "duration": 0,
    "start_time": "2023-03-14T18:54:10.923Z"
   },
   {
    "duration": 0,
    "start_time": "2023-03-14T18:54:10.924Z"
   },
   {
    "duration": 0,
    "start_time": "2023-03-14T18:54:10.925Z"
   },
   {
    "duration": 0,
    "start_time": "2023-03-14T18:54:10.926Z"
   },
   {
    "duration": 0,
    "start_time": "2023-03-14T18:54:10.927Z"
   },
   {
    "duration": 0,
    "start_time": "2023-03-14T18:54:10.929Z"
   },
   {
    "duration": 104,
    "start_time": "2023-03-14T18:54:12.104Z"
   },
   {
    "duration": 190,
    "start_time": "2023-03-14T18:54:42.316Z"
   },
   {
    "duration": 135,
    "start_time": "2023-03-14T18:54:50.857Z"
   },
   {
    "duration": 112,
    "start_time": "2023-03-14T18:54:57.042Z"
   },
   {
    "duration": 131,
    "start_time": "2023-03-14T18:58:38.824Z"
   },
   {
    "duration": 2105,
    "start_time": "2023-03-14T18:59:01.654Z"
   },
   {
    "duration": 4,
    "start_time": "2023-03-14T18:59:03.762Z"
   },
   {
    "duration": 71,
    "start_time": "2023-03-14T18:59:03.767Z"
   },
   {
    "duration": 15,
    "start_time": "2023-03-14T18:59:03.840Z"
   },
   {
    "duration": 10,
    "start_time": "2023-03-14T18:59:03.857Z"
   },
   {
    "duration": 11,
    "start_time": "2023-03-14T18:59:03.869Z"
   },
   {
    "duration": 5,
    "start_time": "2023-03-14T18:59:03.882Z"
   },
   {
    "duration": 8,
    "start_time": "2023-03-14T18:59:03.889Z"
   },
   {
    "duration": 3,
    "start_time": "2023-03-14T18:59:03.898Z"
   },
   {
    "duration": 3,
    "start_time": "2023-03-14T18:59:03.905Z"
   },
   {
    "duration": 10,
    "start_time": "2023-03-14T18:59:03.910Z"
   },
   {
    "duration": 5,
    "start_time": "2023-03-14T18:59:03.922Z"
   },
   {
    "duration": 36,
    "start_time": "2023-03-14T18:59:03.929Z"
   },
   {
    "duration": 15,
    "start_time": "2023-03-14T18:59:03.967Z"
   },
   {
    "duration": 31,
    "start_time": "2023-03-14T18:59:03.984Z"
   },
   {
    "duration": 52,
    "start_time": "2023-03-14T18:59:04.017Z"
   },
   {
    "duration": 148,
    "start_time": "2023-03-14T18:59:04.070Z"
   },
   {
    "duration": 170,
    "start_time": "2023-03-14T18:59:04.220Z"
   },
   {
    "duration": 66534,
    "start_time": "2023-03-14T18:59:04.392Z"
   },
   {
    "duration": 0,
    "start_time": "2023-03-14T19:00:10.928Z"
   },
   {
    "duration": 0,
    "start_time": "2023-03-14T19:00:10.929Z"
   },
   {
    "duration": 0,
    "start_time": "2023-03-14T19:00:10.930Z"
   },
   {
    "duration": 0,
    "start_time": "2023-03-14T19:00:10.931Z"
   },
   {
    "duration": 0,
    "start_time": "2023-03-14T19:00:10.932Z"
   },
   {
    "duration": 0,
    "start_time": "2023-03-14T19:00:10.934Z"
   },
   {
    "duration": 0,
    "start_time": "2023-03-14T19:00:10.935Z"
   },
   {
    "duration": 0,
    "start_time": "2023-03-14T19:00:10.936Z"
   },
   {
    "duration": 0,
    "start_time": "2023-03-14T19:00:10.938Z"
   },
   {
    "duration": 0,
    "start_time": "2023-03-14T19:00:10.938Z"
   },
   {
    "duration": 0,
    "start_time": "2023-03-14T19:00:10.940Z"
   },
   {
    "duration": 0,
    "start_time": "2023-03-14T19:00:10.964Z"
   },
   {
    "duration": 0,
    "start_time": "2023-03-14T19:00:10.966Z"
   },
   {
    "duration": 0,
    "start_time": "2023-03-14T19:00:10.967Z"
   },
   {
    "duration": 0,
    "start_time": "2023-03-14T19:00:10.968Z"
   },
   {
    "duration": 0,
    "start_time": "2023-03-14T19:00:10.969Z"
   },
   {
    "duration": 0,
    "start_time": "2023-03-14T19:00:10.970Z"
   },
   {
    "duration": 0,
    "start_time": "2023-03-14T19:00:10.972Z"
   },
   {
    "duration": 33,
    "start_time": "2023-03-14T19:02:16.572Z"
   },
   {
    "duration": 45,
    "start_time": "2023-03-14T19:02:36.892Z"
   },
   {
    "duration": 51,
    "start_time": "2023-03-14T19:03:15.904Z"
   },
   {
    "duration": 163,
    "start_time": "2023-03-14T19:04:05.852Z"
   },
   {
    "duration": 169,
    "start_time": "2023-03-14T19:04:39.809Z"
   },
   {
    "duration": 140,
    "start_time": "2023-03-14T19:07:00.834Z"
   },
   {
    "duration": 13,
    "start_time": "2023-03-14T19:09:13.241Z"
   },
   {
    "duration": 15368,
    "start_time": "2023-03-14T19:17:52.798Z"
   },
   {
    "duration": 184,
    "start_time": "2023-03-14T19:24:21.412Z"
   },
   {
    "duration": 176,
    "start_time": "2023-03-14T19:24:42.378Z"
   },
   {
    "duration": 57,
    "start_time": "2023-03-14T19:31:34.450Z"
   },
   {
    "duration": 215,
    "start_time": "2023-03-14T19:31:46.313Z"
   },
   {
    "duration": 179,
    "start_time": "2023-03-14T19:32:06.030Z"
   },
   {
    "duration": 211,
    "start_time": "2023-03-14T19:33:38.853Z"
   },
   {
    "duration": 2047,
    "start_time": "2023-03-14T19:36:11.610Z"
   },
   {
    "duration": 4,
    "start_time": "2023-03-14T19:36:13.659Z"
   },
   {
    "duration": 74,
    "start_time": "2023-03-14T19:36:13.665Z"
   },
   {
    "duration": 12,
    "start_time": "2023-03-14T19:36:13.741Z"
   },
   {
    "duration": 16,
    "start_time": "2023-03-14T19:36:13.755Z"
   },
   {
    "duration": 33,
    "start_time": "2023-03-14T19:36:13.772Z"
   },
   {
    "duration": 18,
    "start_time": "2023-03-14T19:36:13.806Z"
   },
   {
    "duration": 25,
    "start_time": "2023-03-14T19:36:13.826Z"
   },
   {
    "duration": 19,
    "start_time": "2023-03-14T19:36:13.853Z"
   },
   {
    "duration": 17,
    "start_time": "2023-03-14T19:36:13.875Z"
   },
   {
    "duration": 20,
    "start_time": "2023-03-14T19:36:13.894Z"
   },
   {
    "duration": 19,
    "start_time": "2023-03-14T19:36:13.916Z"
   },
   {
    "duration": 17,
    "start_time": "2023-03-14T19:36:13.937Z"
   },
   {
    "duration": 29,
    "start_time": "2023-03-14T19:36:13.955Z"
   },
   {
    "duration": 41,
    "start_time": "2023-03-14T19:36:13.985Z"
   },
   {
    "duration": 29,
    "start_time": "2023-03-14T19:36:14.028Z"
   },
   {
    "duration": 122,
    "start_time": "2023-03-14T19:36:14.058Z"
   },
   {
    "duration": 160,
    "start_time": "2023-03-14T19:36:14.182Z"
   },
   {
    "duration": 70160,
    "start_time": "2023-03-14T19:36:14.343Z"
   },
   {
    "duration": 165,
    "start_time": "2023-03-14T19:37:24.505Z"
   },
   {
    "duration": 104,
    "start_time": "2023-03-14T19:37:24.672Z"
   },
   {
    "duration": 188,
    "start_time": "2023-03-14T19:37:24.777Z"
   },
   {
    "duration": 18831,
    "start_time": "2023-03-14T19:37:24.967Z"
   },
   {
    "duration": 265,
    "start_time": "2023-03-14T19:37:43.800Z"
   },
   {
    "duration": 104,
    "start_time": "2023-03-14T19:37:44.072Z"
   },
   {
    "duration": 844,
    "start_time": "2023-03-14T19:37:44.178Z"
   },
   {
    "duration": 148945,
    "start_time": "2023-03-14T19:37:45.024Z"
   },
   {
    "duration": 2893,
    "start_time": "2023-03-14T19:40:13.972Z"
   },
   {
    "duration": 6,
    "start_time": "2023-03-14T19:40:16.867Z"
   },
   {
    "duration": 3293,
    "start_time": "2023-03-14T19:40:16.874Z"
   },
   {
    "duration": 238487,
    "start_time": "2023-03-14T19:40:20.169Z"
   },
   {
    "duration": 18619,
    "start_time": "2023-03-14T19:44:18.658Z"
   },
   {
    "duration": 2915,
    "start_time": "2023-03-14T19:44:37.369Z"
   },
   {
    "duration": 82810,
    "start_time": "2023-03-14T19:44:40.365Z"
   },
   {
    "duration": 166,
    "start_time": "2023-03-14T19:46:03.179Z"
   },
   {
    "duration": 3,
    "start_time": "2023-03-14T19:46:03.347Z"
   },
   {
    "duration": 31,
    "start_time": "2023-03-14T19:46:03.351Z"
   },
   {
    "duration": 270,
    "start_time": "2023-03-14T19:55:21.651Z"
   },
   {
    "duration": 1123,
    "start_time": "2023-03-14T19:55:35.880Z"
   },
   {
    "duration": 2126,
    "start_time": "2023-03-14T19:55:50.750Z"
   },
   {
    "duration": 4769,
    "start_time": "2023-03-14T19:56:09.817Z"
   },
   {
    "duration": 4416,
    "start_time": "2023-03-14T19:56:37.607Z"
   },
   {
    "duration": 973,
    "start_time": "2023-03-14T19:56:59.995Z"
   },
   {
    "duration": 9006,
    "start_time": "2023-03-14T19:57:22.500Z"
   },
   {
    "duration": 9491,
    "start_time": "2023-03-14T19:58:02.432Z"
   },
   {
    "duration": 9274,
    "start_time": "2023-03-14T19:58:23.021Z"
   },
   {
    "duration": 5965,
    "start_time": "2023-03-14T20:11:57.778Z"
   },
   {
    "duration": 14,
    "start_time": "2023-03-14T20:15:15.992Z"
   },
   {
    "duration": 4887,
    "start_time": "2023-03-14T20:15:35.769Z"
   },
   {
    "duration": 13,
    "start_time": "2023-03-14T20:15:49.443Z"
   },
   {
    "duration": 9,
    "start_time": "2023-03-14T20:15:57.546Z"
   },
   {
    "duration": 42,
    "start_time": "2023-03-14T20:17:23.327Z"
   },
   {
    "duration": 171,
    "start_time": "2023-03-14T20:17:31.675Z"
   },
   {
    "duration": 13,
    "start_time": "2023-03-14T20:18:11.234Z"
   },
   {
    "duration": 30,
    "start_time": "2023-03-14T20:18:37.474Z"
   },
   {
    "duration": 209,
    "start_time": "2023-03-14T20:19:59.021Z"
   },
   {
    "duration": 217,
    "start_time": "2023-03-14T20:21:06.008Z"
   },
   {
    "duration": 34,
    "start_time": "2023-03-14T20:21:55.849Z"
   },
   {
    "duration": 30,
    "start_time": "2023-03-14T20:22:23.619Z"
   },
   {
    "duration": 437,
    "start_time": "2023-03-14T20:22:52.608Z"
   },
   {
    "duration": 221,
    "start_time": "2023-03-14T20:23:35.014Z"
   },
   {
    "duration": 30,
    "start_time": "2023-03-14T20:24:54.269Z"
   },
   {
    "duration": 222,
    "start_time": "2023-03-14T20:24:56.533Z"
   },
   {
    "duration": 9,
    "start_time": "2023-03-14T20:25:40.678Z"
   },
   {
    "duration": 14,
    "start_time": "2023-03-14T20:25:48.061Z"
   },
   {
    "duration": 12,
    "start_time": "2023-03-14T20:26:05.817Z"
   },
   {
    "duration": 9,
    "start_time": "2023-03-14T20:26:14.066Z"
   },
   {
    "duration": 28,
    "start_time": "2023-03-14T20:27:13.369Z"
   },
   {
    "duration": 250,
    "start_time": "2023-03-14T20:28:53.800Z"
   },
   {
    "duration": 10,
    "start_time": "2023-03-14T20:29:31.063Z"
   },
   {
    "duration": 12,
    "start_time": "2023-03-14T20:29:37.889Z"
   },
   {
    "duration": 29,
    "start_time": "2023-03-14T20:30:18.469Z"
   },
   {
    "duration": 237,
    "start_time": "2023-03-14T20:30:29.809Z"
   },
   {
    "duration": 28,
    "start_time": "2023-03-14T20:30:40.950Z"
   },
   {
    "duration": 231,
    "start_time": "2023-03-14T20:30:41.708Z"
   },
   {
    "duration": 29,
    "start_time": "2023-03-14T20:31:09.392Z"
   },
   {
    "duration": 260,
    "start_time": "2023-03-14T20:31:13.312Z"
   },
   {
    "duration": 28,
    "start_time": "2023-03-14T20:31:29.724Z"
   },
   {
    "duration": 260,
    "start_time": "2023-03-14T20:31:31.110Z"
   },
   {
    "duration": 31,
    "start_time": "2023-03-14T20:32:49.209Z"
   },
   {
    "duration": 256,
    "start_time": "2023-03-14T20:32:50.543Z"
   },
   {
    "duration": 11,
    "start_time": "2023-03-14T20:33:00.594Z"
   },
   {
    "duration": 11,
    "start_time": "2023-03-14T20:33:43.311Z"
   },
   {
    "duration": 27,
    "start_time": "2023-03-14T20:35:01.007Z"
   },
   {
    "duration": 27,
    "start_time": "2023-03-14T20:35:11.578Z"
   },
   {
    "duration": 31,
    "start_time": "2023-03-14T20:35:20.023Z"
   },
   {
    "duration": 237,
    "start_time": "2023-03-14T20:35:22.862Z"
   },
   {
    "duration": 29,
    "start_time": "2023-03-14T20:35:30.248Z"
   },
   {
    "duration": 252,
    "start_time": "2023-03-14T20:35:31.577Z"
   },
   {
    "duration": 27,
    "start_time": "2023-03-14T20:35:39.173Z"
   },
   {
    "duration": 268,
    "start_time": "2023-03-14T20:35:40.369Z"
   },
   {
    "duration": 28,
    "start_time": "2023-03-14T20:35:47.466Z"
   },
   {
    "duration": 240,
    "start_time": "2023-03-14T20:35:48.734Z"
   },
   {
    "duration": 32,
    "start_time": "2023-03-14T20:35:55.637Z"
   },
   {
    "duration": 291,
    "start_time": "2023-03-14T20:35:56.583Z"
   },
   {
    "duration": 28,
    "start_time": "2023-03-14T20:36:02.616Z"
   },
   {
    "duration": 258,
    "start_time": "2023-03-14T20:36:03.715Z"
   },
   {
    "duration": 816,
    "start_time": "2023-03-14T20:40:57.701Z"
   },
   {
    "duration": 46535,
    "start_time": "2023-03-14T20:46:54.879Z"
   },
   {
    "duration": 12,
    "start_time": "2023-03-14T20:50:41.319Z"
   },
   {
    "duration": 399,
    "start_time": "2023-03-14T20:50:52.270Z"
   },
   {
    "duration": 218,
    "start_time": "2023-03-14T20:51:21.449Z"
   },
   {
    "duration": 29,
    "start_time": "2023-03-14T20:52:59.661Z"
   },
   {
    "duration": 752,
    "start_time": "2023-03-14T20:53:08.322Z"
   },
   {
    "duration": 247,
    "start_time": "2023-03-14T20:53:11.767Z"
   },
   {
    "duration": 47719,
    "start_time": "2023-03-14T20:54:06.976Z"
   },
   {
    "duration": 1409,
    "start_time": "2023-03-14T20:55:21.764Z"
   },
   {
    "duration": 284,
    "start_time": "2023-03-14T20:55:24.087Z"
   },
   {
    "duration": 991,
    "start_time": "2023-03-14T20:56:52.183Z"
   },
   {
    "duration": 169642,
    "start_time": "2023-03-14T20:57:44.482Z"
   },
   {
    "duration": 46878,
    "start_time": "2023-03-14T21:01:48.653Z"
   },
   {
    "duration": 1904,
    "start_time": "2023-03-14T21:03:15.668Z"
   },
   {
    "duration": 224,
    "start_time": "2023-03-14T21:03:20.149Z"
   },
   {
    "duration": 613,
    "start_time": "2023-03-14T21:17:32.399Z"
   },
   {
    "duration": 232482,
    "start_time": "2023-03-14T21:20:55.025Z"
   },
   {
    "duration": 348484,
    "start_time": "2023-03-14T21:26:31.346Z"
   },
   {
    "duration": 157,
    "start_time": "2023-03-14T21:33:39.933Z"
   },
   {
    "duration": 3,
    "start_time": "2023-03-14T21:33:45.440Z"
   },
   {
    "duration": 13,
    "start_time": "2023-03-14T21:33:48.336Z"
   },
   {
    "duration": 153,
    "start_time": "2023-03-14T21:35:01.958Z"
   },
   {
    "duration": 14,
    "start_time": "2023-03-14T21:35:19.415Z"
   },
   {
    "duration": 169,
    "start_time": "2023-03-14T21:35:48.125Z"
   },
   {
    "duration": 163,
    "start_time": "2023-03-14T21:36:00.288Z"
   },
   {
    "duration": 158,
    "start_time": "2023-03-14T21:36:40.869Z"
   },
   {
    "duration": 158,
    "start_time": "2023-03-14T21:36:48.056Z"
   },
   {
    "duration": 160,
    "start_time": "2023-03-14T21:38:12.306Z"
   },
   {
    "duration": 115,
    "start_time": "2023-03-14T21:38:24.788Z"
   },
   {
    "duration": 51,
    "start_time": "2023-03-15T08:46:00.873Z"
   },
   {
    "duration": 8,
    "start_time": "2023-03-15T08:46:10.907Z"
   },
   {
    "duration": 15264,
    "start_time": "2023-03-15T08:46:20.936Z"
   },
   {
    "duration": 1423,
    "start_time": "2023-03-15T08:46:36.203Z"
   },
   {
    "duration": 96,
    "start_time": "2023-03-15T08:46:37.627Z"
   },
   {
    "duration": 17,
    "start_time": "2023-03-15T08:46:37.726Z"
   },
   {
    "duration": 12,
    "start_time": "2023-03-15T08:46:37.745Z"
   },
   {
    "duration": 15,
    "start_time": "2023-03-15T08:46:37.759Z"
   },
   {
    "duration": 15,
    "start_time": "2023-03-15T08:46:37.776Z"
   },
   {
    "duration": 18,
    "start_time": "2023-03-15T08:46:37.793Z"
   },
   {
    "duration": 10,
    "start_time": "2023-03-15T08:46:37.813Z"
   },
   {
    "duration": 6,
    "start_time": "2023-03-15T08:46:37.825Z"
   },
   {
    "duration": 11,
    "start_time": "2023-03-15T08:46:37.833Z"
   },
   {
    "duration": 7,
    "start_time": "2023-03-15T08:46:37.846Z"
   },
   {
    "duration": 7,
    "start_time": "2023-03-15T08:46:37.854Z"
   },
   {
    "duration": 15,
    "start_time": "2023-03-15T08:46:37.862Z"
   },
   {
    "duration": 31,
    "start_time": "2023-03-15T08:46:37.879Z"
   },
   {
    "duration": 26,
    "start_time": "2023-03-15T08:46:37.913Z"
   },
   {
    "duration": 165,
    "start_time": "2023-03-15T08:46:37.940Z"
   },
   {
    "duration": 181,
    "start_time": "2023-03-15T08:46:38.107Z"
   },
   {
    "duration": 71165,
    "start_time": "2023-03-15T08:46:38.290Z"
   },
   {
    "duration": 211,
    "start_time": "2023-03-15T08:47:49.457Z"
   },
   {
    "duration": 112,
    "start_time": "2023-03-15T08:47:49.759Z"
   },
   {
    "duration": 196,
    "start_time": "2023-03-15T08:47:49.873Z"
   },
   {
    "duration": 20207,
    "start_time": "2023-03-15T08:47:50.071Z"
   },
   {
    "duration": 284,
    "start_time": "2023-03-15T08:48:10.280Z"
   },
   {
    "duration": 94,
    "start_time": "2023-03-15T08:48:10.566Z"
   },
   {
    "duration": 120,
    "start_time": "2023-03-15T08:48:10.662Z"
   },
   {
    "duration": 1080,
    "start_time": "2023-03-15T08:48:10.783Z"
   },
   {
    "duration": 278,
    "start_time": "2023-03-15T08:48:11.867Z"
   },
   {
    "duration": 186656,
    "start_time": "2023-03-15T08:48:12.146Z"
   },
   {
    "duration": 51897,
    "start_time": "2023-03-15T08:51:18.804Z"
   },
   {
    "duration": 1657,
    "start_time": "2023-03-15T08:52:10.703Z"
   },
   {
    "duration": 603,
    "start_time": "2023-03-15T08:52:12.362Z"
   },
   {
    "duration": 5,
    "start_time": "2023-03-15T08:52:13.058Z"
   },
   {
    "duration": 3925,
    "start_time": "2023-03-15T08:52:13.066Z"
   },
   {
    "duration": 374910,
    "start_time": "2023-03-15T08:52:16.992Z"
   },
   {
    "duration": 10455,
    "start_time": "2023-03-15T08:58:31.905Z"
   },
   {
    "duration": 2807,
    "start_time": "2023-03-15T08:58:42.362Z"
   },
   {
    "duration": 71097,
    "start_time": "2023-03-15T08:58:45.171Z"
   },
   {
    "duration": 179,
    "start_time": "2023-03-15T08:59:56.269Z"
   },
   {
    "duration": 306,
    "start_time": "2023-03-15T08:59:56.450Z"
   },
   {
    "duration": 2,
    "start_time": "2023-03-15T08:59:56.758Z"
   },
   {
    "duration": 128,
    "start_time": "2023-03-15T08:59:56.762Z"
   },
   {
    "duration": 705,
    "start_time": "2023-03-15T09:03:22.457Z"
   },
   {
    "duration": 2248,
    "start_time": "2023-03-15T09:03:47.012Z"
   },
   {
    "duration": 494876,
    "start_time": "2023-03-15T09:04:44.116Z"
   },
   {
    "duration": 789854,
    "start_time": "2023-03-15T09:33:50.530Z"
   },
   {
    "duration": 1624,
    "start_time": "2023-03-15T10:23:26.866Z"
   },
   {
    "duration": 241,
    "start_time": "2023-03-15T14:55:43.294Z"
   },
   {
    "duration": 114,
    "start_time": "2023-03-15T14:59:11.809Z"
   },
   {
    "duration": 98,
    "start_time": "2023-03-15T15:09:14.640Z"
   },
   {
    "duration": 13,
    "start_time": "2023-03-15T15:10:28.254Z"
   }
  ],
  "kernelspec": {
   "display_name": "Python 3 (ipykernel)",
   "language": "python",
   "name": "python3"
  },
  "language_info": {
   "codemirror_mode": {
    "name": "ipython",
    "version": 3
   },
   "file_extension": ".py",
   "mimetype": "text/x-python",
   "name": "python",
   "nbconvert_exporter": "python",
   "pygments_lexer": "ipython3",
   "version": "3.10.9"
  },
  "toc": {
   "base_numbering": 1,
   "nav_menu": {},
   "number_sections": true,
   "sideBar": true,
   "skip_h1_title": true,
   "title_cell": "Содержание",
   "title_sidebar": "Contents",
   "toc_cell": true,
   "toc_position": {
    "height": "calc(100% - 180px)",
    "left": "10px",
    "top": "150px",
    "width": "293.99px"
   },
   "toc_section_display": true,
   "toc_window_display": true
  }
 },
 "nbformat": 4,
 "nbformat_minor": 2
}
